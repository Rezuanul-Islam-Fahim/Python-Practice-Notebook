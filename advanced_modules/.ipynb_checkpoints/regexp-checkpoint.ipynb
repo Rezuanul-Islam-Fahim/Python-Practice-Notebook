{
 "cells": [
  {
   "cell_type": "code",
   "execution_count": 1,
   "id": "0d5ee663",
   "metadata": {},
   "outputs": [],
   "source": [
    "import re"
   ]
  },
  {
   "cell_type": "code",
   "execution_count": 2,
   "id": "8f147a7b",
   "metadata": {},
   "outputs": [],
   "source": [
    "pattern = 'help'"
   ]
  },
  {
   "cell_type": "code",
   "execution_count": 3,
   "id": "dc234a22",
   "metadata": {},
   "outputs": [
    {
     "data": {
      "text/plain": [
       "<re.Match object; span=(10, 14), match='help'>"
      ]
     },
     "execution_count": 3,
     "metadata": {},
     "output_type": "execute_result"
    }
   ],
   "source": [
    "re.search(pattern, 'I want to help you')"
   ]
  },
  {
   "cell_type": "code",
   "execution_count": 4,
   "id": "ffa8c8ee",
   "metadata": {},
   "outputs": [],
   "source": [
    "match = re.search(pattern, 'I want to help you. I want to help you.')"
   ]
  },
  {
   "cell_type": "code",
   "execution_count": 5,
   "id": "1363634a",
   "metadata": {},
   "outputs": [
    {
     "data": {
      "text/plain": [
       "<re.Match object; span=(10, 14), match='help'>"
      ]
     },
     "execution_count": 5,
     "metadata": {},
     "output_type": "execute_result"
    }
   ],
   "source": [
    "match"
   ]
  },
  {
   "cell_type": "code",
   "execution_count": 6,
   "id": "f3a31d36",
   "metadata": {},
   "outputs": [
    {
     "data": {
      "text/plain": [
       "(10, 14)"
      ]
     },
     "execution_count": 6,
     "metadata": {},
     "output_type": "execute_result"
    }
   ],
   "source": [
    "match.span()"
   ]
  },
  {
   "cell_type": "code",
   "execution_count": 7,
   "id": "cd3012e8",
   "metadata": {},
   "outputs": [],
   "source": [
    "matches = re.findall(pattern, 'I want to help you. I want to help you.')"
   ]
  },
  {
   "cell_type": "code",
   "execution_count": 8,
   "id": "eabcaa2a",
   "metadata": {},
   "outputs": [
    {
     "data": {
      "text/plain": [
       "['help', 'help']"
      ]
     },
     "execution_count": 8,
     "metadata": {},
     "output_type": "execute_result"
    }
   ],
   "source": [
    "matches "
   ]
  },
  {
   "cell_type": "code",
   "execution_count": 9,
   "id": "095cf6a0",
   "metadata": {},
   "outputs": [
    {
     "name": "stdout",
     "output_type": "stream",
     "text": [
      "<re.Match object; span=(10, 14), match='help'>\n",
      "<re.Match object; span=(30, 34), match='help'>\n"
     ]
    }
   ],
   "source": [
    "for match in re.finditer(pattern, 'I want to help you. I want to help you.'):\n",
    "    print(match)"
   ]
  },
  {
   "cell_type": "code",
   "execution_count": 10,
   "id": "8673a896",
   "metadata": {},
   "outputs": [],
   "source": [
    "match = re.search(r'\\d\\d\\d-\\d\\d\\d\\d-\\d\\d\\d\\d', 'This is my phone number 555-6666-7777')"
   ]
  },
  {
   "cell_type": "code",
   "execution_count": 11,
   "id": "3bf0e6cf",
   "metadata": {},
   "outputs": [
    {
     "data": {
      "text/plain": [
       "<re.Match object; span=(24, 37), match='555-6666-7777'>"
      ]
     },
     "execution_count": 11,
     "metadata": {},
     "output_type": "execute_result"
    }
   ],
   "source": [
    "match"
   ]
  },
  {
   "cell_type": "code",
   "execution_count": 12,
   "id": "c0797c04",
   "metadata": {},
   "outputs": [
    {
     "data": {
      "text/plain": [
       "<re.Match object; span=(24, 37), match='555-6666-7777'>"
      ]
     },
     "execution_count": 12,
     "metadata": {},
     "output_type": "execute_result"
    }
   ],
   "source": [
    "re.search(r'\\d{3}-\\d{4}-\\d{4}', 'This is my phone number 555-6666-7777')"
   ]
  },
  {
   "cell_type": "code",
   "execution_count": 13,
   "id": "4e8b2376",
   "metadata": {},
   "outputs": [],
   "source": [
    "phone_pattern = re.compile(r'(\\d{3})-(\\d{4})-(\\d{4})')"
   ]
  },
  {
   "cell_type": "code",
   "execution_count": 14,
   "id": "d8c25dfc",
   "metadata": {},
   "outputs": [],
   "source": [
    "match = re.search(phone_pattern, 'This is my phone number 555-6666-7777')"
   ]
  },
  {
   "cell_type": "code",
   "execution_count": 15,
   "id": "20bac447",
   "metadata": {},
   "outputs": [
    {
     "data": {
      "text/plain": [
       "'555-6666-7777'"
      ]
     },
     "execution_count": 15,
     "metadata": {},
     "output_type": "execute_result"
    }
   ],
   "source": [
    "match.group()"
   ]
  },
  {
   "cell_type": "code",
   "execution_count": 16,
   "id": "60e4cf1a",
   "metadata": {},
   "outputs": [
    {
     "data": {
      "text/plain": [
       "'555'"
      ]
     },
     "execution_count": 16,
     "metadata": {},
     "output_type": "execute_result"
    }
   ],
   "source": [
    "match.group(1)"
   ]
  },
  {
   "cell_type": "code",
   "execution_count": 17,
   "id": "10374713",
   "metadata": {},
   "outputs": [
    {
     "data": {
      "text/plain": [
       "<re.Match object; span=(11, 14), match='dog'>"
      ]
     },
     "execution_count": 17,
     "metadata": {},
     "output_type": "execute_result"
    }
   ],
   "source": [
    "re.search(r'cat|dog', 'There is a dog')"
   ]
  },
  {
   "cell_type": "code",
   "execution_count": 18,
   "id": "0991d232",
   "metadata": {},
   "outputs": [
    {
     "data": {
      "text/plain": [
       "['cat', 'hat', 'sat']"
      ]
     },
     "execution_count": 18,
     "metadata": {},
     "output_type": "execute_result"
    }
   ],
   "source": [
    "re.findall(r'.at', 'The cat in the hat sat there.')"
   ]
  },
  {
   "cell_type": "code",
   "execution_count": 19,
   "id": "b5256253",
   "metadata": {},
   "outputs": [
    {
     "data": {
      "text/plain": [
       "[' cat', ' hat', ' sat']"
      ]
     },
     "execution_count": 19,
     "metadata": {},
     "output_type": "execute_result"
    }
   ],
   "source": [
    "re.findall(r'..at', 'The cat in the hat sat there.')"
   ]
  },
  {
   "cell_type": "code",
   "execution_count": 20,
   "id": "da82d1b9",
   "metadata": {},
   "outputs": [
    {
     "data": {
      "text/plain": [
       "['2']"
      ]
     },
     "execution_count": 20,
     "metadata": {},
     "output_type": "execute_result"
    }
   ],
   "source": [
    "re.findall(r'^\\d', '2 is a number')"
   ]
  },
  {
   "cell_type": "code",
   "execution_count": 21,
   "id": "88d10a84",
   "metadata": {},
   "outputs": [
    {
     "data": {
      "text/plain": [
       "[]"
      ]
     },
     "execution_count": 21,
     "metadata": {},
     "output_type": "execute_result"
    }
   ],
   "source": [
    "re.findall(r'^\\d', 'Two 2 is a number')"
   ]
  },
  {
   "cell_type": "code",
   "execution_count": 22,
   "id": "e51e9805",
   "metadata": {},
   "outputs": [
    {
     "data": {
      "text/plain": [
       "['2']"
      ]
     },
     "execution_count": 22,
     "metadata": {},
     "output_type": "execute_result"
    }
   ],
   "source": [
    "re.findall(r'\\d$', 'The number is 2')"
   ]
  },
  {
   "cell_type": "code",
   "execution_count": 23,
   "id": "08bb50b5",
   "metadata": {},
   "outputs": [
    {
     "data": {
      "text/plain": [
       "[]"
      ]
     },
     "execution_count": 23,
     "metadata": {},
     "output_type": "execute_result"
    }
   ],
   "source": [
    "re.findall(r'\\d$', 'The number is 2 two')"
   ]
  },
  {
   "cell_type": "code",
   "execution_count": 24,
   "id": "3fafc38b",
   "metadata": {},
   "outputs": [
    {
     "data": {
      "text/plain": [
       "['Hi ', '. There is ', ' some digits ']"
      ]
     },
     "execution_count": 24,
     "metadata": {},
     "output_type": "execute_result"
    }
   ],
   "source": [
    "re.findall(r'[^\\d]+', 'Hi 2. There is 6 some digits 22')"
   ]
  },
  {
   "cell_type": "code",
   "execution_count": 25,
   "id": "68af7bc7",
   "metadata": {},
   "outputs": [
    {
     "data": {
      "text/plain": [
       "['This is a string', ' But it has punctuation', ' How can we remove it']"
      ]
     },
     "execution_count": 25,
     "metadata": {},
     "output_type": "execute_result"
    }
   ],
   "source": [
    "re.findall(r'[^.!?]+', 'This is a string! But it has punctuation. How can we remove it?')"
   ]
  },
  {
   "cell_type": "code",
   "execution_count": 26,
   "id": "16ed0d52",
   "metadata": {},
   "outputs": [],
   "source": [
    "s = re.findall(r'[^.!? ]+', 'This is a string! But it has punctuation. How can we remove it?')"
   ]
  },
  {
   "cell_type": "code",
   "execution_count": 27,
   "id": "92ef0d56",
   "metadata": {},
   "outputs": [
    {
     "data": {
      "text/plain": [
       "'This is a string But it has punctuation How can we remove it'"
      ]
     },
     "execution_count": 27,
     "metadata": {},
     "output_type": "execute_result"
    }
   ],
   "source": [
    "' '.join(s)"
   ]
  },
  {
   "cell_type": "code",
   "execution_count": 28,
   "id": "a5e2bfaf",
   "metadata": {},
   "outputs": [
    {
     "data": {
      "text/plain": [
       "['hyphen-word1', 'word-hyphen2']"
      ]
     },
     "execution_count": 28,
     "metadata": {},
     "output_type": "execute_result"
    }
   ],
   "source": [
    "re.findall(r'[\\w]+-[\\w]+', 'These are hyphen-word1 and word-hyphen2')"
   ]
  },
  {
   "cell_type": "code",
   "execution_count": 29,
   "id": "8a67a71a",
   "metadata": {},
   "outputs": [],
   "source": [
    "text = 'Hello, would you like some catfish?'\n",
    "texttwo = \"Hello, would you like to take a catnap?\"\n",
    "textthree = \"Hello, have you seen this caterpillar?\""
   ]
  },
  {
   "cell_type": "code",
   "execution_count": 30,
   "id": "23ce5bb1",
   "metadata": {},
   "outputs": [],
   "source": [
    "pattern = r'cat(fish|nap|erpillar)'"
   ]
  },
  {
   "cell_type": "code",
   "execution_count": 31,
   "id": "463a1ab8",
   "metadata": {},
   "outputs": [
    {
     "data": {
      "text/plain": [
       "<re.Match object; span=(27, 34), match='catfish'>"
      ]
     },
     "execution_count": 31,
     "metadata": {},
     "output_type": "execute_result"
    }
   ],
   "source": [
    "re.search(pattern, text)"
   ]
  },
  {
   "cell_type": "code",
   "execution_count": 32,
   "id": "6e600750",
   "metadata": {},
   "outputs": [
    {
     "data": {
      "text/plain": [
       "<re.Match object; span=(32, 38), match='catnap'>"
      ]
     },
     "execution_count": 32,
     "metadata": {},
     "output_type": "execute_result"
    }
   ],
   "source": [
    "re.search(pattern, texttwo)"
   ]
  },
  {
   "cell_type": "code",
   "execution_count": 33,
   "id": "60f15390",
   "metadata": {},
   "outputs": [
    {
     "data": {
      "text/plain": [
       "<re.Match object; span=(26, 37), match='caterpillar'>"
      ]
     },
     "execution_count": 33,
     "metadata": {},
     "output_type": "execute_result"
    }
   ],
   "source": [
    "re.search(pattern, textthree)"
   ]
  },
  {
   "cell_type": "code",
   "execution_count": null,
   "id": "01c9933e",
   "metadata": {},
   "outputs": [],
   "source": []
  }
 ],
 "metadata": {
  "kernelspec": {
   "display_name": "Python 3 (ipykernel)",
   "language": "python",
   "name": "python3"
  },
  "language_info": {
   "codemirror_mode": {
    "name": "ipython",
    "version": 3
   },
   "file_extension": ".py",
   "mimetype": "text/x-python",
   "name": "python",
   "nbconvert_exporter": "python",
   "pygments_lexer": "ipython3",
   "version": "3.9.12"
  }
 },
 "nbformat": 4,
 "nbformat_minor": 5
}
