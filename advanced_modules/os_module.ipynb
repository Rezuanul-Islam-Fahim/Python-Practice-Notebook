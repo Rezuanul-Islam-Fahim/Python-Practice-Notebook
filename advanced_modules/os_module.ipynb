{
 "cells": [
  {
   "cell_type": "code",
   "execution_count": 1,
   "id": "99dea8f3",
   "metadata": {},
   "outputs": [],
   "source": [
    "import os"
   ]
  },
  {
   "cell_type": "code",
   "execution_count": 2,
   "id": "63e71609",
   "metadata": {},
   "outputs": [
    {
     "data": {
      "text/plain": [
       "'C:\\\\Users\\\\rifah\\\\Dropbox\\\\Coding Practice\\\\Python\\\\Python-Practice-Notebook\\\\advanced_modules'"
      ]
     },
     "execution_count": 2,
     "metadata": {},
     "output_type": "execute_result"
    }
   ],
   "source": [
    "os.getcwd()"
   ]
  },
  {
   "cell_type": "code",
   "execution_count": 3,
   "id": "a2e296c1",
   "metadata": {},
   "outputs": [
    {
     "data": {
      "text/plain": [
       "['.ipynb_checkpoints',\n",
       " 'collections.ipynb',\n",
       " 'comp_file.zip',\n",
       " 'datetime.ipynb',\n",
       " 'example.zip',\n",
       " 'extracted_content',\n",
       " 'fileone.txt',\n",
       " 'filetwo.txt',\n",
       " 'final_archive_folder',\n",
       " 'math_random.ipynb',\n",
       " 'os_module.ipynb',\n",
       " 'python_debugger.ipynb',\n",
       " 'regexp.ipynb',\n",
       " 'timing.ipynb',\n",
       " 'untitled.txt',\n",
       " 'zip_unzip.ipynb']"
      ]
     },
     "execution_count": 3,
     "metadata": {},
     "output_type": "execute_result"
    }
   ],
   "source": [
    "os.listdir()"
   ]
  },
  {
   "cell_type": "code",
   "execution_count": 4,
   "id": "86507942",
   "metadata": {},
   "outputs": [
    {
     "data": {
      "text/plain": [
       "['All Users', 'Default', 'Default User', 'desktop.ini', 'Public', 'rifah']"
      ]
     },
     "execution_count": 4,
     "metadata": {},
     "output_type": "execute_result"
    }
   ],
   "source": [
    "os.listdir('C:\\\\users')"
   ]
  },
  {
   "cell_type": "code",
   "execution_count": 5,
   "id": "35629d73",
   "metadata": {},
   "outputs": [],
   "source": [
    "import shutil"
   ]
  },
  {
   "cell_type": "code",
   "execution_count": 6,
   "id": "484f7de7",
   "metadata": {},
   "outputs": [
    {
     "data": {
      "text/plain": [
       "'C:\\\\Users\\\\rifah\\\\Desktop\\\\untitled.txt'"
      ]
     },
     "execution_count": 6,
     "metadata": {},
     "output_type": "execute_result"
    }
   ],
   "source": [
    "shutil.move('untitled.txt', 'C:\\\\Users\\\\rifah\\\\Desktop')"
   ]
  },
  {
   "cell_type": "code",
   "execution_count": 7,
   "id": "d33711b7",
   "metadata": {},
   "outputs": [
    {
     "data": {
      "text/plain": [
       "'C:\\\\Users\\\\rifah\\\\Dropbox\\\\Coding Practice\\\\Python\\\\Python-Practice-Notebook\\\\advanced_modules\\\\untitled.txt'"
      ]
     },
     "execution_count": 7,
     "metadata": {},
     "output_type": "execute_result"
    }
   ],
   "source": [
    "shutil.move('C:\\\\Users\\\\rifah\\\\Desktop\\\\untitled.txt', os.getcwd())"
   ]
  },
  {
   "cell_type": "code",
   "execution_count": 8,
   "id": "36dfb07d",
   "metadata": {},
   "outputs": [],
   "source": [
    "import send2trash"
   ]
  },
  {
   "cell_type": "code",
   "execution_count": 9,
   "id": "cc9dc3fa",
   "metadata": {},
   "outputs": [],
   "source": [
    "send2trash.send2trash('untitled.txt')"
   ]
  },
  {
   "cell_type": "code",
   "execution_count": 10,
   "id": "892c37c5",
   "metadata": {},
   "outputs": [],
   "source": [
    "# for folder,sub_folders,files in os.walk('C:\\\\Users\\\\rifah\\\\Dropbox\\\\Coding Practice\\\\Python\\\\Python-Practice-Notebook'):\n",
    "#     print('Folder: {}\\n'.format(folder))\n",
    "    \n",
    "#     for subf in sub_folders:\n",
    "#         print('\\tSub Folder: {}'.format(subf))\n",
    "#     print('\\n')\n",
    "    \n",
    "#     for file in files:\n",
    "#         print('\\t\\tFile: {}'.format(file))\n",
    "#     print('\\n')"
   ]
  },
  {
   "cell_type": "code",
   "execution_count": null,
   "id": "7ac9ea51",
   "metadata": {},
   "outputs": [],
   "source": []
  }
 ],
 "metadata": {
  "kernelspec": {
   "display_name": "Python 3 (ipykernel)",
   "language": "python",
   "name": "python3"
  },
  "language_info": {
   "codemirror_mode": {
    "name": "ipython",
    "version": 3
   },
   "file_extension": ".py",
   "mimetype": "text/x-python",
   "name": "python",
   "nbconvert_exporter": "python",
   "pygments_lexer": "ipython3",
   "version": "3.9.12"
  }
 },
 "nbformat": 4,
 "nbformat_minor": 5
}
