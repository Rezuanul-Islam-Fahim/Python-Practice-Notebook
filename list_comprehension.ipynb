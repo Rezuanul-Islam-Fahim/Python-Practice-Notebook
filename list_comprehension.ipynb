{
 "cells": [
  {
   "cell_type": "code",
   "execution_count": 1,
   "id": "a25868ae",
   "metadata": {},
   "outputs": [],
   "source": [
    "myword = 'hello world'"
   ]
  },
  {
   "cell_type": "code",
   "execution_count": 2,
   "id": "9ab7a3c9",
   "metadata": {},
   "outputs": [],
   "source": [
    "mylist = []"
   ]
  },
  {
   "cell_type": "code",
   "execution_count": 3,
   "id": "a850dab2",
   "metadata": {},
   "outputs": [],
   "source": [
    "for letter in myword:\n",
    "    mylist.append(letter)"
   ]
  },
  {
   "cell_type": "code",
   "execution_count": 4,
   "id": "b6741a46",
   "metadata": {},
   "outputs": [
    {
     "data": {
      "text/plain": [
       "['h', 'e', 'l', 'l', 'o', ' ', 'w', 'o', 'r', 'l', 'd']"
      ]
     },
     "execution_count": 4,
     "metadata": {},
     "output_type": "execute_result"
    }
   ],
   "source": [
    "mylist"
   ]
  },
  {
   "cell_type": "code",
   "execution_count": 5,
   "id": "1c671115",
   "metadata": {},
   "outputs": [],
   "source": [
    "myword = 'hello'"
   ]
  },
  {
   "cell_type": "code",
   "execution_count": 6,
   "id": "6235fccc",
   "metadata": {},
   "outputs": [],
   "source": [
    "mylist = [x for x in myword]"
   ]
  },
  {
   "cell_type": "code",
   "execution_count": 7,
   "id": "2bbae3f3",
   "metadata": {},
   "outputs": [
    {
     "data": {
      "text/plain": [
       "['h', 'e', 'l', 'l', 'o']"
      ]
     },
     "execution_count": 7,
     "metadata": {},
     "output_type": "execute_result"
    }
   ],
   "source": [
    "mylist"
   ]
  },
  {
   "cell_type": "code",
   "execution_count": 8,
   "id": "7a680cb9",
   "metadata": {},
   "outputs": [
    {
     "data": {
      "text/plain": [
       "['w', 'o', 'r', 'l', 'd']"
      ]
     },
     "execution_count": 8,
     "metadata": {},
     "output_type": "execute_result"
    }
   ],
   "source": [
    "[x for x in 'world']"
   ]
  },
  {
   "cell_type": "code",
   "execution_count": 9,
   "id": "f3a236a5",
   "metadata": {},
   "outputs": [],
   "source": [
    "mylist = [num for num in range(0,20)]"
   ]
  },
  {
   "cell_type": "code",
   "execution_count": 10,
   "id": "63cc13e2",
   "metadata": {},
   "outputs": [
    {
     "data": {
      "text/plain": [
       "[0, 1, 2, 3, 4, 5, 6, 7, 8, 9, 10, 11, 12, 13, 14, 15, 16, 17, 18, 19]"
      ]
     },
     "execution_count": 10,
     "metadata": {},
     "output_type": "execute_result"
    }
   ],
   "source": [
    "mylist"
   ]
  },
  {
   "cell_type": "code",
   "execution_count": 11,
   "id": "ad50c399",
   "metadata": {},
   "outputs": [],
   "source": [
    "mylist = [num**2 for num in range(0,10)]"
   ]
  },
  {
   "cell_type": "code",
   "execution_count": 12,
   "id": "4f0de197",
   "metadata": {},
   "outputs": [
    {
     "data": {
      "text/plain": [
       "[0, 1, 4, 9, 16, 25, 36, 49, 64, 81]"
      ]
     },
     "execution_count": 12,
     "metadata": {},
     "output_type": "execute_result"
    }
   ],
   "source": [
    "mylist"
   ]
  },
  {
   "cell_type": "code",
   "execution_count": 13,
   "id": "976655e8",
   "metadata": {},
   "outputs": [
    {
     "name": "stdout",
     "output_type": "stream",
     "text": [
      "[2, 4, 6, 8]\n"
     ]
    }
   ],
   "source": [
    "mylist = [1,2,3,4,5,6,7,8,9]\n",
    "print([num for num in mylist if num%2==0])"
   ]
  },
  {
   "cell_type": "code",
   "execution_count": 14,
   "id": "5dd88616",
   "metadata": {},
   "outputs": [
    {
     "name": "stdout",
     "output_type": "stream",
     "text": [
      "[0, 'odd', 2, 'odd', 4, 'odd', 6, 'odd', 8, 'odd', 10, 'odd', 12, 'odd', 14, 'odd', 16, 'odd', 18, 'odd']\n"
     ]
    }
   ],
   "source": [
    "print([num if num%2==0 else 'odd' for num in range(0,20)])"
   ]
  },
  {
   "cell_type": "code",
   "execution_count": 15,
   "id": "ddc5cba5",
   "metadata": {},
   "outputs": [
    {
     "data": {
      "text/plain": [
       "[5, 6, 7, 10, 12, 14, 15, 18, 21]"
      ]
     },
     "execution_count": 15,
     "metadata": {},
     "output_type": "execute_result"
    }
   ],
   "source": [
    "[x*y for x in range(1,4) for y in range(5,8)]"
   ]
  },
  {
   "cell_type": "code",
   "execution_count": null,
   "id": "d6f3ef49",
   "metadata": {},
   "outputs": [],
   "source": []
  }
 ],
 "metadata": {
  "kernelspec": {
   "display_name": "Python 3 (ipykernel)",
   "language": "python",
   "name": "python3"
  },
  "language_info": {
   "codemirror_mode": {
    "name": "ipython",
    "version": 3
   },
   "file_extension": ".py",
   "mimetype": "text/x-python",
   "name": "python",
   "nbconvert_exporter": "python",
   "pygments_lexer": "ipython3",
   "version": "3.11.4"
  }
 },
 "nbformat": 4,
 "nbformat_minor": 5
}
