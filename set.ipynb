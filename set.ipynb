{
 "cells": [
  {
   "cell_type": "code",
   "execution_count": 1,
   "id": "03e7ffa6",
   "metadata": {},
   "outputs": [],
   "source": [
    "my_set = set()"
   ]
  },
  {
   "cell_type": "code",
   "execution_count": 2,
   "id": "cd4cfd30",
   "metadata": {},
   "outputs": [
    {
     "data": {
      "text/plain": [
       "set()"
      ]
     },
     "execution_count": 2,
     "metadata": {},
     "output_type": "execute_result"
    }
   ],
   "source": [
    "my_set"
   ]
  },
  {
   "cell_type": "code",
   "execution_count": 5,
   "id": "45613061",
   "metadata": {},
   "outputs": [],
   "source": [
    "my_set.add(4)\n",
    "my_set.add(1)\n",
    "my_set.add(2)\n",
    "my_set.add(2)"
   ]
  },
  {
   "cell_type": "code",
   "execution_count": 6,
   "id": "577c3f2d",
   "metadata": {},
   "outputs": [
    {
     "data": {
      "text/plain": [
       "{1, 2, 4}"
      ]
     },
     "execution_count": 6,
     "metadata": {},
     "output_type": "execute_result"
    }
   ],
   "source": [
    "my_set"
   ]
  },
  {
   "cell_type": "code",
   "execution_count": 7,
   "id": "53b2d867",
   "metadata": {},
   "outputs": [],
   "source": [
    "my_set = set([5, 43, 3, 2, 3, 4, 5, 6, 1, 2, 3, 3])"
   ]
  },
  {
   "cell_type": "code",
   "execution_count": 8,
   "id": "b4f04bbc",
   "metadata": {},
   "outputs": [
    {
     "data": {
      "text/plain": [
       "{1, 2, 3, 4, 5, 6, 43}"
      ]
     },
     "execution_count": 8,
     "metadata": {},
     "output_type": "execute_result"
    }
   ],
   "source": [
    "my_set"
   ]
  },
  {
   "cell_type": "code",
   "execution_count": 9,
   "id": "07181947",
   "metadata": {},
   "outputs": [],
   "source": [
    "my_list = [1, 1, 1, 1, 1, 1, 2, 2, 2, 2, 2, 2, 2, 3, 3, 4, 4, 4, 4, 5, 5]"
   ]
  },
  {
   "cell_type": "code",
   "execution_count": 10,
   "id": "87f67fee",
   "metadata": {},
   "outputs": [],
   "source": [
    "my_set = set(my_list)"
   ]
  },
  {
   "cell_type": "code",
   "execution_count": 11,
   "id": "d3cfa94c",
   "metadata": {},
   "outputs": [
    {
     "data": {
      "text/plain": [
       "{1, 2, 3, 4, 5}"
      ]
     },
     "execution_count": 11,
     "metadata": {},
     "output_type": "execute_result"
    }
   ],
   "source": [
    "my_set"
   ]
  },
  {
   "cell_type": "code",
   "execution_count": null,
   "id": "962b43d9",
   "metadata": {},
   "outputs": [],
   "source": []
  }
 ],
 "metadata": {
  "kernelspec": {
   "display_name": "Python 3 (ipykernel)",
   "language": "python",
   "name": "python3"
  },
  "language_info": {
   "codemirror_mode": {
    "name": "ipython",
    "version": 3
   },
   "file_extension": ".py",
   "mimetype": "text/x-python",
   "name": "python",
   "nbconvert_exporter": "python",
   "pygments_lexer": "ipython3",
   "version": "3.9.12"
  }
 },
 "nbformat": 4,
 "nbformat_minor": 5
}
