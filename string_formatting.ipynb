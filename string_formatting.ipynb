{
 "cells": [
  {
   "cell_type": "markdown",
   "id": "43ac21de",
   "metadata": {},
   "source": [
    "#  String formatting using .format() method"
   ]
  },
  {
   "cell_type": "code",
   "execution_count": 1,
   "id": "d1846fd8",
   "metadata": {},
   "outputs": [
    {
     "name": "stdout",
     "output_type": "stream",
     "text": [
      "Strings: str1, str2, str3\n"
     ]
    }
   ],
   "source": [
    "print('Strings: {}, {}, {}'.format('str1', 'str2', 'str3'))"
   ]
  },
  {
   "cell_type": "code",
   "execution_count": 2,
   "id": "5dfef465",
   "metadata": {},
   "outputs": [
    {
     "name": "stdout",
     "output_type": "stream",
     "text": [
      "Strings: str1, str2, str3\n"
     ]
    }
   ],
   "source": [
    "print('Strings: {1}, {0}, {2}'.format('str2', 'str1', 'str3'))"
   ]
  },
  {
   "cell_type": "code",
   "execution_count": 3,
   "id": "9306c9e9",
   "metadata": {},
   "outputs": [
    {
     "name": "stdout",
     "output_type": "stream",
     "text": [
      "Strings: str1, str2, str3\n"
     ]
    }
   ],
   "source": [
    "print('Strings: {a}, {b}, {c}'.format(b='str2', a='str1', c='str3'))"
   ]
  },
  {
   "cell_type": "code",
   "execution_count": 4,
   "id": "ca77059b",
   "metadata": {},
   "outputs": [
    {
     "name": "stdout",
     "output_type": "stream",
     "text": [
      "Strings: str1, str1, str1\n"
     ]
    }
   ],
   "source": [
    "print('Strings: {a}, {a}, {a}'.format(b='str2', a='str1', c='str3'))"
   ]
  },
  {
   "cell_type": "code",
   "execution_count": 5,
   "id": "6db3ab19",
   "metadata": {},
   "outputs": [
    {
     "name": "stdout",
     "output_type": "stream",
     "text": [
      "Result: 1.2987012987012987\n",
      "Result: 1.2987012987012987\n",
      "Result:     1.2987\n",
      "Result: 1.299\n",
      "Result: 1.29870\n"
     ]
    }
   ],
   "source": [
    "result = 100/77\n",
    "print('Result: {}'.format(result))\n",
    "print('Result: {r}'.format(r=result))\n",
    "print('Result: {r:10.4f}'.format(r=result))\n",
    "print('Result: {r:1.3f}'.format(r=result))\n",
    "print('Result: {0:1.5f}'.format(result))"
   ]
  },
  {
   "cell_type": "code",
   "execution_count": 6,
   "id": "3e7daa48",
   "metadata": {},
   "outputs": [
    {
     "name": "stdout",
     "output_type": "stream",
     "text": [
      "Result: 33.333333333333336\n",
      "Result: 33.333\n"
     ]
    }
   ],
   "source": [
    "num = 100/3\n",
    "print('Result: {}'.format(num))\n",
    "print('Result: {n:2.3f}'.format(n=num))"
   ]
  },
  {
   "cell_type": "code",
   "execution_count": 7,
   "id": "609ec2ff",
   "metadata": {},
   "outputs": [
    {
     "name": "stdout",
     "output_type": "stream",
     "text": [
      "Hello    | World    \n",
      "String   |       7.0\n",
      "Str      |        10\n"
     ]
    }
   ],
   "source": [
    "print('{0:8} | {1:9}'.format('Hello', 'World'))\n",
    "print('{0:8} | {1:9}'.format('String', 7.))\n",
    "print('{0:8} | {1:9}'.format('Str', 10))"
   ]
  },
  {
   "cell_type": "code",
   "execution_count": 8,
   "id": "819f06b4",
   "metadata": {},
   "outputs": [
    {
     "name": "stdout",
     "output_type": "stream",
     "text": [
      "str1     |   str2   |     str2\n",
      "10       |    20    |       30\n"
     ]
    }
   ],
   "source": [
    "print('{0:<8} | {1:^8} | {1:>8}'.format('str1', 'str2', 'str3'))\n",
    "print('{0:<8} | {1:^8} | {2:>8}'.format(10, 20, 30))"
   ]
  },
  {
   "cell_type": "code",
   "execution_count": 9,
   "id": "4202a93e",
   "metadata": {},
   "outputs": [
    {
     "name": "stdout",
     "output_type": "stream",
     "text": [
      "str1==== | ..str2.. | ----str3\n",
      "10====== | ...20... | ------30\n"
     ]
    }
   ],
   "source": [
    "print('{0:=<8} | {1:.^8} | {2:->8}'.format('str1', 'str2', 'str3'))\n",
    "print('{0:=<8} | {1:.^8} | {2:->8}'.format(10, 20, 30))"
   ]
  },
  {
   "cell_type": "markdown",
   "id": "6a051f2c",
   "metadata": {},
   "source": [
    "# Format string using string literals (f-string)"
   ]
  },
  {
   "cell_type": "code",
   "execution_count": 10,
   "id": "6a96d4b1",
   "metadata": {},
   "outputs": [
    {
     "name": "stdout",
     "output_type": "stream",
     "text": [
      "Fahim is 22 years old\n",
      "My name is Fahim\n"
     ]
    }
   ],
   "source": [
    "name = 'Fahim'\n",
    "age = 22\n",
    "print(f'{name} is {age} years old')\n",
    "print(f'My name is {name}')"
   ]
  },
  {
   "cell_type": "code",
   "execution_count": 11,
   "id": "fd1ada46",
   "metadata": {},
   "outputs": [
    {
     "name": "stdout",
     "output_type": "stream",
     "text": [
      "Number: 45.777678678678676\n",
      "Number:    45.7777\n"
     ]
    }
   ],
   "source": [
    "num1 = 45.777678678678678\n",
    "print(f'Number: {num1}')\n",
    "print(f'Number: {num1:10.4f}')"
   ]
  },
  {
   "cell_type": "code",
   "execution_count": 13,
   "id": "6d8c8679",
   "metadata": {},
   "outputs": [
    {
     "name": "stdout",
     "output_type": "stream",
     "text": [
      "Number:   23.45000\n"
     ]
    }
   ],
   "source": [
    "num2 = 23.45\n",
    "print(f'Number: {num2:10.5f}')"
   ]
  },
  {
   "cell_type": "code",
   "execution_count": null,
   "id": "4e77b984",
   "metadata": {},
   "outputs": [],
   "source": []
  }
 ],
 "metadata": {
  "kernelspec": {
   "display_name": "Python 3 (ipykernel)",
   "language": "python",
   "name": "python3"
  },
  "language_info": {
   "codemirror_mode": {
    "name": "ipython",
    "version": 3
   },
   "file_extension": ".py",
   "mimetype": "text/x-python",
   "name": "python",
   "nbconvert_exporter": "python",
   "pygments_lexer": "ipython3",
   "version": "3.9.12"
  }
 },
 "nbformat": 4,
 "nbformat_minor": 5
}
