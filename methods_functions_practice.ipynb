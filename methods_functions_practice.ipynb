{
 "cells": [
  {
   "cell_type": "code",
   "execution_count": 1,
   "id": "b2c37897",
   "metadata": {},
   "outputs": [],
   "source": [
    "def myfunc(s):\n",
    "    first_letter = s[0].upper()\n",
    "    middle_letters = s[1:3]\n",
    "    fourth_letter = s[3].upper()\n",
    "    last_letters = s[4:]\n",
    "    \n",
    "    return first_letter + middle_letters + fourth_letter + last_letters"
   ]
  },
  {
   "cell_type": "code",
   "execution_count": 2,
   "id": "ec42c7fd",
   "metadata": {},
   "outputs": [
    {
     "data": {
      "text/plain": [
       "'MacDonald'"
      ]
     },
     "execution_count": 2,
     "metadata": {},
     "output_type": "execute_result"
    }
   ],
   "source": [
    "myfunc('macdonald')"
   ]
  },
  {
   "cell_type": "code",
   "execution_count": 3,
   "id": "dd194319",
   "metadata": {},
   "outputs": [],
   "source": [
    "def myfunc(s):\n",
    "    first_letters = s[:3]\n",
    "    last_letters = s[3:]\n",
    "    \n",
    "    return first_letters.capitalize() + last_letters.capitalize()"
   ]
  },
  {
   "cell_type": "code",
   "execution_count": 4,
   "id": "63333cce",
   "metadata": {},
   "outputs": [
    {
     "data": {
      "text/plain": [
       "'MacDonald'"
      ]
     },
     "execution_count": 4,
     "metadata": {},
     "output_type": "execute_result"
    }
   ],
   "source": [
    "myfunc('macdonald')"
   ]
  },
  {
   "cell_type": "code",
   "execution_count": 5,
   "id": "cc48b293",
   "metadata": {},
   "outputs": [],
   "source": [
    "def reversed_sentence(s):\n",
    "#     reversed_s = reversed(s.split())\n",
    "    reversed_s = s.split()[::-1]\n",
    "    return ' '.join(reversed_s)"
   ]
  },
  {
   "cell_type": "code",
   "execution_count": 6,
   "id": "cfc1c769",
   "metadata": {},
   "outputs": [
    {
     "data": {
      "text/plain": [
       "'you are how'"
      ]
     },
     "execution_count": 6,
     "metadata": {},
     "output_type": "execute_result"
    }
   ],
   "source": [
    "reversed_sentence('how are you')"
   ]
  },
  {
   "cell_type": "code",
   "execution_count": null,
   "id": "4865ce29",
   "metadata": {},
   "outputs": [],
   "source": []
  }
 ],
 "metadata": {
  "kernelspec": {
   "display_name": "Python 3 (ipykernel)",
   "language": "python",
   "name": "python3"
  },
  "language_info": {
   "codemirror_mode": {
    "name": "ipython",
    "version": 3
   },
   "file_extension": ".py",
   "mimetype": "text/x-python",
   "name": "python",
   "nbconvert_exporter": "python",
   "pygments_lexer": "ipython3",
   "version": "3.9.12"
  }
 },
 "nbformat": 4,
 "nbformat_minor": 5
}
