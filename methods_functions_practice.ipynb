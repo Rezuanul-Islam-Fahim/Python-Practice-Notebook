{
 "cells": [
  {
   "cell_type": "code",
   "execution_count": 1,
   "id": "b2c37897",
   "metadata": {},
   "outputs": [],
   "source": [
    "def myfunc(s):\n",
    "    first_letter = s[0].upper()\n",
    "    middle_letters = s[1:3]\n",
    "    fourth_letter = s[3].upper()\n",
    "    last_letters = s[4:]\n",
    "    \n",
    "    return first_letter + middle_letters + fourth_letter + last_letters"
   ]
  },
  {
   "cell_type": "code",
   "execution_count": 2,
   "id": "ec42c7fd",
   "metadata": {},
   "outputs": [
    {
     "data": {
      "text/plain": [
       "'MacDonald'"
      ]
     },
     "execution_count": 2,
     "metadata": {},
     "output_type": "execute_result"
    }
   ],
   "source": [
    "myfunc('macdonald')"
   ]
  },
  {
   "cell_type": "code",
   "execution_count": 3,
   "id": "dd194319",
   "metadata": {},
   "outputs": [],
   "source": [
    "def myfunc(s):\n",
    "    first_letters = s[:3]\n",
    "    last_letters = s[3:]\n",
    "    \n",
    "    return first_letters.capitalize() + last_letters.capitalize()"
   ]
  },
  {
   "cell_type": "code",
   "execution_count": 4,
   "id": "63333cce",
   "metadata": {},
   "outputs": [
    {
     "data": {
      "text/plain": [
       "'MacDonald'"
      ]
     },
     "execution_count": 4,
     "metadata": {},
     "output_type": "execute_result"
    }
   ],
   "source": [
    "myfunc('macdonald')"
   ]
  },
  {
   "cell_type": "code",
   "execution_count": 5,
   "id": "cc48b293",
   "metadata": {},
   "outputs": [],
   "source": [
    "def reversed_sentence(s):\n",
    "#     reversed_s = reversed(s.split())\n",
    "    reversed_s = s.split()[::-1]\n",
    "    return ' '.join(reversed_s)"
   ]
  },
  {
   "cell_type": "code",
   "execution_count": 6,
   "id": "cfc1c769",
   "metadata": {},
   "outputs": [
    {
     "data": {
      "text/plain": [
       "'you are how'"
      ]
     },
     "execution_count": 6,
     "metadata": {},
     "output_type": "execute_result"
    }
   ],
   "source": [
    "reversed_sentence('how are you')"
   ]
  },
  {
   "cell_type": "code",
   "execution_count": 7,
   "id": "4865ce29",
   "metadata": {},
   "outputs": [],
   "source": [
    "def sentence_change(s):\n",
    "    result = ''\n",
    "    \n",
    "    for c in s:\n",
    "        result += c*3\n",
    "    \n",
    "    return result"
   ]
  },
  {
   "cell_type": "code",
   "execution_count": 8,
   "id": "3a3928d6",
   "metadata": {},
   "outputs": [
    {
     "data": {
      "text/plain": [
       "'hhheeellllllooo'"
      ]
     },
     "execution_count": 8,
     "metadata": {},
     "output_type": "execute_result"
    }
   ],
   "source": [
    "sentence_change('hello')"
   ]
  },
  {
   "cell_type": "code",
   "execution_count": 9,
   "id": "9ca887f6",
   "metadata": {},
   "outputs": [],
   "source": [
    "def spy_game(nums):\n",
    "    check = [0,0,7]\n",
    "    ind = 0\n",
    "    \n",
    "    for n in nums:\n",
    "        if (n==check[ind]):\n",
    "            ind+=1\n",
    "            if (ind == 3):\n",
    "                return True\n",
    "    \n",
    "    return False"
   ]
  },
  {
   "cell_type": "code",
   "execution_count": 10,
   "id": "bd77fe83",
   "metadata": {},
   "outputs": [
    {
     "data": {
      "text/plain": [
       "True"
      ]
     },
     "execution_count": 10,
     "metadata": {},
     "output_type": "execute_result"
    }
   ],
   "source": [
    "spy_game([1,2,4,0,0,7,2])"
   ]
  },
  {
   "cell_type": "code",
   "execution_count": 11,
   "id": "04eced33",
   "metadata": {},
   "outputs": [
    {
     "data": {
      "text/plain": [
       "True"
      ]
     },
     "execution_count": 11,
     "metadata": {},
     "output_type": "execute_result"
    }
   ],
   "source": [
    "spy_game([1,0,2,4,0,5,7])"
   ]
  },
  {
   "cell_type": "code",
   "execution_count": 12,
   "id": "58643d84",
   "metadata": {},
   "outputs": [
    {
     "data": {
      "text/plain": [
       "False"
      ]
     },
     "execution_count": 12,
     "metadata": {},
     "output_type": "execute_result"
    }
   ],
   "source": [
    "spy_game([1,7,2,0,4,5,0])"
   ]
  },
  {
   "cell_type": "code",
   "execution_count": 13,
   "id": "c5786565",
   "metadata": {},
   "outputs": [],
   "source": [
    "def spy_game(nums):\n",
    "    check = [0,0,7]\n",
    "    for n in nums:\n",
    "        if n==check[0]:\n",
    "            check.pop(0)\n",
    "            if(len(check)==0):\n",
    "                break\n",
    "    \n",
    "    return len(check)==0"
   ]
  },
  {
   "cell_type": "code",
   "execution_count": 14,
   "id": "fe48ee04",
   "metadata": {},
   "outputs": [
    {
     "data": {
      "text/plain": [
       "True"
      ]
     },
     "execution_count": 14,
     "metadata": {},
     "output_type": "execute_result"
    }
   ],
   "source": [
    "spy_game([1,2,4,0,0,7,2])"
   ]
  },
  {
   "cell_type": "code",
   "execution_count": 15,
   "id": "0acc7f61",
   "metadata": {},
   "outputs": [
    {
     "data": {
      "text/plain": [
       "True"
      ]
     },
     "execution_count": 15,
     "metadata": {},
     "output_type": "execute_result"
    }
   ],
   "source": [
    "spy_game([1,0,2,4,0,5,7])"
   ]
  },
  {
   "cell_type": "code",
   "execution_count": 16,
   "id": "06d41878",
   "metadata": {},
   "outputs": [
    {
     "data": {
      "text/plain": [
       "False"
      ]
     },
     "execution_count": 16,
     "metadata": {},
     "output_type": "execute_result"
    }
   ],
   "source": [
    "spy_game([1,7,2,0,4,5,0])"
   ]
  },
  {
   "cell_type": "code",
   "execution_count": null,
   "id": "b6127fb8",
   "metadata": {},
   "outputs": [],
   "source": []
  }
 ],
 "metadata": {
  "kernelspec": {
   "display_name": "Python 3 (ipykernel)",
   "language": "python",
   "name": "python3"
  },
  "language_info": {
   "codemirror_mode": {
    "name": "ipython",
    "version": 3
   },
   "file_extension": ".py",
   "mimetype": "text/x-python",
   "name": "python",
   "nbconvert_exporter": "python",
   "pygments_lexer": "ipython3",
   "version": "3.11.4"
  }
 },
 "nbformat": 4,
 "nbformat_minor": 5
}
