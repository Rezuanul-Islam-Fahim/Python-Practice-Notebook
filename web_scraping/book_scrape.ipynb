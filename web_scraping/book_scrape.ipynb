{
 "cells": [
  {
   "cell_type": "code",
   "execution_count": 1,
   "id": "70f14b14",
   "metadata": {},
   "outputs": [],
   "source": [
    "import requests\n",
    "import bs4"
   ]
  },
  {
   "cell_type": "code",
   "execution_count": 2,
   "id": "2d2281ca",
   "metadata": {},
   "outputs": [],
   "source": [
    "base_url = 'http://books.toscrape.com/catalogue/page-{}.html'"
   ]
  },
  {
   "cell_type": "code",
   "execution_count": 3,
   "id": "e5360d19",
   "metadata": {},
   "outputs": [],
   "source": [
    "req = requests.get(base_url.format(1))"
   ]
  },
  {
   "cell_type": "code",
   "execution_count": 4,
   "id": "f1e179dc",
   "metadata": {},
   "outputs": [],
   "source": [
    "soup = bs4.BeautifulSoup(req.text,'lxml')"
   ]
  },
  {
   "cell_type": "code",
   "execution_count": 5,
   "id": "70582c34",
   "metadata": {},
   "outputs": [],
   "source": [
    "# soup"
   ]
  },
  {
   "cell_type": "code",
   "execution_count": 6,
   "id": "818c802b",
   "metadata": {},
   "outputs": [],
   "source": [
    "items = soup.select('.product_pod')"
   ]
  },
  {
   "cell_type": "code",
   "execution_count": 7,
   "id": "193e20cc",
   "metadata": {},
   "outputs": [],
   "source": [
    "example_item = items[0]"
   ]
  },
  {
   "cell_type": "code",
   "execution_count": 8,
   "id": "f5636d83",
   "metadata": {},
   "outputs": [
    {
     "data": {
      "text/plain": [
       "[<p class=\"star-rating Three\">\n",
       " <i class=\"icon-star\"></i>\n",
       " <i class=\"icon-star\"></i>\n",
       " <i class=\"icon-star\"></i>\n",
       " <i class=\"icon-star\"></i>\n",
       " <i class=\"icon-star\"></i>\n",
       " </p>]"
      ]
     },
     "execution_count": 8,
     "metadata": {},
     "output_type": "execute_result"
    }
   ],
   "source": [
    "example_item.select('.star-rating.Three')"
   ]
  },
  {
   "cell_type": "code",
   "execution_count": 9,
   "id": "61d89bac",
   "metadata": {},
   "outputs": [
    {
     "data": {
      "text/plain": [
       "[<a href=\"a-light-in-the-attic_1000/index.html\"><img alt=\"A Light in the Attic\" class=\"thumbnail\" src=\"../media/cache/2c/da/2cdad67c44b002e7ead0cc35693c0e8b.jpg\"/></a>,\n",
       " <a href=\"a-light-in-the-attic_1000/index.html\" title=\"A Light in the Attic\">A Light in the ...</a>]"
      ]
     },
     "execution_count": 9,
     "metadata": {},
     "output_type": "execute_result"
    }
   ],
   "source": [
    "example_item.select('a')"
   ]
  },
  {
   "cell_type": "code",
   "execution_count": 10,
   "id": "3b2632c0",
   "metadata": {},
   "outputs": [
    {
     "data": {
      "text/plain": [
       "'A Light in the Attic'"
      ]
     },
     "execution_count": 10,
     "metadata": {},
     "output_type": "execute_result"
    }
   ],
   "source": [
    "example_item.select('a')[1]['title']"
   ]
  },
  {
   "cell_type": "code",
   "execution_count": 11,
   "id": "0f82ad32",
   "metadata": {},
   "outputs": [],
   "source": [
    "def get_2_star_titles():\n",
    "    for n in range(1,51):\n",
    "        req = requests.get(base_url.format(n))\n",
    "        soup = bs4.BeautifulSoup(req.text,'lxml')\n",
    "        \n",
    "        for book in soup.select('.product_pod'):\n",
    "            if len(book.select('.star-rating.Two')) != 0:\n",
    "                yield book.select('a')[1]['title']"
   ]
  },
  {
   "cell_type": "code",
   "execution_count": 12,
   "id": "57031941",
   "metadata": {},
   "outputs": [],
   "source": [
    "# for title in get_2_star_titles():\n",
    "#     print(title)"
   ]
  },
  {
   "cell_type": "code",
   "execution_count": null,
   "id": "b868b18e",
   "metadata": {},
   "outputs": [],
   "source": []
  }
 ],
 "metadata": {
  "kernelspec": {
   "display_name": "Python 3 (ipykernel)",
   "language": "python",
   "name": "python3"
  },
  "language_info": {
   "codemirror_mode": {
    "name": "ipython",
    "version": 3
   },
   "file_extension": ".py",
   "mimetype": "text/x-python",
   "name": "python",
   "nbconvert_exporter": "python",
   "pygments_lexer": "ipython3",
   "version": "3.9.12"
  }
 },
 "nbformat": 4,
 "nbformat_minor": 5
}
