{
 "cells": [
  {
   "cell_type": "code",
   "execution_count": 1,
   "id": "b2c62e6e",
   "metadata": {},
   "outputs": [],
   "source": [
    "import requests"
   ]
  },
  {
   "cell_type": "code",
   "execution_count": 2,
   "id": "034b3a86",
   "metadata": {},
   "outputs": [],
   "source": [
    "result = requests.get('http://www.example.com')"
   ]
  },
  {
   "cell_type": "code",
   "execution_count": 3,
   "id": "4de7c495",
   "metadata": {},
   "outputs": [
    {
     "data": {
      "text/plain": [
       "'<!doctype html>\\n<html>\\n<head>\\n    <title>Example Domain</title>\\n\\n    <meta charset=\"utf-8\" />\\n    <meta http-equiv=\"Content-type\" content=\"text/html; charset=utf-8\" />\\n    <meta name=\"viewport\" content=\"width=device-width, initial-scale=1\" />\\n    <style type=\"text/css\">\\n    body {\\n        background-color: #f0f0f2;\\n        margin: 0;\\n        padding: 0;\\n        font-family: -apple-system, system-ui, BlinkMacSystemFont, \"Segoe UI\", \"Open Sans\", \"Helvetica Neue\", Helvetica, Arial, sans-serif;\\n        \\n    }\\n    div {\\n        width: 600px;\\n        margin: 5em auto;\\n        padding: 2em;\\n        background-color: #fdfdff;\\n        border-radius: 0.5em;\\n        box-shadow: 2px 3px 7px 2px rgba(0,0,0,0.02);\\n    }\\n    a:link, a:visited {\\n        color: #38488f;\\n        text-decoration: none;\\n    }\\n    @media (max-width: 700px) {\\n        div {\\n            margin: 0 auto;\\n            width: auto;\\n        }\\n    }\\n    </style>    \\n</head>\\n\\n<body>\\n<div>\\n    <h1>Example Domain</h1>\\n    <p>This domain is for use in illustrative examples in documents. You may use this\\n    domain in literature without prior coordination or asking for permission.</p>\\n    <p><a href=\"https://www.iana.org/domains/example\">More information...</a></p>\\n</div>\\n</body>\\n</html>\\n'"
      ]
     },
     "execution_count": 3,
     "metadata": {},
     "output_type": "execute_result"
    }
   ],
   "source": [
    "result.text"
   ]
  },
  {
   "cell_type": "code",
   "execution_count": 4,
   "id": "94d08f26",
   "metadata": {},
   "outputs": [],
   "source": [
    "import bs4"
   ]
  },
  {
   "cell_type": "code",
   "execution_count": 5,
   "id": "6eea2a2e",
   "metadata": {},
   "outputs": [],
   "source": [
    "soup = bs4.BeautifulSoup(result.text,'lxml')"
   ]
  },
  {
   "cell_type": "code",
   "execution_count": 6,
   "id": "55d003c2",
   "metadata": {},
   "outputs": [],
   "source": [
    "title = soup.select('title')"
   ]
  },
  {
   "cell_type": "code",
   "execution_count": 7,
   "id": "11bc1a51",
   "metadata": {},
   "outputs": [
    {
     "data": {
      "text/plain": [
       "[<title>Example Domain</title>]"
      ]
     },
     "execution_count": 7,
     "metadata": {},
     "output_type": "execute_result"
    }
   ],
   "source": [
    "title"
   ]
  },
  {
   "cell_type": "code",
   "execution_count": 8,
   "id": "a1c03e97",
   "metadata": {},
   "outputs": [
    {
     "data": {
      "text/plain": [
       "'Example Domain'"
      ]
     },
     "execution_count": 8,
     "metadata": {},
     "output_type": "execute_result"
    }
   ],
   "source": [
    "title[0].getText()"
   ]
  },
  {
   "cell_type": "code",
   "execution_count": 9,
   "id": "7e03d0a6",
   "metadata": {},
   "outputs": [],
   "source": [
    "para = soup.select('p')"
   ]
  },
  {
   "cell_type": "code",
   "execution_count": 10,
   "id": "b4c29e0e",
   "metadata": {},
   "outputs": [
    {
     "data": {
      "text/plain": [
       "[<p>This domain is for use in illustrative examples in documents. You may use this\n",
       "     domain in literature without prior coordination or asking for permission.</p>,\n",
       " <p><a href=\"https://www.iana.org/domains/example\">More information...</a></p>]"
      ]
     },
     "execution_count": 10,
     "metadata": {},
     "output_type": "execute_result"
    }
   ],
   "source": [
    "para"
   ]
  },
  {
   "cell_type": "code",
   "execution_count": 11,
   "id": "40785dbf",
   "metadata": {},
   "outputs": [
    {
     "data": {
      "text/plain": [
       "<p>This domain is for use in illustrative examples in documents. You may use this\n",
       "    domain in literature without prior coordination or asking for permission.</p>"
      ]
     },
     "execution_count": 11,
     "metadata": {},
     "output_type": "execute_result"
    }
   ],
   "source": [
    "para[0]"
   ]
  },
  {
   "cell_type": "code",
   "execution_count": 12,
   "id": "a8e316a4",
   "metadata": {},
   "outputs": [
    {
     "data": {
      "text/plain": [
       "'This domain is for use in illustrative examples in documents. You may use this\\n    domain in literature without prior coordination or asking for permission.'"
      ]
     },
     "execution_count": 12,
     "metadata": {},
     "output_type": "execute_result"
    }
   ],
   "source": [
    "para[0].getText()"
   ]
  },
  {
   "cell_type": "code",
   "execution_count": 13,
   "id": "975d5188",
   "metadata": {},
   "outputs": [],
   "source": [
    "req = requests.get('https://en.wikipedia.org/wiki/Steve_Jobs')"
   ]
  },
  {
   "cell_type": "code",
   "execution_count": 14,
   "id": "d5b7c8f0",
   "metadata": {},
   "outputs": [],
   "source": [
    "soup = bs4.BeautifulSoup(req.text,'lxml')"
   ]
  },
  {
   "cell_type": "code",
   "execution_count": 15,
   "id": "6e60b544",
   "metadata": {},
   "outputs": [],
   "source": [
    "items = soup.select('.toctext')"
   ]
  },
  {
   "cell_type": "code",
   "execution_count": 16,
   "id": "a9866644",
   "metadata": {},
   "outputs": [
    {
     "data": {
      "text/plain": [
       "[<span class=\"toctext\">Background</span>,\n",
       " <span class=\"toctext\">Family</span>,\n",
       " <span class=\"toctext\">Early life</span>,\n",
       " <span class=\"toctext\">Childhood</span>,\n",
       " <span class=\"toctext\">Homestead High</span>,\n",
       " <span class=\"toctext\">Reed College</span>,\n",
       " <span class=\"toctext\">1974–1985</span>,\n",
       " <span class=\"toctext\">Pre-Apple</span>,\n",
       " <span class=\"toctext\">Apple (1976–1985)</span>,\n",
       " <span class=\"toctext\">1985–1997</span>,\n",
       " <span class=\"toctext\">NeXT computer</span>,\n",
       " <span class=\"toctext\">Pixar and Disney</span>,\n",
       " <span class=\"toctext\">1997–2011</span>,\n",
       " <span class=\"toctext\">Return to Apple</span>,\n",
       " <span class=\"toctext\">Health problems</span>,\n",
       " <span class=\"toctext\">Resignation</span>,\n",
       " <span class=\"toctext\">Death</span>,\n",
       " <span class=\"toctext\">Innovations and designs</span>,\n",
       " <span class=\"toctext\">Apple I</span>,\n",
       " <span class=\"toctext\">Apple II</span>,\n",
       " <span class=\"toctext\">Apple Lisa</span>,\n",
       " <span class=\"toctext\">Macintosh</span>,\n",
       " <span class=\"toctext\">NeXT Computer</span>,\n",
       " <span class=\"toctext\">iMac</span>,\n",
       " <span class=\"toctext\">iTunes</span>,\n",
       " <span class=\"toctext\">iPod</span>,\n",
       " <span class=\"toctext\">iPhone</span>,\n",
       " <span class=\"toctext\">iPad</span>,\n",
       " <span class=\"toctext\">Personal life</span>,\n",
       " <span class=\"toctext\">Marriage</span>,\n",
       " <span class=\"toctext\">Family</span>,\n",
       " <span class=\"toctext\">Philanthropy</span>,\n",
       " <span class=\"toctext\">Honors and awards</span>,\n",
       " <span class=\"toctext\">In popular culture</span>,\n",
       " <span class=\"toctext\">See also</span>,\n",
       " <span class=\"toctext\">References</span>,\n",
       " <span class=\"toctext\">Bibliography</span>,\n",
       " <span class=\"toctext\">External links</span>]"
      ]
     },
     "execution_count": 16,
     "metadata": {},
     "output_type": "execute_result"
    }
   ],
   "source": [
    "items"
   ]
  },
  {
   "cell_type": "code",
   "execution_count": 17,
   "id": "0b3e51e4",
   "metadata": {},
   "outputs": [],
   "source": [
    "first_item = items[0]"
   ]
  },
  {
   "cell_type": "code",
   "execution_count": 18,
   "id": "53bf4d52",
   "metadata": {},
   "outputs": [
    {
     "data": {
      "text/plain": [
       "'Background'"
      ]
     },
     "execution_count": 18,
     "metadata": {},
     "output_type": "execute_result"
    }
   ],
   "source": [
    "first_item.text"
   ]
  },
  {
   "cell_type": "code",
   "execution_count": 19,
   "id": "ebf95632",
   "metadata": {},
   "outputs": [
    {
     "data": {
      "text/plain": [
       "'Background'"
      ]
     },
     "execution_count": 19,
     "metadata": {},
     "output_type": "execute_result"
    }
   ],
   "source": [
    "first_item.get_text()"
   ]
  },
  {
   "cell_type": "code",
   "execution_count": 20,
   "id": "c5425789",
   "metadata": {},
   "outputs": [
    {
     "name": "stdout",
     "output_type": "stream",
     "text": [
      "Background\n",
      "Family\n",
      "Early life\n",
      "Childhood\n",
      "Homestead High\n",
      "Reed College\n",
      "1974–1985\n",
      "Pre-Apple\n",
      "Apple (1976–1985)\n",
      "1985–1997\n",
      "NeXT computer\n",
      "Pixar and Disney\n",
      "1997–2011\n",
      "Return to Apple\n",
      "Health problems\n",
      "Resignation\n",
      "Death\n",
      "Innovations and designs\n",
      "Apple I\n",
      "Apple II\n",
      "Apple Lisa\n",
      "Macintosh\n",
      "NeXT Computer\n",
      "iMac\n",
      "iTunes\n",
      "iPod\n",
      "iPhone\n",
      "iPad\n",
      "Personal life\n",
      "Marriage\n",
      "Family\n",
      "Philanthropy\n",
      "Honors and awards\n",
      "In popular culture\n",
      "See also\n",
      "References\n",
      "Bibliography\n",
      "External links\n"
     ]
    }
   ],
   "source": [
    "for item in soup.select('.toctext'):\n",
    "    print(item.text)"
   ]
  },
  {
   "cell_type": "code",
   "execution_count": 21,
   "id": "40a15dd9",
   "metadata": {},
   "outputs": [],
   "source": [
    "req = soup.select('.thumbimage')"
   ]
  },
  {
   "cell_type": "code",
   "execution_count": 22,
   "id": "c0670b78",
   "metadata": {},
   "outputs": [],
   "source": [
    "# req"
   ]
  },
  {
   "cell_type": "code",
   "execution_count": 23,
   "id": "a12808f3",
   "metadata": {},
   "outputs": [],
   "source": [
    "img = req[0]"
   ]
  },
  {
   "cell_type": "code",
   "execution_count": 24,
   "id": "12f5dee2",
   "metadata": {},
   "outputs": [
    {
     "data": {
      "text/plain": [
       "<img alt=\"Home of Paul and Clara Jobs, on Crist Drive in Los Altos, California\" class=\"thumbimage\" data-file-height=\"1365\" data-file-width=\"2048\" decoding=\"async\" height=\"147\" src=\"//upload.wikimedia.org/wikipedia/commons/thumb/b/bd/Apple_Garage.jpg/220px-Apple_Garage.jpg\" srcset=\"//upload.wikimedia.org/wikipedia/commons/thumb/b/bd/Apple_Garage.jpg/330px-Apple_Garage.jpg 1.5x, //upload.wikimedia.org/wikipedia/commons/thumb/b/bd/Apple_Garage.jpg/440px-Apple_Garage.jpg 2x\" width=\"220\"/>"
      ]
     },
     "execution_count": 24,
     "metadata": {},
     "output_type": "execute_result"
    }
   ],
   "source": [
    "img"
   ]
  },
  {
   "cell_type": "code",
   "execution_count": 25,
   "id": "d500dd73",
   "metadata": {},
   "outputs": [
    {
     "data": {
      "text/plain": [
       "bs4.element.Tag"
      ]
     },
     "execution_count": 25,
     "metadata": {},
     "output_type": "execute_result"
    }
   ],
   "source": [
    "type(img)"
   ]
  },
  {
   "cell_type": "code",
   "execution_count": 26,
   "id": "ed8f32a0",
   "metadata": {},
   "outputs": [
    {
     "data": {
      "text/plain": [
       "'//upload.wikimedia.org/wikipedia/commons/thumb/b/bd/Apple_Garage.jpg/220px-Apple_Garage.jpg'"
      ]
     },
     "execution_count": 26,
     "metadata": {},
     "output_type": "execute_result"
    }
   ],
   "source": [
    "img['src']"
   ]
  },
  {
   "cell_type": "markdown",
   "id": "2b07c2fa",
   "metadata": {},
   "source": [
    "<img src='//upload.wikimedia.org/wikipedia/commons/thumb/b/bd/Apple_Garage.jpg/220px-Apple_Garage.jpg'/>"
   ]
  },
  {
   "cell_type": "code",
   "execution_count": 27,
   "id": "e02f1046",
   "metadata": {},
   "outputs": [],
   "source": [
    "image_link = requests.get('https://upload.wikimedia.org/wikipedia/commons/thumb/b/bd/Apple_Garage.jpg/220px-Apple_Garage.jpg')"
   ]
  },
  {
   "cell_type": "code",
   "execution_count": 28,
   "id": "0354b256",
   "metadata": {},
   "outputs": [],
   "source": [
    "# image_link.content"
   ]
  },
  {
   "cell_type": "code",
   "execution_count": 29,
   "id": "57e97151",
   "metadata": {},
   "outputs": [],
   "source": [
    "f = open('downloaded_image.jpg', 'wb')"
   ]
  },
  {
   "cell_type": "code",
   "execution_count": 30,
   "id": "bcb370fa",
   "metadata": {},
   "outputs": [
    {
     "data": {
      "text/plain": [
       "12065"
      ]
     },
     "execution_count": 30,
     "metadata": {},
     "output_type": "execute_result"
    }
   ],
   "source": [
    "f.write(image_link.content)"
   ]
  },
  {
   "cell_type": "code",
   "execution_count": 31,
   "id": "a25f0dde",
   "metadata": {},
   "outputs": [],
   "source": [
    "f.close()"
   ]
  },
  {
   "cell_type": "code",
   "execution_count": null,
   "id": "8f5a0ad2",
   "metadata": {},
   "outputs": [],
   "source": []
  }
 ],
 "metadata": {
  "kernelspec": {
   "display_name": "Python 3 (ipykernel)",
   "language": "python",
   "name": "python3"
  },
  "language_info": {
   "codemirror_mode": {
    "name": "ipython",
    "version": 3
   },
   "file_extension": ".py",
   "mimetype": "text/x-python",
   "name": "python",
   "nbconvert_exporter": "python",
   "pygments_lexer": "ipython3",
   "version": "3.9.12"
  }
 },
 "nbformat": 4,
 "nbformat_minor": 5
}
