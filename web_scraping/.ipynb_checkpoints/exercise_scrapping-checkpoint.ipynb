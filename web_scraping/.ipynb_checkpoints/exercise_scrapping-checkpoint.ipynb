{
 "cells": [
  {
   "cell_type": "code",
   "execution_count": 1,
   "id": "df5fddbf",
   "metadata": {},
   "outputs": [],
   "source": [
    "import requests"
   ]
  },
  {
   "cell_type": "code",
   "execution_count": 2,
   "id": "e69c8fa8",
   "metadata": {},
   "outputs": [],
   "source": [
    "import bs4"
   ]
  },
  {
   "cell_type": "code",
   "execution_count": 3,
   "id": "73c6f82b",
   "metadata": {},
   "outputs": [],
   "source": [
    "req = requests.get('http://quotes.toscrape.com/')"
   ]
  },
  {
   "cell_type": "code",
   "execution_count": 4,
   "id": "be78e044",
   "metadata": {},
   "outputs": [],
   "source": [
    "soup = bs4.BeautifulSoup(req.text, 'lxml')"
   ]
  },
  {
   "cell_type": "code",
   "execution_count": 5,
   "id": "bbf65739",
   "metadata": {},
   "outputs": [],
   "source": [
    "# soup"
   ]
  },
  {
   "cell_type": "code",
   "execution_count": 6,
   "id": "e826aecb",
   "metadata": {},
   "outputs": [],
   "source": [
    "base_url = 'http://quotes.toscrape.com/page/{}'"
   ]
  },
  {
   "cell_type": "code",
   "execution_count": 7,
   "id": "9238b8cb",
   "metadata": {},
   "outputs": [],
   "source": [
    "authors = set()\n",
    "\n",
    "for n in range(1,11):\n",
    "    req = requests.get(base_url.format(n))\n",
    "    soup = bs4.BeautifulSoup(req.text, 'lxml')\n",
    "    \n",
    "    for author in soup.select('.author'):\n",
    "        authors.add(author.text)"
   ]
  },
  {
   "cell_type": "code",
   "execution_count": 8,
   "id": "48f5d671",
   "metadata": {},
   "outputs": [],
   "source": [
    "# authors"
   ]
  },
  {
   "cell_type": "code",
   "execution_count": 9,
   "id": "7e23c480",
   "metadata": {},
   "outputs": [],
   "source": [
    "def get_quotes():\n",
    "    for n in range(1,11):\n",
    "        req = requests.get(base_url.format(n))\n",
    "        soup = bs4.BeautifulSoup(req.text, 'lxml')\n",
    "\n",
    "        for quote in soup.select('.text'):\n",
    "            yield quote.text"
   ]
  },
  {
   "cell_type": "code",
   "execution_count": 10,
   "id": "a9144000",
   "metadata": {},
   "outputs": [
    {
     "data": {
      "text/plain": [
       "<generator object get_quotes at 0x0000025471683EB0>"
      ]
     },
     "execution_count": 10,
     "metadata": {},
     "output_type": "execute_result"
    }
   ],
   "source": [
    "get_quotes()"
   ]
  },
  {
   "cell_type": "code",
   "execution_count": 11,
   "id": "13fc0bd3",
   "metadata": {},
   "outputs": [],
   "source": [
    "# list(get_quotes())"
   ]
  },
  {
   "cell_type": "code",
   "execution_count": 12,
   "id": "8391b3a5",
   "metadata": {},
   "outputs": [],
   "source": [
    "# for item in get_quotes():\n",
    "#     print(item)"
   ]
  },
  {
   "cell_type": "code",
   "execution_count": 13,
   "id": "400fbc14",
   "metadata": {},
   "outputs": [],
   "source": [
    "req = requests.get('http://quotes.toscrape.com/')"
   ]
  },
  {
   "cell_type": "code",
   "execution_count": 14,
   "id": "075fce11",
   "metadata": {},
   "outputs": [],
   "source": [
    "soup = bs4.BeautifulSoup(req.text, 'lxml')"
   ]
  },
  {
   "cell_type": "code",
   "execution_count": 15,
   "id": "c5d4586a",
   "metadata": {},
   "outputs": [],
   "source": [
    "tags = soup.select('.tags-box')[0].select('.tag')"
   ]
  },
  {
   "cell_type": "code",
   "execution_count": 16,
   "id": "67dd3788",
   "metadata": {},
   "outputs": [
    {
     "data": {
      "text/plain": [
       "['love',\n",
       " 'inspirational',\n",
       " 'life',\n",
       " 'humor',\n",
       " 'books',\n",
       " 'reading',\n",
       " 'friendship',\n",
       " 'friends',\n",
       " 'truth',\n",
       " 'simile']"
      ]
     },
     "execution_count": 16,
     "metadata": {},
     "output_type": "execute_result"
    }
   ],
   "source": [
    "[tag.text for tag in tags]"
   ]
  },
  {
   "cell_type": "code",
   "execution_count": 17,
   "id": "cd9723dc",
   "metadata": {},
   "outputs": [],
   "source": [
    "req = requests.get('http://quotes.toscrape.com/page/11/')"
   ]
  },
  {
   "cell_type": "code",
   "execution_count": 18,
   "id": "1f2dfe6b",
   "metadata": {},
   "outputs": [],
   "source": [
    "soup = bs4.BeautifulSoup(req.text, 'lxml')"
   ]
  },
  {
   "cell_type": "code",
   "execution_count": 19,
   "id": "c597c32e",
   "metadata": {},
   "outputs": [],
   "source": [
    "# soup"
   ]
  },
  {
   "cell_type": "code",
   "execution_count": 20,
   "id": "b4bc5987",
   "metadata": {},
   "outputs": [
    {
     "data": {
      "text/plain": [
       "True"
      ]
     },
     "execution_count": 20,
     "metadata": {},
     "output_type": "execute_result"
    }
   ],
   "source": [
    "'No quotes found!' in soup.select('.col-md-8')[1].text"
   ]
  },
  {
   "cell_type": "code",
   "execution_count": 21,
   "id": "408819a3",
   "metadata": {},
   "outputs": [],
   "source": [
    "authors = set()\n",
    "i = 1\n",
    "\n",
    "while True:\n",
    "    req = requests.get(base_url.format(i))\n",
    "    soup = bs4.BeautifulSoup(req.text, 'lxml')\n",
    "    \n",
    "    if 'No quotes found!' in soup.select('.col-md-8')[1].text:\n",
    "        break\n",
    "    \n",
    "    for author in soup.select('.author'):\n",
    "        authors.add(author.text)\n",
    "    \n",
    "    i += 1"
   ]
  },
  {
   "cell_type": "code",
   "execution_count": 22,
   "id": "19dfcbc1",
   "metadata": {},
   "outputs": [],
   "source": [
    "# authors"
   ]
  },
  {
   "cell_type": "code",
   "execution_count": null,
   "id": "eeb6d7a1",
   "metadata": {},
   "outputs": [],
   "source": []
  }
 ],
 "metadata": {
  "kernelspec": {
   "display_name": "Python 3 (ipykernel)",
   "language": "python",
   "name": "python3"
  },
  "language_info": {
   "codemirror_mode": {
    "name": "ipython",
    "version": 3
   },
   "file_extension": ".py",
   "mimetype": "text/x-python",
   "name": "python",
   "nbconvert_exporter": "python",
   "pygments_lexer": "ipython3",
   "version": "3.9.12"
  }
 },
 "nbformat": 4,
 "nbformat_minor": 5
}
