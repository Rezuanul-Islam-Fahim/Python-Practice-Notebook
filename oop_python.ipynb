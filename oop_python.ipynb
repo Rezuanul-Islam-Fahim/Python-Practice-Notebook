{
 "cells": [
  {
   "cell_type": "code",
   "execution_count": 1,
   "id": "d707c109",
   "metadata": {},
   "outputs": [],
   "source": [
    "class Circle():\n",
    "    \n",
    "    pi = 3.1416\n",
    "    \n",
    "    def __init__(self,radius):\n",
    "        self.radius = radius\n",
    "        self.area = Circle.pi*radius*radius\n",
    "    \n",
    "    def calculate_perimeter(self):\n",
    "        return 2*Circle.pi*self.radius"
   ]
  },
  {
   "cell_type": "code",
   "execution_count": 2,
   "id": "ce7c57a9",
   "metadata": {},
   "outputs": [],
   "source": [
    "my_circle = Circle(20)"
   ]
  },
  {
   "cell_type": "code",
   "execution_count": 3,
   "id": "9d638b29",
   "metadata": {},
   "outputs": [
    {
     "data": {
      "text/plain": [
       "20"
      ]
     },
     "execution_count": 3,
     "metadata": {},
     "output_type": "execute_result"
    }
   ],
   "source": [
    "my_circle.radius"
   ]
  },
  {
   "cell_type": "code",
   "execution_count": 4,
   "id": "b923d7a0",
   "metadata": {},
   "outputs": [
    {
     "data": {
      "text/plain": [
       "3.1416"
      ]
     },
     "execution_count": 4,
     "metadata": {},
     "output_type": "execute_result"
    }
   ],
   "source": [
    "Circle.pi"
   ]
  },
  {
   "cell_type": "code",
   "execution_count": 5,
   "id": "eecc06de",
   "metadata": {},
   "outputs": [
    {
     "data": {
      "text/plain": [
       "125.664"
      ]
     },
     "execution_count": 5,
     "metadata": {},
     "output_type": "execute_result"
    }
   ],
   "source": [
    "my_circle.calculate_perimeter()"
   ]
  },
  {
   "cell_type": "markdown",
   "id": "744a9479",
   "metadata": {},
   "source": [
    "# Inheritance"
   ]
  },
  {
   "cell_type": "code",
   "execution_count": 6,
   "id": "0e983cd6",
   "metadata": {},
   "outputs": [],
   "source": [
    "class Animal():\n",
    "    \n",
    "    def __init__(self,name):\n",
    "        self.name = name\n",
    "    \n",
    "    def print_message(self):\n",
    "        print('I am an animal')"
   ]
  },
  {
   "cell_type": "code",
   "execution_count": 7,
   "id": "fec4f1c9",
   "metadata": {},
   "outputs": [],
   "source": [
    "animal = Animal('elephant')"
   ]
  },
  {
   "cell_type": "code",
   "execution_count": 8,
   "id": "c0d5cc8b",
   "metadata": {},
   "outputs": [
    {
     "data": {
      "text/plain": [
       "'elephant'"
      ]
     },
     "execution_count": 8,
     "metadata": {},
     "output_type": "execute_result"
    }
   ],
   "source": [
    "animal.name"
   ]
  },
  {
   "cell_type": "code",
   "execution_count": 9,
   "id": "d89f3f0c",
   "metadata": {},
   "outputs": [],
   "source": [
    "animal = Animal(name='cat')"
   ]
  },
  {
   "cell_type": "code",
   "execution_count": 10,
   "id": "0a810fc7",
   "metadata": {},
   "outputs": [
    {
     "data": {
      "text/plain": [
       "'cat'"
      ]
     },
     "execution_count": 10,
     "metadata": {},
     "output_type": "execute_result"
    }
   ],
   "source": [
    "animal.name"
   ]
  },
  {
   "cell_type": "code",
   "execution_count": 11,
   "id": "160cde53",
   "metadata": {},
   "outputs": [
    {
     "name": "stdout",
     "output_type": "stream",
     "text": [
      "I am an animal\n"
     ]
    }
   ],
   "source": [
    "animal.print_message()"
   ]
  },
  {
   "cell_type": "code",
   "execution_count": 12,
   "id": "180e7b5c",
   "metadata": {},
   "outputs": [],
   "source": [
    "class Cat(Animal):\n",
    "    \n",
    "    def __init__(self,name,legs):\n",
    "        Animal.__init__(self,name)\n",
    "        self.legs = legs\n",
    "        \n",
    "    def print_message(self):\n",
    "        print('Overriden message')\n",
    "    \n",
    "    def print_cat_message(self):\n",
    "        print('I am a cat')"
   ]
  },
  {
   "cell_type": "code",
   "execution_count": 13,
   "id": "92e5c31e",
   "metadata": {},
   "outputs": [],
   "source": [
    "cat = Cat(name='Cat',legs=4)"
   ]
  },
  {
   "cell_type": "code",
   "execution_count": 14,
   "id": "c6eeab78",
   "metadata": {},
   "outputs": [
    {
     "data": {
      "text/plain": [
       "4"
      ]
     },
     "execution_count": 14,
     "metadata": {},
     "output_type": "execute_result"
    }
   ],
   "source": [
    "cat.legs"
   ]
  },
  {
   "cell_type": "code",
   "execution_count": 15,
   "id": "21b52853",
   "metadata": {},
   "outputs": [
    {
     "name": "stdout",
     "output_type": "stream",
     "text": [
      "Overriden message\n"
     ]
    }
   ],
   "source": [
    "cat.print_message()"
   ]
  },
  {
   "cell_type": "code",
   "execution_count": 16,
   "id": "b4c2b4be",
   "metadata": {},
   "outputs": [
    {
     "data": {
      "text/plain": [
       "'Cat'"
      ]
     },
     "execution_count": 16,
     "metadata": {},
     "output_type": "execute_result"
    }
   ],
   "source": [
    "cat.name"
   ]
  },
  {
   "cell_type": "code",
   "execution_count": 17,
   "id": "9c3d0427",
   "metadata": {},
   "outputs": [
    {
     "name": "stdout",
     "output_type": "stream",
     "text": [
      "I am a cat\n"
     ]
    }
   ],
   "source": [
    "cat.print_cat_message()"
   ]
  },
  {
   "cell_type": "markdown",
   "id": "0a593438",
   "metadata": {},
   "source": [
    "# Polymorphism"
   ]
  },
  {
   "cell_type": "code",
   "execution_count": 18,
   "id": "85bfd445",
   "metadata": {},
   "outputs": [],
   "source": [
    "class Cat():\n",
    "    \n",
    "    def __init__(self,name):\n",
    "        self.name = name\n",
    "    \n",
    "    def speak(self):\n",
    "        return 'I am a cat'"
   ]
  },
  {
   "cell_type": "code",
   "execution_count": 19,
   "id": "29dc1a6d",
   "metadata": {},
   "outputs": [],
   "source": [
    "class Dog():\n",
    "    \n",
    "    def __init__(self,name):\n",
    "        self.name = name\n",
    "    \n",
    "    def speak(self):\n",
    "        return 'I am a dog'"
   ]
  },
  {
   "cell_type": "code",
   "execution_count": 20,
   "id": "992749ef",
   "metadata": {},
   "outputs": [],
   "source": [
    "c = Cat('Mimi')\n",
    "d = Dog('Thomas')"
   ]
  },
  {
   "cell_type": "code",
   "execution_count": 21,
   "id": "07eed4d4",
   "metadata": {},
   "outputs": [
    {
     "data": {
      "text/plain": [
       "'Mimi'"
      ]
     },
     "execution_count": 21,
     "metadata": {},
     "output_type": "execute_result"
    }
   ],
   "source": [
    "c.name"
   ]
  },
  {
   "cell_type": "code",
   "execution_count": 22,
   "id": "01d136de",
   "metadata": {},
   "outputs": [
    {
     "data": {
      "text/plain": [
       "'I am a cat'"
      ]
     },
     "execution_count": 22,
     "metadata": {},
     "output_type": "execute_result"
    }
   ],
   "source": [
    "c.speak()"
   ]
  },
  {
   "cell_type": "code",
   "execution_count": 23,
   "id": "eb3b75d7",
   "metadata": {},
   "outputs": [
    {
     "data": {
      "text/plain": [
       "'Thomas'"
      ]
     },
     "execution_count": 23,
     "metadata": {},
     "output_type": "execute_result"
    }
   ],
   "source": [
    "d.name"
   ]
  },
  {
   "cell_type": "code",
   "execution_count": 24,
   "id": "4988a0aa",
   "metadata": {},
   "outputs": [
    {
     "data": {
      "text/plain": [
       "'I am a dog'"
      ]
     },
     "execution_count": 24,
     "metadata": {},
     "output_type": "execute_result"
    }
   ],
   "source": [
    "d.speak()"
   ]
  },
  {
   "cell_type": "code",
   "execution_count": 25,
   "id": "0cd20a8d",
   "metadata": {},
   "outputs": [
    {
     "name": "stdout",
     "output_type": "stream",
     "text": [
      "Mimi\n",
      "I am a cat\n",
      "Thomas\n",
      "I am a dog\n"
     ]
    }
   ],
   "source": [
    "for pet in [c,d]:\n",
    "    print(pet.name)\n",
    "    print(pet.speak())"
   ]
  },
  {
   "cell_type": "code",
   "execution_count": 26,
   "id": "7c3298ac",
   "metadata": {},
   "outputs": [],
   "source": [
    "def speak(pet):\n",
    "    print(pet.speak())"
   ]
  },
  {
   "cell_type": "code",
   "execution_count": 27,
   "id": "ff4ceaf9",
   "metadata": {},
   "outputs": [
    {
     "name": "stdout",
     "output_type": "stream",
     "text": [
      "I am a cat\n"
     ]
    }
   ],
   "source": [
    "speak(c)"
   ]
  },
  {
   "cell_type": "code",
   "execution_count": 28,
   "id": "ad00f66f",
   "metadata": {},
   "outputs": [
    {
     "name": "stdout",
     "output_type": "stream",
     "text": [
      "I am a dog\n"
     ]
    }
   ],
   "source": [
    "speak(d)"
   ]
  },
  {
   "cell_type": "markdown",
   "id": "1df72f56",
   "metadata": {},
   "source": [
    "# Polymorphism with abstract class"
   ]
  },
  {
   "cell_type": "code",
   "execution_count": 29,
   "id": "c5a35249",
   "metadata": {},
   "outputs": [],
   "source": [
    "class Animal():\n",
    "    \n",
    "    def __init__(self,name):\n",
    "        self.name = name\n",
    "    \n",
    "    def speak(self):\n",
    "        raise NotImplementedError('This method must be overriden from child class')"
   ]
  },
  {
   "cell_type": "code",
   "execution_count": 30,
   "id": "8f08ca19",
   "metadata": {},
   "outputs": [],
   "source": [
    "# Animal('name').speak()\n",
    "# ===============================\n",
    "# Throws an error\n",
    "# Can not created an instance for abstract class"
   ]
  },
  {
   "cell_type": "code",
   "execution_count": 31,
   "id": "69786dd1",
   "metadata": {},
   "outputs": [],
   "source": [
    "class Cat(Animal):\n",
    "    \n",
    "    def speak(self):\n",
    "        return 'Hello, I am a cat'"
   ]
  },
  {
   "cell_type": "code",
   "execution_count": 32,
   "id": "622278a3",
   "metadata": {},
   "outputs": [],
   "source": [
    "cat = Cat(name='Mimi')"
   ]
  },
  {
   "cell_type": "code",
   "execution_count": 33,
   "id": "f2a61c00",
   "metadata": {},
   "outputs": [
    {
     "data": {
      "text/plain": [
       "'Mimi'"
      ]
     },
     "execution_count": 33,
     "metadata": {},
     "output_type": "execute_result"
    }
   ],
   "source": [
    "cat.name"
   ]
  },
  {
   "cell_type": "code",
   "execution_count": 34,
   "id": "c788ec68",
   "metadata": {},
   "outputs": [
    {
     "data": {
      "text/plain": [
       "'Hello, I am a cat'"
      ]
     },
     "execution_count": 34,
     "metadata": {},
     "output_type": "execute_result"
    }
   ],
   "source": [
    "cat.speak()"
   ]
  },
  {
   "cell_type": "code",
   "execution_count": null,
   "id": "31f53ebc",
   "metadata": {},
   "outputs": [],
   "source": []
  }
 ],
 "metadata": {
  "kernelspec": {
   "display_name": "Python 3 (ipykernel)",
   "language": "python",
   "name": "python3"
  },
  "language_info": {
   "codemirror_mode": {
    "name": "ipython",
    "version": 3
   },
   "file_extension": ".py",
   "mimetype": "text/x-python",
   "name": "python",
   "nbconvert_exporter": "python",
   "pygments_lexer": "ipython3",
   "version": "3.9.12"
  }
 },
 "nbformat": 4,
 "nbformat_minor": 5
}
