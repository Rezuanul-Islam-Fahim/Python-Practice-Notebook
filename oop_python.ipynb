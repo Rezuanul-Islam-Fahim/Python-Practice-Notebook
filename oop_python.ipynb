{
 "cells": [
  {
   "cell_type": "code",
   "execution_count": 1,
   "id": "cc962303",
   "metadata": {},
   "outputs": [],
   "source": [
    "class Circle():\n",
    "    \n",
    "    pi = 3.1416\n",
    "    \n",
    "    def __init__(self,radius):\n",
    "        self.radius = radius\n",
    "        self.area = Circle.pi*radius*radius\n",
    "    \n",
    "    def calculate_perimeter(self):\n",
    "        return 2*Circle.pi*self.radius"
   ]
  },
  {
   "cell_type": "code",
   "execution_count": 2,
   "id": "5f607bba",
   "metadata": {},
   "outputs": [],
   "source": [
    "my_circle = Circle(20)"
   ]
  },
  {
   "cell_type": "code",
   "execution_count": 3,
   "id": "cd1fff6f",
   "metadata": {},
   "outputs": [
    {
     "data": {
      "text/plain": [
       "20"
      ]
     },
     "execution_count": 3,
     "metadata": {},
     "output_type": "execute_result"
    }
   ],
   "source": [
    "my_circle.radius"
   ]
  },
  {
   "cell_type": "code",
   "execution_count": 4,
   "id": "e810897e",
   "metadata": {},
   "outputs": [
    {
     "data": {
      "text/plain": [
       "3.1416"
      ]
     },
     "execution_count": 4,
     "metadata": {},
     "output_type": "execute_result"
    }
   ],
   "source": [
    "Circle.pi"
   ]
  },
  {
   "cell_type": "code",
   "execution_count": 5,
   "id": "07661e99",
   "metadata": {},
   "outputs": [
    {
     "data": {
      "text/plain": [
       "125.664"
      ]
     },
     "execution_count": 5,
     "metadata": {},
     "output_type": "execute_result"
    }
   ],
   "source": [
    "my_circle.calculate_perimeter()"
   ]
  },
  {
   "cell_type": "markdown",
   "id": "6f097242",
   "metadata": {},
   "source": [
    "# Inheritance"
   ]
  },
  {
   "cell_type": "code",
   "execution_count": 6,
   "id": "8390f7ba",
   "metadata": {},
   "outputs": [],
   "source": [
    "class Animal():\n",
    "    \n",
    "    def __init__(self,name):\n",
    "        self.name = name\n",
    "    \n",
    "    def print_message(self):\n",
    "        print('I am an animal')"
   ]
  },
  {
   "cell_type": "code",
   "execution_count": 7,
   "id": "2f8a8d2e",
   "metadata": {},
   "outputs": [],
   "source": [
    "animal = Animal('elephant')"
   ]
  },
  {
   "cell_type": "code",
   "execution_count": 8,
   "id": "ae6ce7b9",
   "metadata": {},
   "outputs": [
    {
     "data": {
      "text/plain": [
       "'elephant'"
      ]
     },
     "execution_count": 8,
     "metadata": {},
     "output_type": "execute_result"
    }
   ],
   "source": [
    "animal.name"
   ]
  },
  {
   "cell_type": "code",
   "execution_count": 9,
   "id": "63a58dba",
   "metadata": {},
   "outputs": [],
   "source": [
    "animal = Animal(name='cat')"
   ]
  },
  {
   "cell_type": "code",
   "execution_count": 10,
   "id": "5cad490f",
   "metadata": {},
   "outputs": [
    {
     "data": {
      "text/plain": [
       "'cat'"
      ]
     },
     "execution_count": 10,
     "metadata": {},
     "output_type": "execute_result"
    }
   ],
   "source": [
    "animal.name"
   ]
  },
  {
   "cell_type": "code",
   "execution_count": 11,
   "id": "5c6f8765",
   "metadata": {},
   "outputs": [
    {
     "name": "stdout",
     "output_type": "stream",
     "text": [
      "I am an animal\n"
     ]
    }
   ],
   "source": [
    "animal.print_message()"
   ]
  },
  {
   "cell_type": "code",
   "execution_count": 12,
   "id": "f77d10da",
   "metadata": {},
   "outputs": [],
   "source": [
    "class Cat(Animal):\n",
    "    \n",
    "    def __init__(self,name,legs):\n",
    "        Animal.__init__(self,name)\n",
    "        self.legs = legs\n",
    "        \n",
    "    def print_message(self):\n",
    "        print('Overriden message')\n",
    "    \n",
    "    def print_cat_message(self):\n",
    "        print('I am a cat')"
   ]
  },
  {
   "cell_type": "code",
   "execution_count": 13,
   "id": "995a1a52",
   "metadata": {},
   "outputs": [],
   "source": [
    "cat = Cat(name='Cat',legs=4)"
   ]
  },
  {
   "cell_type": "code",
   "execution_count": 14,
   "id": "1efafdc5",
   "metadata": {},
   "outputs": [
    {
     "data": {
      "text/plain": [
       "4"
      ]
     },
     "execution_count": 14,
     "metadata": {},
     "output_type": "execute_result"
    }
   ],
   "source": [
    "cat.legs"
   ]
  },
  {
   "cell_type": "code",
   "execution_count": 15,
   "id": "29b62967",
   "metadata": {},
   "outputs": [
    {
     "name": "stdout",
     "output_type": "stream",
     "text": [
      "Overriden message\n"
     ]
    }
   ],
   "source": [
    "cat.print_message()"
   ]
  },
  {
   "cell_type": "code",
   "execution_count": 16,
   "id": "2567767e",
   "metadata": {},
   "outputs": [
    {
     "data": {
      "text/plain": [
       "'Cat'"
      ]
     },
     "execution_count": 16,
     "metadata": {},
     "output_type": "execute_result"
    }
   ],
   "source": [
    "cat.name"
   ]
  },
  {
   "cell_type": "code",
   "execution_count": 17,
   "id": "c90fdc9a",
   "metadata": {},
   "outputs": [
    {
     "name": "stdout",
     "output_type": "stream",
     "text": [
      "I am a cat\n"
     ]
    }
   ],
   "source": [
    "cat.print_cat_message()"
   ]
  },
  {
   "cell_type": "code",
   "execution_count": null,
   "id": "dc23bcb2",
   "metadata": {},
   "outputs": [],
   "source": []
  }
 ],
 "metadata": {
  "kernelspec": {
   "display_name": "Python 3 (ipykernel)",
   "language": "python",
   "name": "python3"
  },
  "language_info": {
   "codemirror_mode": {
    "name": "ipython",
    "version": 3
   },
   "file_extension": ".py",
   "mimetype": "text/x-python",
   "name": "python",
   "nbconvert_exporter": "python",
   "pygments_lexer": "ipython3",
   "version": "3.9.12"
  }
 },
 "nbformat": 4,
 "nbformat_minor": 5
}
