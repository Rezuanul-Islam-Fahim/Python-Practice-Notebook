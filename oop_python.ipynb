{
 "cells": [
  {
   "cell_type": "code",
   "execution_count": 1,
   "id": "13508bbe",
   "metadata": {},
   "outputs": [],
   "source": [
    "class Circle():\n",
    "    \n",
    "    pi = 3.1416\n",
    "    \n",
    "    def __init__(self,radius):\n",
    "        self.radius = radius\n",
    "        self.area = Circle.pi*radius*radius\n",
    "    \n",
    "    def calculate_perimeter(self):\n",
    "        return 2*Circle.pi*self.radius"
   ]
  },
  {
   "cell_type": "code",
   "execution_count": 2,
   "id": "e4f7d00d",
   "metadata": {},
   "outputs": [],
   "source": [
    "my_circle = Circle(20)"
   ]
  },
  {
   "cell_type": "code",
   "execution_count": 3,
   "id": "988c5260",
   "metadata": {},
   "outputs": [
    {
     "data": {
      "text/plain": [
       "20"
      ]
     },
     "execution_count": 3,
     "metadata": {},
     "output_type": "execute_result"
    }
   ],
   "source": [
    "my_circle.radius"
   ]
  },
  {
   "cell_type": "code",
   "execution_count": 4,
   "id": "c129ddb6",
   "metadata": {},
   "outputs": [
    {
     "data": {
      "text/plain": [
       "3.1416"
      ]
     },
     "execution_count": 4,
     "metadata": {},
     "output_type": "execute_result"
    }
   ],
   "source": [
    "Circle.pi"
   ]
  },
  {
   "cell_type": "code",
   "execution_count": 5,
   "id": "cd921628",
   "metadata": {},
   "outputs": [
    {
     "data": {
      "text/plain": [
       "125.664"
      ]
     },
     "execution_count": 5,
     "metadata": {},
     "output_type": "execute_result"
    }
   ],
   "source": [
    "my_circle.calculate_perimeter()"
   ]
  },
  {
   "cell_type": "markdown",
   "id": "d2654e91",
   "metadata": {},
   "source": [
    "# Inheritance"
   ]
  },
  {
   "cell_type": "code",
   "execution_count": 6,
   "id": "cd50d6d5",
   "metadata": {},
   "outputs": [],
   "source": [
    "class Animal():\n",
    "    \n",
    "    def __init__(self,name):\n",
    "        self.name = name\n",
    "    \n",
    "    def print_message(self):\n",
    "        print('I am an animal')"
   ]
  },
  {
   "cell_type": "code",
   "execution_count": 7,
   "id": "9dce2113",
   "metadata": {},
   "outputs": [],
   "source": [
    "animal = Animal('elephant')"
   ]
  },
  {
   "cell_type": "code",
   "execution_count": 8,
   "id": "1144b9ac",
   "metadata": {},
   "outputs": [
    {
     "data": {
      "text/plain": [
       "'elephant'"
      ]
     },
     "execution_count": 8,
     "metadata": {},
     "output_type": "execute_result"
    }
   ],
   "source": [
    "animal.name"
   ]
  },
  {
   "cell_type": "code",
   "execution_count": 9,
   "id": "1ebe78c4",
   "metadata": {},
   "outputs": [],
   "source": [
    "animal = Animal(name='cat')"
   ]
  },
  {
   "cell_type": "code",
   "execution_count": 10,
   "id": "1a30d2ce",
   "metadata": {},
   "outputs": [
    {
     "data": {
      "text/plain": [
       "'cat'"
      ]
     },
     "execution_count": 10,
     "metadata": {},
     "output_type": "execute_result"
    }
   ],
   "source": [
    "animal.name"
   ]
  },
  {
   "cell_type": "code",
   "execution_count": 11,
   "id": "e40413e5",
   "metadata": {},
   "outputs": [
    {
     "name": "stdout",
     "output_type": "stream",
     "text": [
      "I am an animal\n"
     ]
    }
   ],
   "source": [
    "animal.print_message()"
   ]
  },
  {
   "cell_type": "code",
   "execution_count": 12,
   "id": "d1231553",
   "metadata": {},
   "outputs": [],
   "source": [
    "class Cat(Animal):\n",
    "    \n",
    "    def __init__(self,name,legs):\n",
    "        Animal.__init__(self,name)\n",
    "        self.legs = legs\n",
    "        \n",
    "    def print_message(self):\n",
    "        print('Overriden message')\n",
    "    \n",
    "    def print_cat_message(self):\n",
    "        print('I am a cat')"
   ]
  },
  {
   "cell_type": "code",
   "execution_count": 13,
   "id": "09abf97b",
   "metadata": {},
   "outputs": [],
   "source": [
    "cat = Cat(name='Cat',legs=4)"
   ]
  },
  {
   "cell_type": "code",
   "execution_count": 14,
   "id": "e62eb1e2",
   "metadata": {},
   "outputs": [
    {
     "data": {
      "text/plain": [
       "4"
      ]
     },
     "execution_count": 14,
     "metadata": {},
     "output_type": "execute_result"
    }
   ],
   "source": [
    "cat.legs"
   ]
  },
  {
   "cell_type": "code",
   "execution_count": 15,
   "id": "e05d3c9a",
   "metadata": {},
   "outputs": [
    {
     "name": "stdout",
     "output_type": "stream",
     "text": [
      "Overriden message\n"
     ]
    }
   ],
   "source": [
    "cat.print_message()"
   ]
  },
  {
   "cell_type": "code",
   "execution_count": 16,
   "id": "65703408",
   "metadata": {},
   "outputs": [
    {
     "data": {
      "text/plain": [
       "'Cat'"
      ]
     },
     "execution_count": 16,
     "metadata": {},
     "output_type": "execute_result"
    }
   ],
   "source": [
    "cat.name"
   ]
  },
  {
   "cell_type": "code",
   "execution_count": 17,
   "id": "4695d20f",
   "metadata": {},
   "outputs": [
    {
     "name": "stdout",
     "output_type": "stream",
     "text": [
      "I am a cat\n"
     ]
    }
   ],
   "source": [
    "cat.print_cat_message()"
   ]
  },
  {
   "cell_type": "code",
   "execution_count": null,
   "id": "e073e0df",
   "metadata": {},
   "outputs": [],
   "source": []
  },
  {
   "cell_type": "code",
   "execution_count": 18,
   "id": "3de8e318",
   "metadata": {},
   "outputs": [],
   "source": [
    "class Device:\n",
    "    \n",
    "    def __init__(self, name, connected_by):\n",
    "        self.name = name\n",
    "        self.connected_by = connected_by\n",
    "        self.is_connected = True\n",
    "        \n",
    "    def __repr__(self):\n",
    "        return f'Device Name: {self.name}, Connected By: {self.connected_by}'\n",
    "    \n",
    "    def disconnect(self):\n",
    "        self.is_connected = False\n",
    "        print('Device disconnected')"
   ]
  },
  {
   "cell_type": "code",
   "execution_count": 19,
   "id": "10f88845",
   "metadata": {},
   "outputs": [],
   "source": [
    "new_device = Device('Card Reader', 'USB')"
   ]
  },
  {
   "cell_type": "code",
   "execution_count": 20,
   "id": "cab9af1a",
   "metadata": {},
   "outputs": [
    {
     "data": {
      "text/plain": [
       "'Card Reader'"
      ]
     },
     "execution_count": 20,
     "metadata": {},
     "output_type": "execute_result"
    }
   ],
   "source": [
    "new_device.name"
   ]
  },
  {
   "cell_type": "code",
   "execution_count": 21,
   "id": "0504fb31",
   "metadata": {},
   "outputs": [
    {
     "data": {
      "text/plain": [
       "True"
      ]
     },
     "execution_count": 21,
     "metadata": {},
     "output_type": "execute_result"
    }
   ],
   "source": [
    "new_device.is_connected"
   ]
  },
  {
   "cell_type": "code",
   "execution_count": 22,
   "id": "addb946e",
   "metadata": {},
   "outputs": [
    {
     "name": "stdout",
     "output_type": "stream",
     "text": [
      "Device disconnected\n"
     ]
    }
   ],
   "source": [
    "new_device.disconnect()"
   ]
  },
  {
   "cell_type": "code",
   "execution_count": 23,
   "id": "43f0bda1",
   "metadata": {},
   "outputs": [
    {
     "data": {
      "text/plain": [
       "False"
      ]
     },
     "execution_count": 23,
     "metadata": {},
     "output_type": "execute_result"
    }
   ],
   "source": [
    "new_device.is_connected"
   ]
  },
  {
   "cell_type": "code",
   "execution_count": 24,
   "id": "a50f1b5f",
   "metadata": {},
   "outputs": [
    {
     "data": {
      "text/plain": [
       "Device Name: Card Reader, Connected By: USB"
      ]
     },
     "execution_count": 24,
     "metadata": {},
     "output_type": "execute_result"
    }
   ],
   "source": [
    "new_device"
   ]
  },
  {
   "cell_type": "code",
   "execution_count": 25,
   "id": "ea7b0ad8",
   "metadata": {},
   "outputs": [],
   "source": [
    "class Printer(Device):\n",
    "    \n",
    "    def __init__(self, name, connected_by, capacity):\n",
    "        super().__init__(name, connected_by)\n",
    "        self.capacity = capacity\n",
    "        self.remaining_pages = capacity\n",
    "    \n",
    "    def __repr__(self):\n",
    "        return f'{super().__repr__()}, Remaining pages: {self.remaining_pages}'\n",
    "    \n",
    "    def print(self, pages):\n",
    "        if not self.is_connected:\n",
    "            print('Your printer is not conencted')\n",
    "        elif pages > self.remaining_pages:\n",
    "            print('Not enough pages to print')\n",
    "        else:\n",
    "            self.remaining_pages -= pages\n",
    "            print('Pages printed--------')"
   ]
  },
  {
   "cell_type": "code",
   "execution_count": 26,
   "id": "8050be3e",
   "metadata": {},
   "outputs": [],
   "source": [
    "my_printer = Printer('Hp Printer', 'USB', 200)"
   ]
  },
  {
   "cell_type": "code",
   "execution_count": 27,
   "id": "e3d62a76",
   "metadata": {},
   "outputs": [
    {
     "data": {
      "text/plain": [
       "Device Name: Hp Printer, Connected By: USB, Remaining pages: 200"
      ]
     },
     "execution_count": 27,
     "metadata": {},
     "output_type": "execute_result"
    }
   ],
   "source": [
    "my_printer"
   ]
  },
  {
   "cell_type": "code",
   "execution_count": 28,
   "id": "d59a090e",
   "metadata": {},
   "outputs": [
    {
     "name": "stdout",
     "output_type": "stream",
     "text": [
      "Not enough pages to print\n"
     ]
    }
   ],
   "source": [
    "my_printer.print(400)"
   ]
  },
  {
   "cell_type": "code",
   "execution_count": 29,
   "id": "dcd45fb7",
   "metadata": {},
   "outputs": [
    {
     "data": {
      "text/plain": [
       "Device Name: Hp Printer, Connected By: USB, Remaining pages: 200"
      ]
     },
     "execution_count": 29,
     "metadata": {},
     "output_type": "execute_result"
    }
   ],
   "source": [
    "my_printer"
   ]
  },
  {
   "cell_type": "code",
   "execution_count": 30,
   "id": "82b1fc00",
   "metadata": {},
   "outputs": [
    {
     "name": "stdout",
     "output_type": "stream",
     "text": [
      "Pages printed--------\n"
     ]
    }
   ],
   "source": [
    "my_printer.print(120)"
   ]
  },
  {
   "cell_type": "code",
   "execution_count": 31,
   "id": "9ae485ad",
   "metadata": {},
   "outputs": [
    {
     "data": {
      "text/plain": [
       "Device Name: Hp Printer, Connected By: USB, Remaining pages: 80"
      ]
     },
     "execution_count": 31,
     "metadata": {},
     "output_type": "execute_result"
    }
   ],
   "source": [
    "my_printer"
   ]
  },
  {
   "cell_type": "code",
   "execution_count": 32,
   "id": "dd06993a",
   "metadata": {},
   "outputs": [
    {
     "name": "stdout",
     "output_type": "stream",
     "text": [
      "Device disconnected\n"
     ]
    }
   ],
   "source": [
    "my_printer.disconnect()"
   ]
  },
  {
   "cell_type": "code",
   "execution_count": 33,
   "id": "4904d6bd",
   "metadata": {},
   "outputs": [
    {
     "data": {
      "text/plain": [
       "Device Name: Hp Printer, Connected By: USB, Remaining pages: 80"
      ]
     },
     "execution_count": 33,
     "metadata": {},
     "output_type": "execute_result"
    }
   ],
   "source": [
    "my_printer"
   ]
  },
  {
   "cell_type": "code",
   "execution_count": 34,
   "id": "eb8495b7",
   "metadata": {},
   "outputs": [
    {
     "name": "stdout",
     "output_type": "stream",
     "text": [
      "Your printer is not conencted\n"
     ]
    }
   ],
   "source": [
    "my_printer.print(10)"
   ]
  },
  {
   "cell_type": "code",
   "execution_count": 35,
   "id": "9e965bbb",
   "metadata": {},
   "outputs": [
    {
     "name": "stdout",
     "output_type": "stream",
     "text": [
      "Your printer is not conencted\n"
     ]
    }
   ],
   "source": [
    "my_printer.print(200)"
   ]
  },
  {
   "cell_type": "markdown",
   "id": "4066ed2c",
   "metadata": {},
   "source": [
    "# Polymorphism"
   ]
  },
  {
   "cell_type": "code",
   "execution_count": 36,
   "id": "b445c844",
   "metadata": {},
   "outputs": [],
   "source": [
    "class Cat():\n",
    "    \n",
    "    def __init__(self,name):\n",
    "        self.name = name\n",
    "    \n",
    "    def speak(self):\n",
    "        return 'I am a cat'"
   ]
  },
  {
   "cell_type": "code",
   "execution_count": 37,
   "id": "24f7e5fb",
   "metadata": {},
   "outputs": [],
   "source": [
    "class Dog():\n",
    "    \n",
    "    def __init__(self,name):\n",
    "        self.name = name\n",
    "    \n",
    "    def speak(self):\n",
    "        return 'I am a dog'"
   ]
  },
  {
   "cell_type": "code",
   "execution_count": 38,
   "id": "02a5aba4",
   "metadata": {},
   "outputs": [],
   "source": [
    "c = Cat('Mimi')\n",
    "d = Dog('Thomas')"
   ]
  },
  {
   "cell_type": "code",
   "execution_count": 39,
   "id": "093456b1",
   "metadata": {},
   "outputs": [
    {
     "data": {
      "text/plain": [
       "'Mimi'"
      ]
     },
     "execution_count": 39,
     "metadata": {},
     "output_type": "execute_result"
    }
   ],
   "source": [
    "c.name"
   ]
  },
  {
   "cell_type": "code",
   "execution_count": 40,
   "id": "ada34d16",
   "metadata": {},
   "outputs": [
    {
     "data": {
      "text/plain": [
       "'I am a cat'"
      ]
     },
     "execution_count": 40,
     "metadata": {},
     "output_type": "execute_result"
    }
   ],
   "source": [
    "c.speak()"
   ]
  },
  {
   "cell_type": "code",
   "execution_count": 41,
   "id": "99f6be5c",
   "metadata": {},
   "outputs": [
    {
     "data": {
      "text/plain": [
       "'Thomas'"
      ]
     },
     "execution_count": 41,
     "metadata": {},
     "output_type": "execute_result"
    }
   ],
   "source": [
    "d.name"
   ]
  },
  {
   "cell_type": "code",
   "execution_count": 42,
   "id": "209d981b",
   "metadata": {},
   "outputs": [
    {
     "data": {
      "text/plain": [
       "'I am a dog'"
      ]
     },
     "execution_count": 42,
     "metadata": {},
     "output_type": "execute_result"
    }
   ],
   "source": [
    "d.speak()"
   ]
  },
  {
   "cell_type": "code",
   "execution_count": 43,
   "id": "c362e3d6",
   "metadata": {},
   "outputs": [
    {
     "name": "stdout",
     "output_type": "stream",
     "text": [
      "Mimi\n",
      "I am a cat\n",
      "Thomas\n",
      "I am a dog\n"
     ]
    }
   ],
   "source": [
    "for pet in [c,d]:\n",
    "    print(pet.name)\n",
    "    print(pet.speak())"
   ]
  },
  {
   "cell_type": "code",
   "execution_count": 44,
   "id": "b4a71782",
   "metadata": {},
   "outputs": [],
   "source": [
    "def speak(pet):\n",
    "    print(pet.speak())"
   ]
  },
  {
   "cell_type": "code",
   "execution_count": 45,
   "id": "462bafa8",
   "metadata": {},
   "outputs": [
    {
     "name": "stdout",
     "output_type": "stream",
     "text": [
      "I am a cat\n"
     ]
    }
   ],
   "source": [
    "speak(c)"
   ]
  },
  {
   "cell_type": "code",
   "execution_count": 46,
   "id": "e2cdfcde",
   "metadata": {},
   "outputs": [
    {
     "name": "stdout",
     "output_type": "stream",
     "text": [
      "I am a dog\n"
     ]
    }
   ],
   "source": [
    "speak(d)"
   ]
  },
  {
   "cell_type": "markdown",
   "id": "205149e3",
   "metadata": {},
   "source": [
    "# Polymorphism with abstract class"
   ]
  },
  {
   "cell_type": "code",
   "execution_count": 47,
   "id": "6d24f162",
   "metadata": {},
   "outputs": [],
   "source": [
    "class Animal():\n",
    "    \n",
    "    def __init__(self,name):\n",
    "        self.name = name\n",
    "    \n",
    "    def speak(self):\n",
    "        raise NotImplementedError('This method must be overriden from child class')"
   ]
  },
  {
   "cell_type": "code",
   "execution_count": 48,
   "id": "36fa1ea3",
   "metadata": {},
   "outputs": [],
   "source": [
    "# Animal('name').speak()\n",
    "# ===============================\n",
    "# Throws an error\n",
    "# Can not created an instance for abstract class"
   ]
  },
  {
   "cell_type": "code",
   "execution_count": 49,
   "id": "86b47b2f",
   "metadata": {},
   "outputs": [],
   "source": [
    "class Cat(Animal):\n",
    "    \n",
    "    def speak(self):\n",
    "        return 'Hello, I am a cat'"
   ]
  },
  {
   "cell_type": "code",
   "execution_count": 50,
   "id": "48661113",
   "metadata": {},
   "outputs": [],
   "source": [
    "cat = Cat(name='Mimi')"
   ]
  },
  {
   "cell_type": "code",
   "execution_count": 51,
   "id": "d528f24f",
   "metadata": {},
   "outputs": [
    {
     "data": {
      "text/plain": [
       "'Mimi'"
      ]
     },
     "execution_count": 51,
     "metadata": {},
     "output_type": "execute_result"
    }
   ],
   "source": [
    "cat.name"
   ]
  },
  {
   "cell_type": "code",
   "execution_count": 52,
   "id": "f86a7a5f",
   "metadata": {},
   "outputs": [
    {
     "data": {
      "text/plain": [
       "'Hello, I am a cat'"
      ]
     },
     "execution_count": 52,
     "metadata": {},
     "output_type": "execute_result"
    }
   ],
   "source": [
    "cat.speak()"
   ]
  },
  {
   "cell_type": "markdown",
   "id": "3c0de5a0",
   "metadata": {},
   "source": [
    "# Special Methods"
   ]
  },
  {
   "cell_type": "code",
   "execution_count": 53,
   "id": "06a46fc5",
   "metadata": {},
   "outputs": [],
   "source": [
    "class Book():\n",
    "    \n",
    "    def __init__(self,title,author,pages):\n",
    "        self.title = title\n",
    "        self.author = author\n",
    "        self.pages = pages\n",
    "    \n",
    "    def __str__(self):\n",
    "        return f'{self.title} by {self.author}. Pages -> {self.pages}'\n",
    "    \n",
    "    def __len__(self):\n",
    "        return self.pages\n",
    "    \n",
    "    def __del__(self):\n",
    "        print('This object has been deleted')"
   ]
  },
  {
   "cell_type": "code",
   "execution_count": 54,
   "id": "acfaba04",
   "metadata": {},
   "outputs": [],
   "source": [
    "b = Book('Sample Book','Thomas Edison',200)"
   ]
  },
  {
   "cell_type": "code",
   "execution_count": 55,
   "id": "796f35a8",
   "metadata": {},
   "outputs": [
    {
     "data": {
      "text/plain": [
       "'Sample Book'"
      ]
     },
     "execution_count": 55,
     "metadata": {},
     "output_type": "execute_result"
    }
   ],
   "source": [
    "b.title"
   ]
  },
  {
   "cell_type": "code",
   "execution_count": 56,
   "id": "2977c63e",
   "metadata": {},
   "outputs": [
    {
     "data": {
      "text/plain": [
       "'Thomas Edison'"
      ]
     },
     "execution_count": 56,
     "metadata": {},
     "output_type": "execute_result"
    }
   ],
   "source": [
    "b.author"
   ]
  },
  {
   "cell_type": "code",
   "execution_count": 57,
   "id": "9175b35a",
   "metadata": {},
   "outputs": [
    {
     "data": {
      "text/plain": [
       "200"
      ]
     },
     "execution_count": 57,
     "metadata": {},
     "output_type": "execute_result"
    }
   ],
   "source": [
    "b.pages"
   ]
  },
  {
   "cell_type": "code",
   "execution_count": 58,
   "id": "e54eae2b",
   "metadata": {},
   "outputs": [
    {
     "name": "stdout",
     "output_type": "stream",
     "text": [
      "Sample Book by Thomas Edison. Pages -> 200\n"
     ]
    }
   ],
   "source": [
    "print(b)"
   ]
  },
  {
   "cell_type": "code",
   "execution_count": 59,
   "id": "1033ae56",
   "metadata": {},
   "outputs": [
    {
     "data": {
      "text/plain": [
       "'Sample Book by Thomas Edison. Pages -> 200'"
      ]
     },
     "execution_count": 59,
     "metadata": {},
     "output_type": "execute_result"
    }
   ],
   "source": [
    "str(b)"
   ]
  },
  {
   "cell_type": "code",
   "execution_count": 60,
   "id": "40f71b80",
   "metadata": {},
   "outputs": [
    {
     "data": {
      "text/plain": [
       "200"
      ]
     },
     "execution_count": 60,
     "metadata": {},
     "output_type": "execute_result"
    }
   ],
   "source": [
    "len(b)"
   ]
  },
  {
   "cell_type": "code",
   "execution_count": 61,
   "id": "716ce3c8",
   "metadata": {},
   "outputs": [
    {
     "name": "stdout",
     "output_type": "stream",
     "text": [
      "This object has been deleted\n"
     ]
    }
   ],
   "source": [
    "del b"
   ]
  },
  {
   "cell_type": "code",
   "execution_count": null,
   "id": "e5504d71",
   "metadata": {},
   "outputs": [],
   "source": []
  }
 ],
 "metadata": {
  "kernelspec": {
   "display_name": "Python 3 (ipykernel)",
   "language": "python",
   "name": "python3"
  },
  "language_info": {
   "codemirror_mode": {
    "name": "ipython",
    "version": 3
   },
   "file_extension": ".py",
   "mimetype": "text/x-python",
   "name": "python",
   "nbconvert_exporter": "python",
   "pygments_lexer": "ipython3",
   "version": "3.11.4"
  }
 },
 "nbformat": 4,
 "nbformat_minor": 5
}
