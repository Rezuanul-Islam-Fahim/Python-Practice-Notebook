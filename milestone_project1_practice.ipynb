{
 "cells": [
  {
   "cell_type": "code",
   "execution_count": 1,
   "id": "9f954889",
   "metadata": {},
   "outputs": [],
   "source": [
    "game_on = True\n",
    "game_list = [2,3,4]"
   ]
  },
  {
   "cell_type": "code",
   "execution_count": 2,
   "id": "8bfdce58",
   "metadata": {},
   "outputs": [],
   "source": [
    "def choose_game_option(game_on):\n",
    "    result = ''\n",
    "    \n",
    "    while result not in ['y','n']:\n",
    "        result = input('Please enter an option (y/n): ')\n",
    "        \n",
    "        if result not in ['y','n']:\n",
    "            print('Please enter a valid input.')\n",
    "        else:\n",
    "            if result=='y':\n",
    "                game_on=True\n",
    "            elif result=='n':\n",
    "                game_on=False\n",
    "    \n",
    "    return game_on"
   ]
  },
  {
   "cell_type": "code",
   "execution_count": 3,
   "id": "d1620692",
   "metadata": {},
   "outputs": [],
   "source": [
    "def show_game_list():\n",
    "    print('Here is the current list')\n",
    "    print(game_list)"
   ]
  },
  {
   "cell_type": "code",
   "execution_count": 4,
   "id": "7fcfddea",
   "metadata": {},
   "outputs": [],
   "source": [
    "def update_game_list(game_list):\n",
    "    position = ''\n",
    "    \n",
    "    while position not in ['0','1','2']:\n",
    "        position = input('Please enter a position to update: ')\n",
    "        \n",
    "        if not position.isdigit():\n",
    "            print('Please enter a valid input')\n",
    "        else:\n",
    "            if int(position) not in range(0,3):\n",
    "                print('Please enter a number between 0 and 2')\n",
    "                \n",
    "    \n",
    "    new_item = input('Please enter an item: ')\n",
    "    game_list[int(position)] = new_item\n",
    "    \n",
    "    return game_list"
   ]
  },
  {
   "cell_type": "code",
   "execution_count": 5,
   "id": "48758d75",
   "metadata": {},
   "outputs": [
    {
     "name": "stdout",
     "output_type": "stream",
     "text": [
      "Here is the current list\n",
      "['UPDATED ITEM', 3, 4]\n",
      "Please enter an option (y/n): n\n"
     ]
    }
   ],
   "source": [
    "from IPython.display import clear_output\n",
    "\n",
    "while game_on:\n",
    "    clear_output()\n",
    "    show_game_list()\n",
    "    game_list = update_game_list(game_list)\n",
    "    clear_output()\n",
    "    show_game_list()\n",
    "    game_on = choose_game_option(game_on)"
   ]
  }
 ],
 "metadata": {
  "kernelspec": {
   "display_name": "Python 3 (ipykernel)",
   "language": "python",
   "name": "python3"
  },
  "language_info": {
   "codemirror_mode": {
    "name": "ipython",
    "version": 3
   },
   "file_extension": ".py",
   "mimetype": "text/x-python",
   "name": "python",
   "nbconvert_exporter": "python",
   "pygments_lexer": "ipython3",
   "version": "3.9.12"
  }
 },
 "nbformat": 4,
 "nbformat_minor": 5
}
