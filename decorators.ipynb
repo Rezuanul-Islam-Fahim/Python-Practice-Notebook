{
 "cells": [
  {
   "cell_type": "markdown",
   "id": "ec96d399",
   "metadata": {},
   "source": [
    "# Decorators"
   ]
  },
  {
   "cell_type": "code",
   "execution_count": 1,
   "id": "d0336fcf",
   "metadata": {},
   "outputs": [],
   "source": [
    "def my_func():\n",
    "    print('My func.......')"
   ]
  },
  {
   "cell_type": "code",
   "execution_count": 2,
   "id": "c5f186e7",
   "metadata": {},
   "outputs": [
    {
     "name": "stdout",
     "output_type": "stream",
     "text": [
      "My func.......\n"
     ]
    }
   ],
   "source": [
    "my_func()"
   ]
  },
  {
   "cell_type": "code",
   "execution_count": 3,
   "id": "0831045b",
   "metadata": {},
   "outputs": [],
   "source": [
    "def my_func():\n",
    "    print('My func....')\n",
    "    \n",
    "    def child_func():\n",
    "        print('Child func.....')\n",
    "    \n",
    "    child_func()"
   ]
  },
  {
   "cell_type": "code",
   "execution_count": 4,
   "id": "93b5ad1f",
   "metadata": {},
   "outputs": [
    {
     "name": "stdout",
     "output_type": "stream",
     "text": [
      "My func....\n",
      "Child func.....\n"
     ]
    }
   ],
   "source": [
    "my_func()"
   ]
  },
  {
   "cell_type": "code",
   "execution_count": 5,
   "id": "bed2c8af",
   "metadata": {},
   "outputs": [],
   "source": [
    "def my_func():\n",
    "    print('My func....')\n",
    "    \n",
    "    def child_func():\n",
    "        print('Child func...')\n",
    "    \n",
    "    return child_func"
   ]
  },
  {
   "cell_type": "code",
   "execution_count": 6,
   "id": "0f1fb2f0",
   "metadata": {},
   "outputs": [
    {
     "name": "stdout",
     "output_type": "stream",
     "text": [
      "My func....\n"
     ]
    },
    {
     "data": {
      "text/plain": [
       "<function __main__.my_func.<locals>.child_func()>"
      ]
     },
     "execution_count": 6,
     "metadata": {},
     "output_type": "execute_result"
    }
   ],
   "source": [
    "my_func()"
   ]
  },
  {
   "cell_type": "code",
   "execution_count": 7,
   "id": "dd6b4f1f",
   "metadata": {},
   "outputs": [
    {
     "name": "stdout",
     "output_type": "stream",
     "text": [
      "My func....\n"
     ]
    }
   ],
   "source": [
    "fn = my_func()"
   ]
  },
  {
   "cell_type": "code",
   "execution_count": 8,
   "id": "a32de31e",
   "metadata": {},
   "outputs": [
    {
     "name": "stdout",
     "output_type": "stream",
     "text": [
      "Child func...\n"
     ]
    }
   ],
   "source": [
    "fn()"
   ]
  },
  {
   "cell_type": "code",
   "execution_count": 9,
   "id": "f8f29d8a",
   "metadata": {},
   "outputs": [
    {
     "name": "stdout",
     "output_type": "stream",
     "text": [
      "My func....\n",
      "Child func...\n"
     ]
    }
   ],
   "source": [
    "my_func()()"
   ]
  },
  {
   "cell_type": "code",
   "execution_count": 10,
   "id": "e46c377a",
   "metadata": {},
   "outputs": [],
   "source": [
    "def another_func():\n",
    "    print('Message 2')"
   ]
  },
  {
   "cell_type": "code",
   "execution_count": 11,
   "id": "649c637a",
   "metadata": {},
   "outputs": [],
   "source": [
    "def my_func(fn):\n",
    "    print('Function execution started.......')\n",
    "    \n",
    "    def wrapped_func():\n",
    "        print('Message 1')\n",
    "        fn()\n",
    "        print('Message 3')\n",
    "    \n",
    "    return wrapped_func        "
   ]
  },
  {
   "cell_type": "code",
   "execution_count": 12,
   "id": "c550242f",
   "metadata": {},
   "outputs": [
    {
     "name": "stdout",
     "output_type": "stream",
     "text": [
      "Function execution started.......\n"
     ]
    },
    {
     "data": {
      "text/plain": [
       "<function __main__.my_func.<locals>.wrapped_func()>"
      ]
     },
     "execution_count": 12,
     "metadata": {},
     "output_type": "execute_result"
    }
   ],
   "source": [
    "my_func(another_func)"
   ]
  },
  {
   "cell_type": "code",
   "execution_count": 13,
   "id": "6bb11c91",
   "metadata": {},
   "outputs": [
    {
     "name": "stdout",
     "output_type": "stream",
     "text": [
      "Function execution started.......\n"
     ]
    }
   ],
   "source": [
    "another_func = my_func(another_func)"
   ]
  },
  {
   "cell_type": "code",
   "execution_count": 14,
   "id": "e06e9106",
   "metadata": {},
   "outputs": [
    {
     "name": "stdout",
     "output_type": "stream",
     "text": [
      "Message 1\n",
      "Message 2\n",
      "Message 3\n"
     ]
    }
   ],
   "source": [
    "another_func()"
   ]
  },
  {
   "cell_type": "code",
   "execution_count": 15,
   "id": "a023a918",
   "metadata": {},
   "outputs": [
    {
     "name": "stdout",
     "output_type": "stream",
     "text": [
      "Function execution started.......\n",
      "Message 1\n",
      "Message 1\n",
      "Message 2\n",
      "Message 3\n",
      "Message 3\n"
     ]
    }
   ],
   "source": [
    "my_func(another_func)()"
   ]
  },
  {
   "cell_type": "code",
   "execution_count": 16,
   "id": "8aeb71b0",
   "metadata": {},
   "outputs": [
    {
     "name": "stdout",
     "output_type": "stream",
     "text": [
      "Function execution started.......\n"
     ]
    }
   ],
   "source": [
    "@my_func\n",
    "def another_func():\n",
    "    print('Message 2.......')"
   ]
  },
  {
   "cell_type": "code",
   "execution_count": 17,
   "id": "b20bc133",
   "metadata": {},
   "outputs": [
    {
     "name": "stdout",
     "output_type": "stream",
     "text": [
      "Message 1\n",
      "Message 2.......\n",
      "Message 3\n"
     ]
    }
   ],
   "source": [
    "another_func()"
   ]
  },
  {
   "cell_type": "code",
   "execution_count": 18,
   "id": "f6821a02",
   "metadata": {},
   "outputs": [],
   "source": [
    "def uppercase_decorator(func):\n",
    "    \n",
    "    def wrapper():\n",
    "        myfunc = func()\n",
    "        uppercase = myfunc.upper()\n",
    "        return uppercase\n",
    "    \n",
    "    return wrapper"
   ]
  },
  {
   "cell_type": "code",
   "execution_count": 19,
   "id": "70cf1f5b",
   "metadata": {},
   "outputs": [],
   "source": [
    "@uppercase_decorator\n",
    "def return_str():\n",
    "    return 'hello world'"
   ]
  },
  {
   "cell_type": "code",
   "execution_count": 20,
   "id": "92220c47",
   "metadata": {},
   "outputs": [
    {
     "data": {
      "text/plain": [
       "'HELLO WORLD'"
      ]
     },
     "execution_count": 20,
     "metadata": {},
     "output_type": "execute_result"
    }
   ],
   "source": [
    "return_str()"
   ]
  },
  {
   "cell_type": "markdown",
   "id": "783c415c",
   "metadata": {},
   "source": [
    "# # Multiple decorator"
   ]
  },
  {
   "cell_type": "code",
   "execution_count": 21,
   "id": "5e68894b",
   "metadata": {},
   "outputs": [],
   "source": [
    "def split_string(func):\n",
    "    \n",
    "    def wrapper():\n",
    "        myfunc = func()\n",
    "        splitted_string = myfunc.split()\n",
    "        return splitted_string\n",
    "    \n",
    "    return wrapper"
   ]
  },
  {
   "cell_type": "code",
   "execution_count": 22,
   "id": "570eda63",
   "metadata": {},
   "outputs": [],
   "source": [
    "@split_string\n",
    "@uppercase_decorator\n",
    "def return_str():\n",
    "    return 'hello world'"
   ]
  },
  {
   "cell_type": "code",
   "execution_count": 23,
   "id": "cc7e06e5",
   "metadata": {},
   "outputs": [
    {
     "data": {
      "text/plain": [
       "['HELLO', 'WORLD']"
      ]
     },
     "execution_count": 23,
     "metadata": {},
     "output_type": "execute_result"
    }
   ],
   "source": [
    "return_str()"
   ]
  },
  {
   "cell_type": "markdown",
   "id": "352e3ba3",
   "metadata": {},
   "source": [
    "# Decorators with arguments"
   ]
  },
  {
   "cell_type": "code",
   "execution_count": 24,
   "id": "63118b98",
   "metadata": {},
   "outputs": [],
   "source": [
    "def decorator_with_arguments(func):\n",
    "    \n",
    "    def wrapper(arg1, arg2):\n",
    "        print(f'Printed inside wrapper -> {arg1}, {arg2}')\n",
    "        func(arg1, arg2)\n",
    "    \n",
    "    return wrapper"
   ]
  },
  {
   "cell_type": "code",
   "execution_count": 25,
   "id": "4a0d4ffd",
   "metadata": {},
   "outputs": [],
   "source": [
    "@decorator_with_arguments\n",
    "def myfunc(arg1, arg2):\n",
    "    print(f'Printed inside main function -> {arg1}, {arg2}')"
   ]
  },
  {
   "cell_type": "code",
   "execution_count": 26,
   "id": "6f876c5a",
   "metadata": {},
   "outputs": [
    {
     "name": "stdout",
     "output_type": "stream",
     "text": [
      "Printed inside wrapper -> arg1, arg2\n",
      "Printed inside main function -> arg1, arg2\n"
     ]
    }
   ],
   "source": [
    "myfunc('arg1', 'arg2')"
   ]
  },
  {
   "cell_type": "code",
   "execution_count": 27,
   "id": "c06d2bdb",
   "metadata": {},
   "outputs": [],
   "source": [
    "def new_decorator(func):\n",
    "    \n",
    "    def wrapper(*args, **kwargs):\n",
    "        print('Arguments are', args)\n",
    "        print('Keyword arguments are', kwargs)\n",
    "        func(*args)\n",
    "    \n",
    "    return wrapper"
   ]
  },
  {
   "cell_type": "code",
   "execution_count": 28,
   "id": "47a9f0bf",
   "metadata": {},
   "outputs": [],
   "source": [
    "@new_decorator\n",
    "def myfunc():\n",
    "    print('No arguments here')"
   ]
  },
  {
   "cell_type": "code",
   "execution_count": 29,
   "id": "cd9e7074",
   "metadata": {},
   "outputs": [
    {
     "name": "stdout",
     "output_type": "stream",
     "text": [
      "Arguments are ()\n",
      "Keyword arguments are {}\n",
      "No arguments here\n"
     ]
    }
   ],
   "source": [
    "myfunc()"
   ]
  },
  {
   "cell_type": "code",
   "execution_count": 30,
   "id": "d665347d",
   "metadata": {},
   "outputs": [],
   "source": [
    "@new_decorator\n",
    "def myfunc(a, b, c):\n",
    "    print('Arguments shown from main function {}, {}, {}'.format(a, b, c))"
   ]
  },
  {
   "cell_type": "code",
   "execution_count": 31,
   "id": "efde49d0",
   "metadata": {},
   "outputs": [
    {
     "name": "stdout",
     "output_type": "stream",
     "text": [
      "Arguments are (4, 5, 6)\n",
      "Keyword arguments are {}\n",
      "Arguments shown from main function 4, 5, 6\n"
     ]
    }
   ],
   "source": [
    "myfunc(4, 5, 6)"
   ]
  },
  {
   "cell_type": "code",
   "execution_count": 32,
   "id": "a739265d",
   "metadata": {},
   "outputs": [],
   "source": [
    "@new_decorator\n",
    "def myfunc(*args):\n",
    "    print('Arguments are: (printed from main):', args)"
   ]
  },
  {
   "cell_type": "code",
   "execution_count": 33,
   "id": "8cc769b8",
   "metadata": {},
   "outputs": [
    {
     "name": "stdout",
     "output_type": "stream",
     "text": [
      "Arguments are (4, 5, 6, 7)\n",
      "Keyword arguments are {}\n",
      "Arguments are: (printed from main): (4, 5, 6, 7)\n"
     ]
    }
   ],
   "source": [
    "myfunc(4, 5, 6, 7)"
   ]
  },
  {
   "cell_type": "code",
   "execution_count": 34,
   "id": "12fdc3ff",
   "metadata": {},
   "outputs": [],
   "source": [
    "@new_decorator\n",
    "def myfunc():\n",
    "    print('Keyword arguments shown from main function')"
   ]
  },
  {
   "cell_type": "code",
   "execution_count": 35,
   "id": "d4db287b",
   "metadata": {},
   "outputs": [
    {
     "name": "stdout",
     "output_type": "stream",
     "text": [
      "Arguments are ()\n",
      "Keyword arguments are {'animal': 'Sheep', 'color': 'Black'}\n",
      "Keyword arguments shown from main function\n"
     ]
    }
   ],
   "source": [
    "myfunc(animal = 'Sheep', color = 'Black')"
   ]
  },
  {
   "cell_type": "code",
   "execution_count": 36,
   "id": "49f69970",
   "metadata": {},
   "outputs": [],
   "source": [
    "@new_decorator\n",
    "def myfunc(*args):\n",
    "    print('Arguments are: (printed from main):', args)"
   ]
  },
  {
   "cell_type": "code",
   "execution_count": 37,
   "id": "c07c5d3e",
   "metadata": {},
   "outputs": [
    {
     "name": "stdout",
     "output_type": "stream",
     "text": [
      "Arguments are (1, 2, 3, 4)\n",
      "Keyword arguments are {}\n",
      "Arguments are: (printed from main): (1, 2, 3, 4)\n"
     ]
    }
   ],
   "source": [
    "myfunc(1,2,3,4)"
   ]
  },
  {
   "cell_type": "code",
   "execution_count": 38,
   "id": "23f661fd",
   "metadata": {},
   "outputs": [
    {
     "name": "stdout",
     "output_type": "stream",
     "text": [
      "Arguments are (1, 2, 3, 4)\n",
      "Keyword arguments are {'animal': 'Sheep', 'color': 'Black'}\n",
      "Arguments are: (printed from main): (1, 2, 3, 4)\n"
     ]
    }
   ],
   "source": [
    "myfunc(1, 2, 3, 4, animal = 'Sheep', color = 'Black')"
   ]
  },
  {
   "cell_type": "code",
   "execution_count": 39,
   "id": "5b84f9f3",
   "metadata": {},
   "outputs": [],
   "source": [
    "def new_decorator(func):\n",
    "    \n",
    "    def wrapper(*args, **kwargs):\n",
    "        print('Arguments are', args)\n",
    "        print('Keyword arguments are', kwargs)\n",
    "        func(*args, **kwargs)\n",
    "    \n",
    "    return wrapper"
   ]
  },
  {
   "cell_type": "code",
   "execution_count": 40,
   "id": "94dc30a4",
   "metadata": {},
   "outputs": [],
   "source": [
    "@new_decorator\n",
    "def myfunc(*args):\n",
    "    print('Arguments are: (printed from main):', args)"
   ]
  },
  {
   "cell_type": "code",
   "execution_count": 41,
   "id": "a4757b2d",
   "metadata": {},
   "outputs": [
    {
     "name": "stdout",
     "output_type": "stream",
     "text": [
      "Arguments are (4, 5, 6, 7)\n",
      "Keyword arguments are {}\n",
      "Arguments are: (printed from main): (4, 5, 6, 7)\n"
     ]
    }
   ],
   "source": [
    "myfunc(4, 5, 6, 7)"
   ]
  },
  {
   "cell_type": "code",
   "execution_count": 42,
   "id": "0e6ea03a",
   "metadata": {},
   "outputs": [],
   "source": [
    "@new_decorator\n",
    "def myfunc(*args, **kwargs):\n",
    "    print('Arguments are: (printed from main):', args)\n",
    "    print('Keyword arguments are: (printed from main):', kwargs)"
   ]
  },
  {
   "cell_type": "code",
   "execution_count": 43,
   "id": "51b6491b",
   "metadata": {},
   "outputs": [
    {
     "name": "stdout",
     "output_type": "stream",
     "text": [
      "Arguments are (1, 2, 3, 4)\n",
      "Keyword arguments are {'animal': 'Sheep', 'color': 'Black'}\n",
      "Arguments are: (printed from main): (1, 2, 3, 4)\n",
      "Keyword arguments are: (printed from main): {'animal': 'Sheep', 'color': 'Black'}\n"
     ]
    }
   ],
   "source": [
    "myfunc(1, 2, 3, 4, animal = 'Sheep', color = 'Black')"
   ]
  },
  {
   "cell_type": "markdown",
   "id": "10ef79f0",
   "metadata": {},
   "source": [
    "# Passing Arguments to the Decorator"
   ]
  },
  {
   "cell_type": "code",
   "execution_count": 44,
   "id": "098c79d4",
   "metadata": {},
   "outputs": [],
   "source": [
    "def decorator_maker(arg):\n",
    "    \n",
    "    def decorator(func):\n",
    "        def wrapper():\n",
    "            print(arg)\n",
    "            func()\n",
    "        \n",
    "        return wrapper\n",
    "    \n",
    "    return decorator"
   ]
  },
  {
   "cell_type": "code",
   "execution_count": 45,
   "id": "987b7762",
   "metadata": {},
   "outputs": [],
   "source": [
    "@decorator_maker('Argument')\n",
    "def myfunc():\n",
    "    print('Message inside main function')"
   ]
  },
  {
   "cell_type": "code",
   "execution_count": 46,
   "id": "1b7cf46a",
   "metadata": {},
   "outputs": [
    {
     "name": "stdout",
     "output_type": "stream",
     "text": [
      "Argument\n",
      "Message inside main function\n"
     ]
    }
   ],
   "source": [
    "myfunc()"
   ]
  },
  {
   "cell_type": "code",
   "execution_count": 47,
   "id": "4fec1942",
   "metadata": {},
   "outputs": [],
   "source": [
    "def decorator_maker(arg):\n",
    "    \n",
    "    def decorator(func):\n",
    "        return func\n",
    "    \n",
    "    return decorator"
   ]
  },
  {
   "cell_type": "code",
   "execution_count": 48,
   "id": "135d31c0",
   "metadata": {},
   "outputs": [],
   "source": [
    "@decorator_maker('Argument')\n",
    "def myfunc():\n",
    "    print('Message inside main function')"
   ]
  },
  {
   "cell_type": "code",
   "execution_count": 49,
   "id": "6889d415",
   "metadata": {},
   "outputs": [
    {
     "name": "stdout",
     "output_type": "stream",
     "text": [
      "Message inside main function\n"
     ]
    }
   ],
   "source": [
    "myfunc()"
   ]
  },
  {
   "cell_type": "code",
   "execution_count": 50,
   "id": "567c2704",
   "metadata": {},
   "outputs": [],
   "source": [
    "def decorator_maker(dec_arg):\n",
    "    \n",
    "    def decorator(func):\n",
    "        def wrapper(func_arg):\n",
    "            print(dec_arg)\n",
    "            func(func_arg)\n",
    "        \n",
    "        return wrapper\n",
    "    \n",
    "    return decorator"
   ]
  },
  {
   "cell_type": "code",
   "execution_count": 51,
   "id": "cdf49853",
   "metadata": {},
   "outputs": [],
   "source": [
    "@decorator_maker('Argument from decorator')\n",
    "def myfunc(func_arg):\n",
    "    print('Message inside main function:', func_arg)"
   ]
  },
  {
   "cell_type": "code",
   "execution_count": 52,
   "id": "07c4121f",
   "metadata": {},
   "outputs": [
    {
     "name": "stdout",
     "output_type": "stream",
     "text": [
      "Argument from decorator\n",
      "Message inside main function: Argument inside funtion\n"
     ]
    }
   ],
   "source": [
    "myfunc('Argument inside funtion')"
   ]
  },
  {
   "cell_type": "code",
   "execution_count": null,
   "id": "4a77a3f8",
   "metadata": {},
   "outputs": [],
   "source": []
  }
 ],
 "metadata": {
  "kernelspec": {
   "display_name": "Python 3 (ipykernel)",
   "language": "python",
   "name": "python3"
  },
  "language_info": {
   "codemirror_mode": {
    "name": "ipython",
    "version": 3
   },
   "file_extension": ".py",
   "mimetype": "text/x-python",
   "name": "python",
   "nbconvert_exporter": "python",
   "pygments_lexer": "ipython3",
   "version": "3.11.4"
  }
 },
 "nbformat": 4,
 "nbformat_minor": 5
}
