{
 "cells": [
  {
   "cell_type": "code",
   "execution_count": 1,
   "id": "5a797e19",
   "metadata": {},
   "outputs": [
    {
     "name": "stdout",
     "output_type": "stream",
     "text": [
      "['str1', 5, 'str2', 6]\n",
      "[5, 'str2', 6]\n"
     ]
    }
   ],
   "source": [
    "my_list = ['str1', 5, 'str2', 6]\n",
    "print(my_list)\n",
    "print(my_list[1:])"
   ]
  },
  {
   "cell_type": "code",
   "execution_count": 2,
   "id": "f915d540",
   "metadata": {},
   "outputs": [
    {
     "name": "stdout",
     "output_type": "stream",
     "text": [
      "['str1', 5, 'str2', 6]\n",
      "['str3', 'str4', 7]\n",
      "['str1', 5, 'str2', 6, 'str3', 'str4', 7]\n"
     ]
    }
   ],
   "source": [
    "another_list = ['str3', 'str4', 7]\n",
    "print(my_list)\n",
    "print(another_list)\n",
    "\n",
    "new_list = my_list + another_list\n",
    "print(new_list)"
   ]
  },
  {
   "cell_type": "code",
   "execution_count": 3,
   "id": "3a49fad6",
   "metadata": {},
   "outputs": [
    {
     "data": {
      "text/plain": [
       "['str1', 5, 'str2', 6]"
      ]
     },
     "execution_count": 3,
     "metadata": {},
     "output_type": "execute_result"
    }
   ],
   "source": [
    "my_list"
   ]
  },
  {
   "cell_type": "code",
   "execution_count": 4,
   "id": "564a44f5",
   "metadata": {},
   "outputs": [
    {
     "data": {
      "text/plain": [
       "['str3', 'str4', 7]"
      ]
     },
     "execution_count": 4,
     "metadata": {},
     "output_type": "execute_result"
    }
   ],
   "source": [
    "another_list"
   ]
  },
  {
   "cell_type": "code",
   "execution_count": 5,
   "id": "b676ffc4",
   "metadata": {},
   "outputs": [
    {
     "data": {
      "text/plain": [
       "['str1', 5, 'str2', 6, 'str3', 'str4', 7]"
      ]
     },
     "execution_count": 5,
     "metadata": {},
     "output_type": "execute_result"
    }
   ],
   "source": [
    "my_list+another_list"
   ]
  },
  {
   "cell_type": "code",
   "execution_count": 6,
   "id": "0ba067f6",
   "metadata": {},
   "outputs": [
    {
     "data": {
      "text/plain": [
       "['str1', 5, 'str2', 6]"
      ]
     },
     "execution_count": 6,
     "metadata": {},
     "output_type": "execute_result"
    }
   ],
   "source": [
    "my_list"
   ]
  },
  {
   "cell_type": "code",
   "execution_count": 7,
   "id": "23db0414",
   "metadata": {},
   "outputs": [],
   "source": [
    "new_list.append('str5')"
   ]
  },
  {
   "cell_type": "code",
   "execution_count": 8,
   "id": "221a3670",
   "metadata": {},
   "outputs": [
    {
     "data": {
      "text/plain": [
       "['str1', 5, 'str2', 6, 'str3', 'str4', 7, 'str5']"
      ]
     },
     "execution_count": 8,
     "metadata": {},
     "output_type": "execute_result"
    }
   ],
   "source": [
    "new_list"
   ]
  },
  {
   "cell_type": "code",
   "execution_count": 9,
   "id": "9ffe93ac",
   "metadata": {},
   "outputs": [
    {
     "data": {
      "text/plain": [
       "'str5'"
      ]
     },
     "execution_count": 9,
     "metadata": {},
     "output_type": "execute_result"
    }
   ],
   "source": [
    "new_list.pop()"
   ]
  },
  {
   "cell_type": "code",
   "execution_count": 10,
   "id": "21aaace6",
   "metadata": {},
   "outputs": [
    {
     "data": {
      "text/plain": [
       "['str1', 5, 'str2', 6, 'str3', 'str4', 7]"
      ]
     },
     "execution_count": 10,
     "metadata": {},
     "output_type": "execute_result"
    }
   ],
   "source": [
    "new_list"
   ]
  },
  {
   "cell_type": "code",
   "execution_count": 11,
   "id": "3f5daaf9",
   "metadata": {},
   "outputs": [],
   "source": [
    "popped_item = new_list.pop(1)"
   ]
  },
  {
   "cell_type": "code",
   "execution_count": 12,
   "id": "0409105d",
   "metadata": {},
   "outputs": [
    {
     "data": {
      "text/plain": [
       "['str1', 'str2', 6, 'str3', 'str4', 7]"
      ]
     },
     "execution_count": 12,
     "metadata": {},
     "output_type": "execute_result"
    }
   ],
   "source": [
    "new_list"
   ]
  },
  {
   "cell_type": "code",
   "execution_count": 13,
   "id": "cc86486e",
   "metadata": {},
   "outputs": [
    {
     "data": {
      "text/plain": [
       "5"
      ]
     },
     "execution_count": 13,
     "metadata": {},
     "output_type": "execute_result"
    }
   ],
   "source": [
    "popped_item"
   ]
  },
  {
   "cell_type": "code",
   "execution_count": 14,
   "id": "9b6cfd20",
   "metadata": {},
   "outputs": [],
   "source": [
    "my_num = [3, 6, 7, 2, 0, 4, 7]"
   ]
  },
  {
   "cell_type": "code",
   "execution_count": 15,
   "id": "d522397a",
   "metadata": {},
   "outputs": [],
   "source": [
    "my_num.sort()"
   ]
  },
  {
   "cell_type": "code",
   "execution_count": 16,
   "id": "9872c7c5",
   "metadata": {},
   "outputs": [
    {
     "data": {
      "text/plain": [
       "[0, 2, 3, 4, 6, 7, 7]"
      ]
     },
     "execution_count": 16,
     "metadata": {},
     "output_type": "execute_result"
    }
   ],
   "source": [
    "my_num"
   ]
  },
  {
   "cell_type": "code",
   "execution_count": 17,
   "id": "2dfe6f5b",
   "metadata": {},
   "outputs": [],
   "source": [
    "my_num.reverse()"
   ]
  },
  {
   "cell_type": "code",
   "execution_count": 18,
   "id": "694062f2",
   "metadata": {},
   "outputs": [
    {
     "data": {
      "text/plain": [
       "[7, 7, 6, 4, 3, 2, 0]"
      ]
     },
     "execution_count": 18,
     "metadata": {},
     "output_type": "execute_result"
    }
   ],
   "source": [
    "my_num"
   ]
  },
  {
   "cell_type": "code",
   "execution_count": null,
   "id": "d2bbff16",
   "metadata": {},
   "outputs": [],
   "source": []
  }
 ],
 "metadata": {
  "kernelspec": {
   "display_name": "Python 3 (ipykernel)",
   "language": "python",
   "name": "python3"
  },
  "language_info": {
   "codemirror_mode": {
    "name": "ipython",
    "version": 3
   },
   "file_extension": ".py",
   "mimetype": "text/x-python",
   "name": "python",
   "nbconvert_exporter": "python",
   "pygments_lexer": "ipython3",
   "version": "3.9.12"
  }
 },
 "nbformat": 4,
 "nbformat_minor": 5
}
