{
 "cells": [
  {
   "cell_type": "code",
   "execution_count": 1,
   "id": "d0336fcf",
   "metadata": {},
   "outputs": [],
   "source": [
    "def my_func():\n",
    "    print('My func.......')"
   ]
  },
  {
   "cell_type": "code",
   "execution_count": 2,
   "id": "c5f186e7",
   "metadata": {},
   "outputs": [
    {
     "name": "stdout",
     "output_type": "stream",
     "text": [
      "My func.......\n"
     ]
    }
   ],
   "source": [
    "my_func()"
   ]
  },
  {
   "cell_type": "code",
   "execution_count": 3,
   "id": "0831045b",
   "metadata": {},
   "outputs": [],
   "source": [
    "def my_func():\n",
    "    print('My func....')\n",
    "    \n",
    "    def child_func():\n",
    "        print('Child func.....')\n",
    "    \n",
    "    child_func()"
   ]
  },
  {
   "cell_type": "code",
   "execution_count": 4,
   "id": "93b5ad1f",
   "metadata": {},
   "outputs": [
    {
     "name": "stdout",
     "output_type": "stream",
     "text": [
      "My func....\n",
      "Child func.....\n"
     ]
    }
   ],
   "source": [
    "my_func()"
   ]
  },
  {
   "cell_type": "code",
   "execution_count": 5,
   "id": "bed2c8af",
   "metadata": {},
   "outputs": [],
   "source": [
    "def my_func():\n",
    "    print('My func....')\n",
    "    \n",
    "    def child_func():\n",
    "        print('Child func...')\n",
    "    \n",
    "    return child_func"
   ]
  },
  {
   "cell_type": "code",
   "execution_count": 6,
   "id": "0f1fb2f0",
   "metadata": {},
   "outputs": [
    {
     "name": "stdout",
     "output_type": "stream",
     "text": [
      "My func....\n"
     ]
    },
    {
     "data": {
      "text/plain": [
       "<function __main__.my_func.<locals>.child_func()>"
      ]
     },
     "execution_count": 6,
     "metadata": {},
     "output_type": "execute_result"
    }
   ],
   "source": [
    "my_func()"
   ]
  },
  {
   "cell_type": "code",
   "execution_count": 7,
   "id": "dd6b4f1f",
   "metadata": {},
   "outputs": [
    {
     "name": "stdout",
     "output_type": "stream",
     "text": [
      "My func....\n"
     ]
    }
   ],
   "source": [
    "fn = my_func()"
   ]
  },
  {
   "cell_type": "code",
   "execution_count": 8,
   "id": "a32de31e",
   "metadata": {},
   "outputs": [
    {
     "name": "stdout",
     "output_type": "stream",
     "text": [
      "Child func...\n"
     ]
    }
   ],
   "source": [
    "fn()"
   ]
  },
  {
   "cell_type": "code",
   "execution_count": 9,
   "id": "f8f29d8a",
   "metadata": {},
   "outputs": [
    {
     "name": "stdout",
     "output_type": "stream",
     "text": [
      "My func....\n",
      "Child func...\n"
     ]
    }
   ],
   "source": [
    "my_func()()"
   ]
  },
  {
   "cell_type": "code",
   "execution_count": 10,
   "id": "e46c377a",
   "metadata": {},
   "outputs": [],
   "source": [
    "def another_func():\n",
    "    print('Message 2')"
   ]
  },
  {
   "cell_type": "code",
   "execution_count": 11,
   "id": "649c637a",
   "metadata": {},
   "outputs": [],
   "source": [
    "def my_func(fn):\n",
    "    print('Function execution started.......')\n",
    "    \n",
    "    def wrapped_func():\n",
    "        print('Message 1')\n",
    "        fn()\n",
    "        print('Message 3')\n",
    "    \n",
    "    return wrapped_func        "
   ]
  },
  {
   "cell_type": "code",
   "execution_count": 12,
   "id": "c550242f",
   "metadata": {},
   "outputs": [
    {
     "name": "stdout",
     "output_type": "stream",
     "text": [
      "Function execution started.......\n"
     ]
    },
    {
     "data": {
      "text/plain": [
       "<function __main__.my_func.<locals>.wrapped_func()>"
      ]
     },
     "execution_count": 12,
     "metadata": {},
     "output_type": "execute_result"
    }
   ],
   "source": [
    "my_func(another_func)"
   ]
  },
  {
   "cell_type": "code",
   "execution_count": 13,
   "id": "6bb11c91",
   "metadata": {},
   "outputs": [
    {
     "name": "stdout",
     "output_type": "stream",
     "text": [
      "Function execution started.......\n"
     ]
    }
   ],
   "source": [
    "new_func = my_func(another_func)"
   ]
  },
  {
   "cell_type": "code",
   "execution_count": 14,
   "id": "e06e9106",
   "metadata": {},
   "outputs": [
    {
     "name": "stdout",
     "output_type": "stream",
     "text": [
      "Message 1\n",
      "Message 2\n",
      "Message 3\n"
     ]
    }
   ],
   "source": [
    "new_func()"
   ]
  },
  {
   "cell_type": "code",
   "execution_count": 15,
   "id": "a023a918",
   "metadata": {},
   "outputs": [
    {
     "name": "stdout",
     "output_type": "stream",
     "text": [
      "Function execution started.......\n",
      "Message 1\n",
      "Message 2\n",
      "Message 3\n"
     ]
    }
   ],
   "source": [
    "my_func(another_func)()"
   ]
  },
  {
   "cell_type": "code",
   "execution_count": 16,
   "id": "8aeb71b0",
   "metadata": {},
   "outputs": [
    {
     "name": "stdout",
     "output_type": "stream",
     "text": [
      "Function execution started.......\n"
     ]
    }
   ],
   "source": [
    "@my_func\n",
    "def another_func():\n",
    "    print('Message 2.......')"
   ]
  },
  {
   "cell_type": "code",
   "execution_count": 17,
   "id": "b20bc133",
   "metadata": {},
   "outputs": [
    {
     "name": "stdout",
     "output_type": "stream",
     "text": [
      "Message 1\n",
      "Message 2.......\n",
      "Message 3\n"
     ]
    }
   ],
   "source": [
    "another_func()"
   ]
  },
  {
   "cell_type": "code",
   "execution_count": null,
   "id": "f6821a02",
   "metadata": {},
   "outputs": [],
   "source": []
  }
 ],
 "metadata": {
  "kernelspec": {
   "display_name": "Python 3 (ipykernel)",
   "language": "python",
   "name": "python3"
  },
  "language_info": {
   "codemirror_mode": {
    "name": "ipython",
    "version": 3
   },
   "file_extension": ".py",
   "mimetype": "text/x-python",
   "name": "python",
   "nbconvert_exporter": "python",
   "pygments_lexer": "ipython3",
   "version": "3.9.12"
  }
 },
 "nbformat": 4,
 "nbformat_minor": 5
}
