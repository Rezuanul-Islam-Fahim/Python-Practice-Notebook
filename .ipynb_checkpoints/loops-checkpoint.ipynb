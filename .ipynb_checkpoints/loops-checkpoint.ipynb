{
 "cells": [
  {
   "cell_type": "markdown",
   "id": "0eabb2d8",
   "metadata": {},
   "source": [
    "# For loops"
   ]
  },
  {
   "cell_type": "code",
   "execution_count": 1,
   "id": "fe5548bd",
   "metadata": {},
   "outputs": [
    {
     "name": "stdout",
     "output_type": "stream",
     "text": [
      "2\n",
      "3\n",
      "4\n",
      "5\n",
      "2\n",
      "1\n",
      "2\n"
     ]
    }
   ],
   "source": [
    "mylist = [2, 3, 4, 5, 2, 1, 2]\n",
    "\n",
    "for item in mylist:\n",
    "    print(item)"
   ]
  },
  {
   "cell_type": "code",
   "execution_count": 2,
   "id": "b2dffc88",
   "metadata": {},
   "outputs": [
    {
     "name": "stdout",
     "output_type": "stream",
     "text": [
      "Even number: 2\n",
      "Odd number: 3\n",
      "Even number: 4\n",
      "Odd number: 5\n",
      "Even number: 2\n",
      "Odd number: 1\n",
      "Even number: 2\n"
     ]
    }
   ],
   "source": [
    "for item in mylist:\n",
    "    if item % 2 == 0:\n",
    "        print(f'Even number: {item}')\n",
    "    else:\n",
    "        print(f'Odd number: {item}')"
   ]
  },
  {
   "cell_type": "code",
   "execution_count": 3,
   "id": "1e3c2b28",
   "metadata": {},
   "outputs": [
    {
     "name": "stdout",
     "output_type": "stream",
     "text": [
      "Msg\n",
      "Msg\n",
      "Msg\n",
      "Msg\n",
      "Msg\n",
      "Msg\n",
      "Msg\n"
     ]
    }
   ],
   "source": [
    "for _ in mylist:\n",
    "    print('Msg')"
   ]
  },
  {
   "cell_type": "code",
   "execution_count": 4,
   "id": "3b442840",
   "metadata": {},
   "outputs": [
    {
     "name": "stdout",
     "output_type": "stream",
     "text": [
      "h\n",
      "e\n",
      "l\n",
      "l\n",
      "o\n",
      " \n",
      "w\n",
      "o\n",
      "r\n",
      "l\n",
      "d\n"
     ]
    }
   ],
   "source": [
    "for l in 'hello world':\n",
    "    print(l)"
   ]
  },
  {
   "cell_type": "code",
   "execution_count": 5,
   "id": "7c1b7395",
   "metadata": {},
   "outputs": [
    {
     "name": "stdout",
     "output_type": "stream",
     "text": [
      "1\n",
      "2\n",
      "3\n"
     ]
    }
   ],
   "source": [
    "tup = (1, 2, 3)\n",
    "\n",
    "for i in tup:\n",
    "    print(i)"
   ]
  },
  {
   "cell_type": "code",
   "execution_count": 6,
   "id": "369af0f8",
   "metadata": {},
   "outputs": [
    {
     "name": "stdout",
     "output_type": "stream",
     "text": [
      "(1, 2)\n",
      "(3, 4)\n",
      "(5, 6)\n",
      "(7, 8)\n"
     ]
    }
   ],
   "source": [
    "tup = [(1,2),(3,4),(5,6),(7,8)]\n",
    "\n",
    "for t in tup:\n",
    "    print(t)"
   ]
  },
  {
   "cell_type": "code",
   "execution_count": 7,
   "id": "ef952614",
   "metadata": {},
   "outputs": [
    {
     "name": "stdout",
     "output_type": "stream",
     "text": [
      "1 -- 2\n",
      "3 -- 4\n",
      "5 -- 6\n",
      "7 -- 8\n"
     ]
    }
   ],
   "source": [
    "for (a,b) in tup:\n",
    "    print(f'{a} -- {b}')"
   ]
  },
  {
   "cell_type": "code",
   "execution_count": 8,
   "id": "03879eeb",
   "metadata": {},
   "outputs": [
    {
     "name": "stdout",
     "output_type": "stream",
     "text": [
      "1 -- 2\n",
      "3 -- 4\n",
      "5 -- 6\n",
      "7 -- 8\n"
     ]
    }
   ],
   "source": [
    "for a,b in tup:\n",
    "    print(f'{a} -- {b}')"
   ]
  },
  {
   "cell_type": "code",
   "execution_count": 9,
   "id": "ff3053b3",
   "metadata": {},
   "outputs": [],
   "source": [
    "mydict = {'k1':'v1', 'k2':'v2', 'k3':'v3', 'k4':'v4'}"
   ]
  },
  {
   "cell_type": "code",
   "execution_count": 10,
   "id": "44ef770d",
   "metadata": {},
   "outputs": [
    {
     "name": "stdout",
     "output_type": "stream",
     "text": [
      "k1\n",
      "k2\n",
      "k3\n",
      "k4\n"
     ]
    }
   ],
   "source": [
    "for key in mydict.keys():\n",
    "    print(key)"
   ]
  },
  {
   "cell_type": "code",
   "execution_count": 11,
   "id": "a0e263d3",
   "metadata": {},
   "outputs": [
    {
     "name": "stdout",
     "output_type": "stream",
     "text": [
      "v1\n",
      "v2\n",
      "v3\n",
      "v4\n"
     ]
    }
   ],
   "source": [
    "for value in mydict.values():\n",
    "    print(value)"
   ]
  },
  {
   "cell_type": "code",
   "execution_count": 12,
   "id": "8a5fd1f5",
   "metadata": {},
   "outputs": [
    {
     "name": "stdout",
     "output_type": "stream",
     "text": [
      "('k1', 'v1')\n",
      "('k2', 'v2')\n",
      "('k3', 'v3')\n",
      "('k4', 'v4')\n"
     ]
    }
   ],
   "source": [
    "for item in mydict.items():\n",
    "    print(item)"
   ]
  },
  {
   "cell_type": "code",
   "execution_count": 13,
   "id": "6ae13442",
   "metadata": {},
   "outputs": [
    {
     "name": "stdout",
     "output_type": "stream",
     "text": [
      "k1 -> v1\n",
      "k2 -> v2\n",
      "k3 -> v3\n",
      "k4 -> v4\n"
     ]
    }
   ],
   "source": [
    "for k,v in mydict.items():\n",
    "    print(f'{k} -> {v}')"
   ]
  },
  {
   "cell_type": "code",
   "execution_count": null,
   "id": "30ca9221",
   "metadata": {},
   "outputs": [],
   "source": []
  }
 ],
 "metadata": {
  "kernelspec": {
   "display_name": "Python 3 (ipykernel)",
   "language": "python",
   "name": "python3"
  },
  "language_info": {
   "codemirror_mode": {
    "name": "ipython",
    "version": 3
   },
   "file_extension": ".py",
   "mimetype": "text/x-python",
   "name": "python",
   "nbconvert_exporter": "python",
   "pygments_lexer": "ipython3",
   "version": "3.9.12"
  }
 },
 "nbformat": 4,
 "nbformat_minor": 5
}
