{
 "cells": [
  {
   "cell_type": "code",
   "execution_count": 1,
   "id": "97f67f2d",
   "metadata": {},
   "outputs": [],
   "source": [
    "def add(x: int, y: int) -> int:\n",
    "    return x + y"
   ]
  },
  {
   "cell_type": "code",
   "execution_count": 2,
   "id": "23f7ef52",
   "metadata": {},
   "outputs": [
    {
     "data": {
      "text/plain": [
       "11"
      ]
     },
     "execution_count": 2,
     "metadata": {},
     "output_type": "execute_result"
    }
   ],
   "source": [
    "add(5, 6)"
   ]
  },
  {
   "cell_type": "code",
   "execution_count": 3,
   "id": "59c784fd",
   "metadata": {},
   "outputs": [],
   "source": [
    "class Animal:\n",
    "    \n",
    "    def __init__(self, name: str, color: str):\n",
    "        self.name = name\n",
    "        self.color = color\n",
    "    \n",
    "    def get_color(self) -> str:\n",
    "        return self.color"
   ]
  },
  {
   "cell_type": "code",
   "execution_count": 4,
   "id": "92a97da4",
   "metadata": {},
   "outputs": [],
   "source": [
    "new_animal = Animal('Horse', 'Black')"
   ]
  },
  {
   "cell_type": "code",
   "execution_count": 5,
   "id": "cfcadfef",
   "metadata": {},
   "outputs": [
    {
     "data": {
      "text/plain": [
       "'Black'"
      ]
     },
     "execution_count": 5,
     "metadata": {},
     "output_type": "execute_result"
    }
   ],
   "source": [
    "new_animal.get_color()"
   ]
  },
  {
   "cell_type": "code",
   "execution_count": null,
   "id": "54689d2e",
   "metadata": {},
   "outputs": [],
   "source": []
  }
 ],
 "metadata": {
  "kernelspec": {
   "display_name": "Python 3 (ipykernel)",
   "language": "python",
   "name": "python3"
  },
  "language_info": {
   "codemirror_mode": {
    "name": "ipython",
    "version": 3
   },
   "file_extension": ".py",
   "mimetype": "text/x-python",
   "name": "python",
   "nbconvert_exporter": "python",
   "pygments_lexer": "ipython3",
   "version": "3.11.4"
  }
 },
 "nbformat": 4,
 "nbformat_minor": 5
}
