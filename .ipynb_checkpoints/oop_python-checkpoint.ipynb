{
 "cells": [
  {
   "cell_type": "code",
   "execution_count": 1,
   "id": "c605c4a8",
   "metadata": {},
   "outputs": [],
   "source": [
    "class Circle():\n",
    "    \n",
    "    pi = 3.1416\n",
    "    \n",
    "    def __init__(self,radius):\n",
    "        self.radius = radius\n",
    "        self.area = Circle.pi*radius*radius\n",
    "    \n",
    "    def calculate_perimeter(self):\n",
    "        return 2*Circle.pi*self.radius"
   ]
  },
  {
   "cell_type": "code",
   "execution_count": 2,
   "id": "7a183e68",
   "metadata": {},
   "outputs": [],
   "source": [
    "my_circle = Circle(20)"
   ]
  },
  {
   "cell_type": "code",
   "execution_count": 3,
   "id": "b0a0deb4",
   "metadata": {},
   "outputs": [
    {
     "data": {
      "text/plain": [
       "20"
      ]
     },
     "execution_count": 3,
     "metadata": {},
     "output_type": "execute_result"
    }
   ],
   "source": [
    "my_circle.radius"
   ]
  },
  {
   "cell_type": "code",
   "execution_count": 4,
   "id": "2401ad7d",
   "metadata": {},
   "outputs": [
    {
     "data": {
      "text/plain": [
       "3.1416"
      ]
     },
     "execution_count": 4,
     "metadata": {},
     "output_type": "execute_result"
    }
   ],
   "source": [
    "Circle.pi"
   ]
  },
  {
   "cell_type": "code",
   "execution_count": 5,
   "id": "0160881e",
   "metadata": {},
   "outputs": [
    {
     "data": {
      "text/plain": [
       "125.664"
      ]
     },
     "execution_count": 5,
     "metadata": {},
     "output_type": "execute_result"
    }
   ],
   "source": [
    "my_circle.calculate_perimeter()"
   ]
  },
  {
   "cell_type": "markdown",
   "id": "daab2c88",
   "metadata": {},
   "source": [
    "# Inheritance"
   ]
  },
  {
   "cell_type": "code",
   "execution_count": 6,
   "id": "0a110633",
   "metadata": {},
   "outputs": [],
   "source": [
    "class Animal():\n",
    "    \n",
    "    def __init__(self,name):\n",
    "        self.name = name\n",
    "    \n",
    "    def print_message(self):\n",
    "        print('I am an animal')"
   ]
  },
  {
   "cell_type": "code",
   "execution_count": 7,
   "id": "f6c43538",
   "metadata": {},
   "outputs": [],
   "source": [
    "animal = Animal('elephant')"
   ]
  },
  {
   "cell_type": "code",
   "execution_count": 8,
   "id": "39c87198",
   "metadata": {},
   "outputs": [
    {
     "data": {
      "text/plain": [
       "'elephant'"
      ]
     },
     "execution_count": 8,
     "metadata": {},
     "output_type": "execute_result"
    }
   ],
   "source": [
    "animal.name"
   ]
  },
  {
   "cell_type": "code",
   "execution_count": 9,
   "id": "4fa1160a",
   "metadata": {},
   "outputs": [],
   "source": [
    "animal = Animal(name='cat')"
   ]
  },
  {
   "cell_type": "code",
   "execution_count": 10,
   "id": "4a7ce330",
   "metadata": {},
   "outputs": [
    {
     "data": {
      "text/plain": [
       "'cat'"
      ]
     },
     "execution_count": 10,
     "metadata": {},
     "output_type": "execute_result"
    }
   ],
   "source": [
    "animal.name"
   ]
  },
  {
   "cell_type": "code",
   "execution_count": 11,
   "id": "16df4a36",
   "metadata": {},
   "outputs": [
    {
     "name": "stdout",
     "output_type": "stream",
     "text": [
      "I am an animal\n"
     ]
    }
   ],
   "source": [
    "animal.print_message()"
   ]
  },
  {
   "cell_type": "code",
   "execution_count": 12,
   "id": "2486952d",
   "metadata": {},
   "outputs": [],
   "source": [
    "class Cat(Animal):\n",
    "    \n",
    "    def __init__(self,name,legs):\n",
    "        Animal.__init__(self,name)\n",
    "        self.legs = legs\n",
    "        \n",
    "    def print_message(self):\n",
    "        print('Overriden message')\n",
    "    \n",
    "    def print_cat_message(self):\n",
    "        print('I am a cat')"
   ]
  },
  {
   "cell_type": "code",
   "execution_count": 13,
   "id": "3a8f0e69",
   "metadata": {},
   "outputs": [],
   "source": [
    "cat = Cat(name='Cat',legs=4)"
   ]
  },
  {
   "cell_type": "code",
   "execution_count": 14,
   "id": "2d17da14",
   "metadata": {},
   "outputs": [
    {
     "data": {
      "text/plain": [
       "4"
      ]
     },
     "execution_count": 14,
     "metadata": {},
     "output_type": "execute_result"
    }
   ],
   "source": [
    "cat.legs"
   ]
  },
  {
   "cell_type": "code",
   "execution_count": 15,
   "id": "7598077e",
   "metadata": {},
   "outputs": [
    {
     "name": "stdout",
     "output_type": "stream",
     "text": [
      "Overriden message\n"
     ]
    }
   ],
   "source": [
    "cat.print_message()"
   ]
  },
  {
   "cell_type": "code",
   "execution_count": 16,
   "id": "964b9d47",
   "metadata": {},
   "outputs": [
    {
     "data": {
      "text/plain": [
       "'Cat'"
      ]
     },
     "execution_count": 16,
     "metadata": {},
     "output_type": "execute_result"
    }
   ],
   "source": [
    "cat.name"
   ]
  },
  {
   "cell_type": "code",
   "execution_count": 17,
   "id": "83c23b3c",
   "metadata": {},
   "outputs": [
    {
     "name": "stdout",
     "output_type": "stream",
     "text": [
      "I am a cat\n"
     ]
    }
   ],
   "source": [
    "cat.print_cat_message()"
   ]
  },
  {
   "cell_type": "markdown",
   "id": "542a3e54",
   "metadata": {},
   "source": [
    "# Polymorphism"
   ]
  },
  {
   "cell_type": "code",
   "execution_count": 18,
   "id": "c1b43d66",
   "metadata": {},
   "outputs": [],
   "source": [
    "class Cat():\n",
    "    \n",
    "    def __init__(self,name):\n",
    "        self.name = name\n",
    "    \n",
    "    def speak(self):\n",
    "        return 'I am a cat'"
   ]
  },
  {
   "cell_type": "code",
   "execution_count": 19,
   "id": "0c22e1d7",
   "metadata": {},
   "outputs": [],
   "source": [
    "class Dog():\n",
    "    \n",
    "    def __init__(self,name):\n",
    "        self.name = name\n",
    "    \n",
    "    def speak(self):\n",
    "        return 'I am a dog'"
   ]
  },
  {
   "cell_type": "code",
   "execution_count": 20,
   "id": "c88cfd72",
   "metadata": {},
   "outputs": [],
   "source": [
    "c = Cat('Mimi')\n",
    "d = Dog('Thomas')"
   ]
  },
  {
   "cell_type": "code",
   "execution_count": 21,
   "id": "ab1c3ef8",
   "metadata": {},
   "outputs": [
    {
     "data": {
      "text/plain": [
       "'Mimi'"
      ]
     },
     "execution_count": 21,
     "metadata": {},
     "output_type": "execute_result"
    }
   ],
   "source": [
    "c.name"
   ]
  },
  {
   "cell_type": "code",
   "execution_count": 22,
   "id": "8eb25c05",
   "metadata": {},
   "outputs": [
    {
     "data": {
      "text/plain": [
       "'I am a cat'"
      ]
     },
     "execution_count": 22,
     "metadata": {},
     "output_type": "execute_result"
    }
   ],
   "source": [
    "c.speak()"
   ]
  },
  {
   "cell_type": "code",
   "execution_count": 23,
   "id": "3fa76559",
   "metadata": {},
   "outputs": [
    {
     "data": {
      "text/plain": [
       "'Thomas'"
      ]
     },
     "execution_count": 23,
     "metadata": {},
     "output_type": "execute_result"
    }
   ],
   "source": [
    "d.name"
   ]
  },
  {
   "cell_type": "code",
   "execution_count": 24,
   "id": "e9f735df",
   "metadata": {},
   "outputs": [
    {
     "data": {
      "text/plain": [
       "'I am a dog'"
      ]
     },
     "execution_count": 24,
     "metadata": {},
     "output_type": "execute_result"
    }
   ],
   "source": [
    "d.speak()"
   ]
  },
  {
   "cell_type": "code",
   "execution_count": 25,
   "id": "17b1a925",
   "metadata": {},
   "outputs": [
    {
     "name": "stdout",
     "output_type": "stream",
     "text": [
      "Mimi\n",
      "I am a cat\n",
      "Thomas\n",
      "I am a dog\n"
     ]
    }
   ],
   "source": [
    "for pet in [c,d]:\n",
    "    print(pet.name)\n",
    "    print(pet.speak())"
   ]
  },
  {
   "cell_type": "code",
   "execution_count": 26,
   "id": "e19a6c58",
   "metadata": {},
   "outputs": [],
   "source": [
    "def speak(pet):\n",
    "    print(pet.speak())"
   ]
  },
  {
   "cell_type": "code",
   "execution_count": 27,
   "id": "31848be1",
   "metadata": {},
   "outputs": [
    {
     "name": "stdout",
     "output_type": "stream",
     "text": [
      "I am a cat\n"
     ]
    }
   ],
   "source": [
    "speak(c)"
   ]
  },
  {
   "cell_type": "code",
   "execution_count": 28,
   "id": "65d92e29",
   "metadata": {},
   "outputs": [
    {
     "name": "stdout",
     "output_type": "stream",
     "text": [
      "I am a dog\n"
     ]
    }
   ],
   "source": [
    "speak(d)"
   ]
  },
  {
   "cell_type": "markdown",
   "id": "4ea1f3d4",
   "metadata": {},
   "source": [
    "# Polymorphism with abstract class"
   ]
  },
  {
   "cell_type": "code",
   "execution_count": 29,
   "id": "081b7ace",
   "metadata": {},
   "outputs": [],
   "source": [
    "class Animal():\n",
    "    \n",
    "    def __init__(self,name):\n",
    "        self.name = name\n",
    "    \n",
    "    def speak(self):\n",
    "        raise NotImplementedError('This method must be overriden from child class')"
   ]
  },
  {
   "cell_type": "code",
   "execution_count": 30,
   "id": "56fd691f",
   "metadata": {},
   "outputs": [],
   "source": [
    "# Animal('name').speak()\n",
    "# ===============================\n",
    "# Throws an error\n",
    "# Can not created an instance for abstract class"
   ]
  },
  {
   "cell_type": "code",
   "execution_count": 31,
   "id": "140c3139",
   "metadata": {},
   "outputs": [],
   "source": [
    "class Cat(Animal):\n",
    "    \n",
    "    def speak(self):\n",
    "        return 'Hello, I am a cat'"
   ]
  },
  {
   "cell_type": "code",
   "execution_count": 32,
   "id": "ee50c5e4",
   "metadata": {},
   "outputs": [],
   "source": [
    "cat = Cat(name='Mimi')"
   ]
  },
  {
   "cell_type": "code",
   "execution_count": 33,
   "id": "a94163dd",
   "metadata": {},
   "outputs": [
    {
     "data": {
      "text/plain": [
       "'Mimi'"
      ]
     },
     "execution_count": 33,
     "metadata": {},
     "output_type": "execute_result"
    }
   ],
   "source": [
    "cat.name"
   ]
  },
  {
   "cell_type": "code",
   "execution_count": 34,
   "id": "4d98a5f7",
   "metadata": {},
   "outputs": [
    {
     "data": {
      "text/plain": [
       "'Hello, I am a cat'"
      ]
     },
     "execution_count": 34,
     "metadata": {},
     "output_type": "execute_result"
    }
   ],
   "source": [
    "cat.speak()"
   ]
  },
  {
   "cell_type": "code",
   "execution_count": null,
   "id": "32e4ef39",
   "metadata": {},
   "outputs": [],
   "source": []
  }
 ],
 "metadata": {
  "kernelspec": {
   "display_name": "Python 3 (ipykernel)",
   "language": "python",
   "name": "python3"
  },
  "language_info": {
   "codemirror_mode": {
    "name": "ipython",
    "version": 3
   },
   "file_extension": ".py",
   "mimetype": "text/x-python",
   "name": "python",
   "nbconvert_exporter": "python",
   "pygments_lexer": "ipython3",
   "version": "3.9.12"
  }
 },
 "nbformat": 4,
 "nbformat_minor": 5
}
