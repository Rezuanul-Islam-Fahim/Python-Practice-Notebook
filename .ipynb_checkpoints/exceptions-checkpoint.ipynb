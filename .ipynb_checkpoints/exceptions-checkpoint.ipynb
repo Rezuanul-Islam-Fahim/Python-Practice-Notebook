{
 "cells": [
  {
   "cell_type": "code",
   "execution_count": 1,
   "id": "786483b0",
   "metadata": {},
   "outputs": [
    {
     "name": "stdout",
     "output_type": "stream",
     "text": [
      "Error occurred\n"
     ]
    }
   ],
   "source": [
    "try:\n",
    "    result = 10 + '10'\n",
    "except:\n",
    "    print('Error occurred')"
   ]
  },
  {
   "cell_type": "code",
   "execution_count": 2,
   "id": "a9e7bb98",
   "metadata": {},
   "outputs": [
    {
     "name": "stdout",
     "output_type": "stream",
     "text": [
      "No issues found\n",
      "20\n"
     ]
    }
   ],
   "source": [
    "try:\n",
    "    result = 10 + 10\n",
    "except:\n",
    "    print('Error occurred')\n",
    "else:\n",
    "    print('No issues found')\n",
    "    print(result)"
   ]
  },
  {
   "cell_type": "code",
   "execution_count": 3,
   "id": "a67c062b",
   "metadata": {},
   "outputs": [
    {
     "name": "stdout",
     "output_type": "stream",
     "text": [
      "Error occurred\n",
      "Always run\n"
     ]
    }
   ],
   "source": [
    "try:\n",
    "    f = open('test.txt','r')\n",
    "    f.write('This is a line')\n",
    "except:\n",
    "    print('Error occurred')\n",
    "finally:\n",
    "    print('Always run')"
   ]
  },
  {
   "cell_type": "code",
   "execution_count": 4,
   "id": "e8f072e7",
   "metadata": {},
   "outputs": [
    {
     "name": "stdout",
     "output_type": "stream",
     "text": [
      "Os error occurred\n",
      "Always run\n"
     ]
    }
   ],
   "source": [
    "try:\n",
    "    f = open('test.txt','r')\n",
    "    f.write('Sample line')\n",
    "except TypeError:\n",
    "    print('TypeError occurred')\n",
    "except OSError:\n",
    "    print('Os error occurred')\n",
    "except:\n",
    "    print('Unknown error occurred')\n",
    "finally:\n",
    "    print('Always run')"
   ]
  },
  {
   "cell_type": "code",
   "execution_count": 5,
   "id": "c610098e",
   "metadata": {},
   "outputs": [],
   "source": [
    "def ask_for_int():\n",
    "    while True:\n",
    "        try:\n",
    "            result = int(input('Please provide a number: '))\n",
    "        except:\n",
    "            print('Error occurred')\n",
    "            continue\n",
    "        else:\n",
    "            print('Correct number entered')\n",
    "            break\n",
    "        finally:\n",
    "            print('Final message')"
   ]
  },
  {
   "cell_type": "code",
   "execution_count": 6,
   "id": "4a2d2979",
   "metadata": {},
   "outputs": [
    {
     "name": "stdout",
     "output_type": "stream",
     "text": [
      "Please provide a number: g\n",
      "Error occurred\n",
      "Final message\n",
      "Please provide a number: 4\n",
      "Correct number entered\n",
      "Final message\n"
     ]
    }
   ],
   "source": [
    "ask_for_int()"
   ]
  },
  {
   "cell_type": "code",
   "execution_count": null,
   "id": "b5814e4e",
   "metadata": {},
   "outputs": [],
   "source": []
  }
 ],
 "metadata": {
  "kernelspec": {
   "display_name": "Python 3 (ipykernel)",
   "language": "python",
   "name": "python3"
  },
  "language_info": {
   "codemirror_mode": {
    "name": "ipython",
    "version": 3
   },
   "file_extension": ".py",
   "mimetype": "text/x-python",
   "name": "python",
   "nbconvert_exporter": "python",
   "pygments_lexer": "ipython3",
   "version": "3.9.12"
  }
 },
 "nbformat": 4,
 "nbformat_minor": 5
}
