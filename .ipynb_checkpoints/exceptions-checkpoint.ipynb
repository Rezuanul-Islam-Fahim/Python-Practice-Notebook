{
 "cells": [
  {
   "cell_type": "code",
   "execution_count": 1,
   "id": "b1a94833",
   "metadata": {},
   "outputs": [
    {
     "name": "stdout",
     "output_type": "stream",
     "text": [
      "Error occurred\n"
     ]
    }
   ],
   "source": [
    "try:\n",
    "    result = 10 + '10'\n",
    "except:\n",
    "    print('Error occurred')"
   ]
  },
  {
   "cell_type": "code",
   "execution_count": 2,
   "id": "d0616c99",
   "metadata": {},
   "outputs": [
    {
     "name": "stdout",
     "output_type": "stream",
     "text": [
      "No issues found\n",
      "20\n"
     ]
    }
   ],
   "source": [
    "try:\n",
    "    result = 10 + 10\n",
    "except:\n",
    "    print('Error occurred')\n",
    "else:\n",
    "    print('No issues found')\n",
    "    print(result)"
   ]
  },
  {
   "cell_type": "code",
   "execution_count": 3,
   "id": "0162b250",
   "metadata": {},
   "outputs": [
    {
     "name": "stdout",
     "output_type": "stream",
     "text": [
      "Error occurred\n",
      "Always run\n"
     ]
    }
   ],
   "source": [
    "try:\n",
    "    f = open('test.txt','r')\n",
    "    f.write('This is a line')\n",
    "except:\n",
    "    print('Error occurred')\n",
    "finally:\n",
    "    print('Always run')"
   ]
  },
  {
   "cell_type": "code",
   "execution_count": 4,
   "id": "39bcba77",
   "metadata": {},
   "outputs": [
    {
     "name": "stdout",
     "output_type": "stream",
     "text": [
      "Os error occurred\n",
      "Always run\n"
     ]
    }
   ],
   "source": [
    "try:\n",
    "    f = open('test.txt','r')\n",
    "    f.write('Sample line')\n",
    "except TypeError:\n",
    "    print('TypeError occurred')\n",
    "except OSError:\n",
    "    print('Os error occurred')\n",
    "except:\n",
    "    print('Unknown error occurred')\n",
    "finally:\n",
    "    print('Always run')"
   ]
  },
  {
   "cell_type": "code",
   "execution_count": 5,
   "id": "372dabfa",
   "metadata": {},
   "outputs": [],
   "source": [
    "def ask_for_int():\n",
    "    while True:\n",
    "        try:\n",
    "            result = int(input('Please provide a number: '))\n",
    "        except:\n",
    "            print('Error occurred')\n",
    "            continue\n",
    "        else:\n",
    "            print('Correct number entered')\n",
    "            break\n",
    "        finally:\n",
    "            print('Final message')"
   ]
  },
  {
   "cell_type": "code",
   "execution_count": 6,
   "id": "2152c087",
   "metadata": {},
   "outputs": [
    {
     "name": "stdout",
     "output_type": "stream",
     "text": [
      "Please provide a number: h\n",
      "Error occurred\n",
      "Final message\n",
      "Please provide a number: 5\n",
      "Correct number entered\n",
      "Final message\n"
     ]
    }
   ],
   "source": [
    "ask_for_int()"
   ]
  },
  {
   "cell_type": "code",
   "execution_count": null,
   "id": "c5894807",
   "metadata": {},
   "outputs": [],
   "source": []
  }
 ],
 "metadata": {
  "kernelspec": {
   "display_name": "Python 3 (ipykernel)",
   "language": "python",
   "name": "python3"
  },
  "language_info": {
   "codemirror_mode": {
    "name": "ipython",
    "version": 3
   },
   "file_extension": ".py",
   "mimetype": "text/x-python",
   "name": "python",
   "nbconvert_exporter": "python",
   "pygments_lexer": "ipython3",
   "version": "3.9.12"
  }
 },
 "nbformat": 4,
 "nbformat_minor": 5
}
