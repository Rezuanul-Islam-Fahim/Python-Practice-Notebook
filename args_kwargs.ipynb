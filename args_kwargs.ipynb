{
 "cells": [
  {
   "cell_type": "markdown",
   "id": "ab29c7d3",
   "metadata": {},
   "source": [
    "# *args"
   ]
  },
  {
   "cell_type": "code",
   "execution_count": 1,
   "id": "72d5b996",
   "metadata": {},
   "outputs": [],
   "source": [
    "def myfunc(a,b):\n",
    "    return sum((a,b))"
   ]
  },
  {
   "cell_type": "code",
   "execution_count": 2,
   "id": "aeb984ab",
   "metadata": {},
   "outputs": [
    {
     "data": {
      "text/plain": [
       "9"
      ]
     },
     "execution_count": 2,
     "metadata": {},
     "output_type": "execute_result"
    }
   ],
   "source": [
    "myfunc(4,5)"
   ]
  },
  {
   "cell_type": "code",
   "execution_count": 3,
   "id": "efa75fb9",
   "metadata": {},
   "outputs": [],
   "source": [
    "def myfunc(a,b):\n",
    "    return sum([a,b])"
   ]
  },
  {
   "cell_type": "code",
   "execution_count": 4,
   "id": "227c659c",
   "metadata": {},
   "outputs": [
    {
     "data": {
      "text/plain": [
       "7"
      ]
     },
     "execution_count": 4,
     "metadata": {},
     "output_type": "execute_result"
    }
   ],
   "source": [
    "myfunc(3,4)"
   ]
  },
  {
   "cell_type": "code",
   "execution_count": 5,
   "id": "a89b840a",
   "metadata": {},
   "outputs": [],
   "source": [
    "def myfunc(*args):\n",
    "    return sum(args)"
   ]
  },
  {
   "cell_type": "code",
   "execution_count": 6,
   "id": "61fd5da2",
   "metadata": {},
   "outputs": [
    {
     "data": {
      "text/plain": [
       "29"
      ]
     },
     "execution_count": 6,
     "metadata": {},
     "output_type": "execute_result"
    }
   ],
   "source": [
    "myfunc(5,6,7,8,3)"
   ]
  },
  {
   "cell_type": "code",
   "execution_count": 7,
   "id": "a52f3e76",
   "metadata": {},
   "outputs": [
    {
     "data": {
      "text/plain": [
       "56"
      ]
     },
     "execution_count": 7,
     "metadata": {},
     "output_type": "execute_result"
    }
   ],
   "source": [
    "myfunc(5,6,7,8,9,0,7,5,5,4)"
   ]
  },
  {
   "cell_type": "code",
   "execution_count": 8,
   "id": "40a0b5cc",
   "metadata": {},
   "outputs": [],
   "source": [
    "def myfunc(*args):\n",
    "    for i in args:\n",
    "        print(i)"
   ]
  },
  {
   "cell_type": "code",
   "execution_count": 9,
   "id": "cf152dba",
   "metadata": {},
   "outputs": [
    {
     "name": "stdout",
     "output_type": "stream",
     "text": [
      "4\n",
      "6\n",
      "5\n",
      "5\n"
     ]
    }
   ],
   "source": [
    "myfunc(4,6,5,5)"
   ]
  },
  {
   "cell_type": "markdown",
   "id": "b868a629",
   "metadata": {},
   "source": [
    "# **kwargs"
   ]
  },
  {
   "cell_type": "code",
   "execution_count": 10,
   "id": "a384a7e1",
   "metadata": {},
   "outputs": [],
   "source": [
    "def myfunc(**kwargs):\n",
    "    print(kwargs)\n",
    "    if 'fruit' in kwargs:\n",
    "        print('Fruit: {}'.format(kwargs['fruit']))\n",
    "    else:\n",
    "        print('Did not find fruit')"
   ]
  },
  {
   "cell_type": "code",
   "execution_count": 11,
   "id": "10bcd58c",
   "metadata": {},
   "outputs": [
    {
     "name": "stdout",
     "output_type": "stream",
     "text": [
      "{'fruit': 'Mango', 'sport': 'Football'}\n",
      "Fruit: Mango\n"
     ]
    }
   ],
   "source": [
    "myfunc(fruit='Mango', sport='Football')"
   ]
  },
  {
   "cell_type": "code",
   "execution_count": 12,
   "id": "c8e65959",
   "metadata": {},
   "outputs": [
    {
     "name": "stdout",
     "output_type": "stream",
     "text": [
      "{'sport': 'Football'}\n",
      "Did not find fruit\n"
     ]
    }
   ],
   "source": [
    "myfunc(sport='Football')"
   ]
  },
  {
   "cell_type": "code",
   "execution_count": 13,
   "id": "0bf870d3",
   "metadata": {},
   "outputs": [
    {
     "name": "stdout",
     "output_type": "stream",
     "text": [
      "{'fruit': 'Mango', 'sport': 'Football'}\n",
      "Fruit: Mango\n"
     ]
    }
   ],
   "source": [
    "myfunc(fruit='Mango', sport='Football')"
   ]
  },
  {
   "cell_type": "code",
   "execution_count": null,
   "id": "c576eec1",
   "metadata": {},
   "outputs": [],
   "source": []
  },
  {
   "cell_type": "code",
   "execution_count": 14,
   "id": "31e63f01",
   "metadata": {},
   "outputs": [],
   "source": [
    "def myfunc(*args,**kwargs):\n",
    "    print(args)\n",
    "    print(kwargs)\n",
    "    print(args[3])\n",
    "    print(kwargs['fruit'])"
   ]
  },
  {
   "cell_type": "code",
   "execution_count": 15,
   "id": "06eac0b1",
   "metadata": {},
   "outputs": [
    {
     "name": "stdout",
     "output_type": "stream",
     "text": [
      "(10, 10, 23, 45, 67, 54)\n",
      "{'fruit': 'Mango', 'sport': 'football'}\n",
      "45\n",
      "Mango\n"
     ]
    }
   ],
   "source": [
    "myfunc(10,10,23,45,67,54,fruit='Mango',sport='football')"
   ]
  },
  {
   "cell_type": "code",
   "execution_count": null,
   "id": "c2589aa5",
   "metadata": {},
   "outputs": [],
   "source": []
  }
 ],
 "metadata": {
  "kernelspec": {
   "display_name": "Python 3 (ipykernel)",
   "language": "python",
   "name": "python3"
  },
  "language_info": {
   "codemirror_mode": {
    "name": "ipython",
    "version": 3
   },
   "file_extension": ".py",
   "mimetype": "text/x-python",
   "name": "python",
   "nbconvert_exporter": "python",
   "pygments_lexer": "ipython3",
   "version": "3.9.12"
  }
 },
 "nbformat": 4,
 "nbformat_minor": 5
}
