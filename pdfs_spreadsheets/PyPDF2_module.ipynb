{
 "cells": [
  {
   "cell_type": "code",
   "execution_count": 1,
   "id": "94e82034",
   "metadata": {},
   "outputs": [],
   "source": [
    "import PyPDF2"
   ]
  },
  {
   "cell_type": "code",
   "execution_count": 2,
   "id": "4b5baf7b",
   "metadata": {},
   "outputs": [],
   "source": [
    "file = open('Working_Business_Proposal.pdf', mode='rb')"
   ]
  },
  {
   "cell_type": "code",
   "execution_count": 3,
   "id": "4192d4a3",
   "metadata": {},
   "outputs": [],
   "source": [
    "pdf_reader = PyPDF2.PdfFileReader(file)"
   ]
  },
  {
   "cell_type": "code",
   "execution_count": 4,
   "id": "cc5a5dd8",
   "metadata": {},
   "outputs": [
    {
     "data": {
      "text/plain": [
       "5"
      ]
     },
     "execution_count": 4,
     "metadata": {},
     "output_type": "execute_result"
    }
   ],
   "source": [
    "pdf_reader.numPages"
   ]
  },
  {
   "cell_type": "code",
   "execution_count": 5,
   "id": "c04c0529",
   "metadata": {},
   "outputs": [],
   "source": [
    "page_one = pdf_reader.getPage(0)"
   ]
  },
  {
   "cell_type": "code",
   "execution_count": 6,
   "id": "4ad88c77",
   "metadata": {},
   "outputs": [],
   "source": [
    "page_one_text = page_one.extract_text()"
   ]
  },
  {
   "cell_type": "code",
   "execution_count": 7,
   "id": "118691d5",
   "metadata": {},
   "outputs": [],
   "source": [
    "# page_one_text"
   ]
  },
  {
   "cell_type": "code",
   "execution_count": 8,
   "id": "4bb7ac23",
   "metadata": {},
   "outputs": [],
   "source": [
    "file.close()"
   ]
  },
  {
   "cell_type": "code",
   "execution_count": 9,
   "id": "2919fb2d",
   "metadata": {},
   "outputs": [],
   "source": [
    "file = open('Working_Business_Proposal.pdf', mode='rb')"
   ]
  },
  {
   "cell_type": "code",
   "execution_count": 10,
   "id": "02e279ed",
   "metadata": {},
   "outputs": [],
   "source": [
    "pdf_reader = PyPDF2.PdfFileReader(file)"
   ]
  },
  {
   "cell_type": "code",
   "execution_count": 11,
   "id": "b6466f78",
   "metadata": {},
   "outputs": [],
   "source": [
    "first_page = pdf_reader.getPage(0)"
   ]
  },
  {
   "cell_type": "code",
   "execution_count": 12,
   "id": "465c8d3b",
   "metadata": {},
   "outputs": [],
   "source": [
    "pdf_writer = PyPDF2.PdfFileWriter()"
   ]
  },
  {
   "cell_type": "code",
   "execution_count": 13,
   "id": "798fdf88",
   "metadata": {},
   "outputs": [],
   "source": [
    "pdf_writer.add_page(first_page)"
   ]
  },
  {
   "cell_type": "code",
   "execution_count": 14,
   "id": "9661ac39",
   "metadata": {},
   "outputs": [],
   "source": [
    "new_file = open('new_pdf.pdf', mode='wb')"
   ]
  },
  {
   "cell_type": "code",
   "execution_count": 15,
   "id": "1e2ae610",
   "metadata": {},
   "outputs": [
    {
     "data": {
      "text/plain": [
       "(False, <_io.BufferedWriter name='new_pdf.pdf'>)"
      ]
     },
     "execution_count": 15,
     "metadata": {},
     "output_type": "execute_result"
    }
   ],
   "source": [
    "pdf_writer.write(new_file)"
   ]
  },
  {
   "cell_type": "code",
   "execution_count": 16,
   "id": "bfed0f1a",
   "metadata": {},
   "outputs": [],
   "source": [
    "new_file.close()"
   ]
  },
  {
   "cell_type": "code",
   "execution_count": 17,
   "id": "9b379c44",
   "metadata": {},
   "outputs": [],
   "source": [
    "file = open('Working_Business_Proposal.pdf', mode='rb')"
   ]
  },
  {
   "cell_type": "code",
   "execution_count": 18,
   "id": "ae226ced",
   "metadata": {},
   "outputs": [],
   "source": [
    "pdf_reader = PyPDF2.PdfFileReader(file)"
   ]
  },
  {
   "cell_type": "code",
   "execution_count": 19,
   "id": "5d4fad16",
   "metadata": {},
   "outputs": [],
   "source": [
    "all_text = []\n",
    "\n",
    "for n in range(pdf_reader.numPages):\n",
    "    all_text.append(pdf_reader.getPage(n).extract_text())"
   ]
  },
  {
   "cell_type": "code",
   "execution_count": 20,
   "id": "014914bb",
   "metadata": {},
   "outputs": [],
   "source": [
    "# all_text"
   ]
  },
  {
   "cell_type": "code",
   "execution_count": null,
   "id": "07c293d1",
   "metadata": {},
   "outputs": [],
   "source": []
  }
 ],
 "metadata": {
  "kernelspec": {
   "display_name": "Python 3 (ipykernel)",
   "language": "python",
   "name": "python3"
  },
  "language_info": {
   "codemirror_mode": {
    "name": "ipython",
    "version": 3
   },
   "file_extension": ".py",
   "mimetype": "text/x-python",
   "name": "python",
   "nbconvert_exporter": "python",
   "pygments_lexer": "ipython3",
   "version": "3.9.12"
  }
 },
 "nbformat": 4,
 "nbformat_minor": 5
}
