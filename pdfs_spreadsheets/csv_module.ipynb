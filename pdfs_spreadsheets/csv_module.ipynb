{
 "cells": [
  {
   "cell_type": "code",
   "execution_count": 1,
   "id": "6e92ca9c",
   "metadata": {},
   "outputs": [],
   "source": [
    "import csv"
   ]
  },
  {
   "cell_type": "code",
   "execution_count": 2,
   "id": "10db390d",
   "metadata": {},
   "outputs": [],
   "source": [
    "file = open('example.csv', encoding='utf-8')"
   ]
  },
  {
   "cell_type": "code",
   "execution_count": 3,
   "id": "e47623f3",
   "metadata": {},
   "outputs": [],
   "source": [
    "csv_data = csv.reader(file)"
   ]
  },
  {
   "cell_type": "code",
   "execution_count": 4,
   "id": "7d18705f",
   "metadata": {},
   "outputs": [],
   "source": [
    "data_list = list(csv_data)"
   ]
  },
  {
   "cell_type": "code",
   "execution_count": 5,
   "id": "63f29ecd",
   "metadata": {
    "scrolled": true
   },
   "outputs": [
    {
     "data": {
      "text/plain": [
       "['id', 'first_name', 'last_name', 'email', 'gender', 'ip_address', 'city']"
      ]
     },
     "execution_count": 5,
     "metadata": {},
     "output_type": "execute_result"
    }
   ],
   "source": [
    "data_list[0]"
   ]
  },
  {
   "cell_type": "code",
   "execution_count": 6,
   "id": "6103c53e",
   "metadata": {},
   "outputs": [],
   "source": [
    "emails = []\n",
    "\n",
    "for item in data_list[1:]:\n",
    "    emails.append(item[3])"
   ]
  },
  {
   "cell_type": "code",
   "execution_count": 7,
   "id": "98592c56",
   "metadata": {},
   "outputs": [
    {
     "data": {
      "text/plain": [
       "1000"
      ]
     },
     "execution_count": 7,
     "metadata": {},
     "output_type": "execute_result"
    }
   ],
   "source": [
    "len(emails)"
   ]
  },
  {
   "cell_type": "code",
   "execution_count": 8,
   "id": "8b818aee",
   "metadata": {},
   "outputs": [],
   "source": [
    "names = []\n",
    "\n",
    "for item in data_list[1:]:\n",
    "    names.append(item[1]+' '+item[2])"
   ]
  },
  {
   "cell_type": "code",
   "execution_count": 9,
   "id": "ba78f072",
   "metadata": {},
   "outputs": [
    {
     "data": {
      "text/plain": [
       "1000"
      ]
     },
     "execution_count": 9,
     "metadata": {},
     "output_type": "execute_result"
    }
   ],
   "source": [
    "len(names)"
   ]
  },
  {
   "cell_type": "code",
   "execution_count": 10,
   "id": "875fa374",
   "metadata": {},
   "outputs": [],
   "source": [
    "file_to_output = open('to_save.csv', mode='w', newline='')"
   ]
  },
  {
   "cell_type": "code",
   "execution_count": 11,
   "id": "871ea180",
   "metadata": {},
   "outputs": [],
   "source": [
    "csv_writer = csv.writer(file_to_output, delimiter=',')"
   ]
  },
  {
   "cell_type": "code",
   "execution_count": 12,
   "id": "654890c7",
   "metadata": {},
   "outputs": [
    {
     "data": {
      "text/plain": [
       "7"
      ]
     },
     "execution_count": 12,
     "metadata": {},
     "output_type": "execute_result"
    }
   ],
   "source": [
    "csv_writer.writerow(['a','b','c'])"
   ]
  },
  {
   "cell_type": "code",
   "execution_count": 13,
   "id": "81e56a5f",
   "metadata": {},
   "outputs": [],
   "source": [
    "csv_writer.writerows([[1,2,3],[4,5,6]])"
   ]
  },
  {
   "cell_type": "code",
   "execution_count": 14,
   "id": "760d7fc7",
   "metadata": {},
   "outputs": [],
   "source": [
    "file_to_output.close()"
   ]
  },
  {
   "cell_type": "code",
   "execution_count": null,
   "id": "0a904ee4",
   "metadata": {},
   "outputs": [],
   "source": []
  }
 ],
 "metadata": {
  "kernelspec": {
   "display_name": "Python 3 (ipykernel)",
   "language": "python",
   "name": "python3"
  },
  "language_info": {
   "codemirror_mode": {
    "name": "ipython",
    "version": 3
   },
   "file_extension": ".py",
   "mimetype": "text/x-python",
   "name": "python",
   "nbconvert_exporter": "python",
   "pygments_lexer": "ipython3",
   "version": "3.9.12"
  }
 },
 "nbformat": 4,
 "nbformat_minor": 5
}
