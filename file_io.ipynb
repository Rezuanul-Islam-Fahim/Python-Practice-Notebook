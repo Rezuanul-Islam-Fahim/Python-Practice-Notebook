{
 "cells": [
  {
   "cell_type": "markdown",
   "id": "e75f20a7",
   "metadata": {},
   "source": [
    "# Reading files"
   ]
  },
  {
   "cell_type": "code",
   "execution_count": 1,
   "id": "58068ffb",
   "metadata": {},
   "outputs": [
    {
     "name": "stdout",
     "output_type": "stream",
     "text": [
      "Overwriting test.txt\n"
     ]
    }
   ],
   "source": [
    "%%writefile test.txt\n",
    "This is a line.\n",
    "This is the second line.\n",
    "This is the third line."
   ]
  },
  {
   "cell_type": "code",
   "execution_count": 2,
   "id": "7c55c700",
   "metadata": {},
   "outputs": [
    {
     "data": {
      "text/plain": [
       "'C:\\\\Users\\\\rifah\\\\Dropbox\\\\Coding Practice\\\\Python\\\\Python-Practice-Notebook'"
      ]
     },
     "execution_count": 2,
     "metadata": {},
     "output_type": "execute_result"
    }
   ],
   "source": [
    "pwd"
   ]
  },
  {
   "cell_type": "code",
   "execution_count": 3,
   "id": "940bbbaa",
   "metadata": {},
   "outputs": [],
   "source": [
    "my_file = open('test.txt')"
   ]
  },
  {
   "cell_type": "code",
   "execution_count": 4,
   "id": "4dceb38d",
   "metadata": {},
   "outputs": [
    {
     "data": {
      "text/plain": [
       "'This is a line.\\nThis is the second line.\\nThis is the third line.\\n'"
      ]
     },
     "execution_count": 4,
     "metadata": {},
     "output_type": "execute_result"
    }
   ],
   "source": [
    "my_file.read()"
   ]
  },
  {
   "cell_type": "code",
   "execution_count": 5,
   "id": "86b711c8",
   "metadata": {},
   "outputs": [
    {
     "data": {
      "text/plain": [
       "''"
      ]
     },
     "execution_count": 5,
     "metadata": {},
     "output_type": "execute_result"
    }
   ],
   "source": [
    "my_file.read()"
   ]
  },
  {
   "cell_type": "code",
   "execution_count": 6,
   "id": "c5bac103",
   "metadata": {},
   "outputs": [
    {
     "data": {
      "text/plain": [
       "0"
      ]
     },
     "execution_count": 6,
     "metadata": {},
     "output_type": "execute_result"
    }
   ],
   "source": [
    "my_file.seek(0)"
   ]
  },
  {
   "cell_type": "code",
   "execution_count": 7,
   "id": "fc70c79c",
   "metadata": {},
   "outputs": [
    {
     "data": {
      "text/plain": [
       "'This is a line.\\nThis is the second line.\\nThis is the third line.\\n'"
      ]
     },
     "execution_count": 7,
     "metadata": {},
     "output_type": "execute_result"
    }
   ],
   "source": [
    "my_file.read()"
   ]
  },
  {
   "cell_type": "code",
   "execution_count": 8,
   "id": "f6e574e8",
   "metadata": {},
   "outputs": [
    {
     "data": {
      "text/plain": [
       "[]"
      ]
     },
     "execution_count": 8,
     "metadata": {},
     "output_type": "execute_result"
    }
   ],
   "source": [
    "my_file.readlines()"
   ]
  },
  {
   "cell_type": "code",
   "execution_count": 9,
   "id": "e960f90f",
   "metadata": {},
   "outputs": [
    {
     "data": {
      "text/plain": [
       "0"
      ]
     },
     "execution_count": 9,
     "metadata": {},
     "output_type": "execute_result"
    }
   ],
   "source": [
    "my_file.seek(0)"
   ]
  },
  {
   "cell_type": "code",
   "execution_count": 10,
   "id": "fce526e7",
   "metadata": {},
   "outputs": [
    {
     "data": {
      "text/plain": [
       "['This is a line.\\n',\n",
       " 'This is the second line.\\n',\n",
       " 'This is the third line.\\n']"
      ]
     },
     "execution_count": 10,
     "metadata": {},
     "output_type": "execute_result"
    }
   ],
   "source": [
    "my_file.readlines()"
   ]
  },
  {
   "cell_type": "code",
   "execution_count": 11,
   "id": "07c0f479",
   "metadata": {},
   "outputs": [],
   "source": [
    "my_file.close()"
   ]
  },
  {
   "cell_type": "code",
   "execution_count": 12,
   "id": "f18acbbb",
   "metadata": {},
   "outputs": [],
   "source": [
    "with open('test.txt') as my_new_file:\n",
    "    contents = my_new_file.read()"
   ]
  },
  {
   "cell_type": "code",
   "execution_count": 13,
   "id": "840a59df",
   "metadata": {},
   "outputs": [
    {
     "data": {
      "text/plain": [
       "'This is a line.\\nThis is the second line.\\nThis is the third line.\\n'"
      ]
     },
     "execution_count": 13,
     "metadata": {},
     "output_type": "execute_result"
    }
   ],
   "source": [
    "contents"
   ]
  },
  {
   "cell_type": "markdown",
   "id": "58774008",
   "metadata": {},
   "source": [
    "# Writing files"
   ]
  },
  {
   "cell_type": "code",
   "execution_count": 14,
   "id": "26fc3f3c",
   "metadata": {},
   "outputs": [
    {
     "name": "stdout",
     "output_type": "stream",
     "text": [
      "Overwriting new_test.txt\n"
     ]
    }
   ],
   "source": [
    "%%writefile new_test.txt\n",
    "This is a sample line."
   ]
  },
  {
   "cell_type": "code",
   "execution_count": 15,
   "id": "a5994894",
   "metadata": {},
   "outputs": [
    {
     "name": "stdout",
     "output_type": "stream",
     "text": [
      "This is a sample line.\n",
      "\n"
     ]
    }
   ],
   "source": [
    "with open('new_test.txt') as new_file:\n",
    "    print(new_file.read())"
   ]
  },
  {
   "cell_type": "code",
   "execution_count": 16,
   "id": "073446c9",
   "metadata": {},
   "outputs": [],
   "source": [
    "with open('new_test.txt',mode='a') as new_file:\n",
    "    new_file.write('This is new line.')"
   ]
  },
  {
   "cell_type": "code",
   "execution_count": 17,
   "id": "5820ddb6",
   "metadata": {},
   "outputs": [
    {
     "name": "stdout",
     "output_type": "stream",
     "text": [
      "This is a sample line.\n",
      "This is new line.\n"
     ]
    }
   ],
   "source": [
    "with open('new_test.txt',mode='r') as new_file:\n",
    "    print(new_file.read())"
   ]
  },
  {
   "cell_type": "code",
   "execution_count": 18,
   "id": "0ce4651a",
   "metadata": {},
   "outputs": [],
   "source": [
    "with open('new_test.txt','w') as new_file:\n",
    "    new_file.write('This is a sample text document.')"
   ]
  },
  {
   "cell_type": "code",
   "execution_count": 19,
   "id": "32276ddb",
   "metadata": {},
   "outputs": [
    {
     "name": "stdout",
     "output_type": "stream",
     "text": [
      "This is a sample text document.\n"
     ]
    }
   ],
   "source": [
    "with open('new_test.txt','r') as new_file:\n",
    "    print(new_file.read())"
   ]
  },
  {
   "cell_type": "code",
   "execution_count": 20,
   "id": "a36656ae",
   "metadata": {},
   "outputs": [],
   "source": [
    "with open('new_test1.txt','w') as new_file:\n",
    "    new_file.write('This is sample text document')"
   ]
  },
  {
   "cell_type": "code",
   "execution_count": 21,
   "id": "552fa833",
   "metadata": {},
   "outputs": [
    {
     "name": "stdout",
     "output_type": "stream",
     "text": [
      "This is sample text document\n"
     ]
    }
   ],
   "source": [
    "with open('new_test1.txt',mode='r') as new_file:\n",
    "    print(new_file.read())"
   ]
  },
  {
   "cell_type": "code",
   "execution_count": 22,
   "id": "4fa35fd6",
   "metadata": {},
   "outputs": [
    {
     "name": "stdout",
     "output_type": "stream",
     "text": [
      "This is sample text document\n"
     ]
    }
   ],
   "source": [
    "with open('new_test1.txt','w+') as new_file:\n",
    "    new_file.write('This is sample text document')\n",
    "    new_file.seek(0)\n",
    "    print(new_file.read())"
   ]
  },
  {
   "cell_type": "code",
   "execution_count": 23,
   "id": "d20432c6",
   "metadata": {},
   "outputs": [
    {
     "name": "stdout",
     "output_type": "stream",
     "text": [
      "This is sample text document\n"
     ]
    }
   ],
   "source": [
    "with open('new_test1.txt','r') as new_file:\n",
    "    print(new_file.read())"
   ]
  },
  {
   "cell_type": "markdown",
   "id": "2c4b8854",
   "metadata": {},
   "source": [
    "# Iterating through a File"
   ]
  },
  {
   "cell_type": "code",
   "execution_count": 24,
   "id": "30157a80",
   "metadata": {},
   "outputs": [
    {
     "name": "stdout",
     "output_type": "stream",
     "text": [
      "This is a line.\n",
      "\n",
      "This is the second line.\n",
      "\n",
      "This is the third line.\n",
      "\n"
     ]
    }
   ],
   "source": [
    "for line in open('test.txt'):\n",
    "    print(line)"
   ]
  },
  {
   "cell_type": "code",
   "execution_count": null,
   "id": "c838d9d3",
   "metadata": {},
   "outputs": [],
   "source": []
  }
 ],
 "metadata": {
  "kernelspec": {
   "display_name": "Python 3 (ipykernel)",
   "language": "python",
   "name": "python3"
  },
  "language_info": {
   "codemirror_mode": {
    "name": "ipython",
    "version": 3
   },
   "file_extension": ".py",
   "mimetype": "text/x-python",
   "name": "python",
   "nbconvert_exporter": "python",
   "pygments_lexer": "ipython3",
   "version": "3.11.4"
  }
 },
 "nbformat": 4,
 "nbformat_minor": 5
}
